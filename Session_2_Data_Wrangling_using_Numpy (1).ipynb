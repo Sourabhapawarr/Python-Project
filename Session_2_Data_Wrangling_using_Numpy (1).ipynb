{
  "cells": [
    {
      "cell_type": "code",
      "source": [],
      "metadata": {
        "id": "pwlcfN8nkwhh"
      },
      "execution_count": null,
      "outputs": []
    },
    {
      "cell_type": "markdown",
      "metadata": {
        "id": "zLxrdYSFj4mV"
      },
      "source": [
        "# Introduction to NumPy"
      ]
    },
    {
      "cell_type": "markdown",
      "metadata": {
        "id": "J-XZ0HSIj4mY"
      },
      "source": [
        "**NumPy** is a library written for scientific computing and data analysis. It stands for numerical python.\n",
        "\n",
        "The most basic object in NumPy is the ```array```, which is **homogenous** in nature. By homogenous, we mean that all the elements in a numpy array have to be of the **same data type**, which is commonly numeric (float or integer). "
      ]
    },
    {
      "cell_type": "markdown",
      "metadata": {
        "id": "uwJk5X1Ij4mn"
      },
      "source": [
        "### Creating NumPy Arrays \n",
        "\n",
        "There are multiple ways to create numpy arrays, the most commmon ones being:\n",
        "* Convert lists or tuples to arrays using ```np.array()```\n",
        "* Initialise arrays of fixed size (when the size is known) "
      ]
    },
    {
      "cell_type": "code",
      "execution_count": null,
      "metadata": {
        "colab": {
          "base_uri": "https://localhost:8080/"
        },
        "id": "Ltii6cusj4mp",
        "outputId": "61641c71-6765-4deb-bf77-61ca68dc3d64"
      },
      "outputs": [
        {
          "output_type": "stream",
          "name": "stdout",
          "text": [
            "Looking in indexes: https://pypi.org/simple, https://us-python.pkg.dev/colab-wheels/public/simple/\n",
            "Requirement already satisfied: numpy in /usr/local/lib/python3.7/dist-packages (1.21.6)\n"
          ]
        }
      ],
      "source": [
        "! pip install numpy         # to insatall numpy in notebook"
      ]
    },
    {
      "cell_type": "code",
      "execution_count": null,
      "metadata": {
        "colab": {
          "base_uri": "https://localhost:8080/"
        },
        "id": "1T9hmYchj4mq",
        "outputId": "5e60e714-5e4e-4c87-b84f-87b3a9b319a1"
      },
      "outputs": [
        {
          "output_type": "stream",
          "name": "stdout",
          "text": [
            "1.21.6\n"
          ]
        }
      ],
      "source": [
        "# Import the numpy library\n",
        "# np is simply an alias, you may use any other alias, though np is quite standard\n",
        "import numpy as np\n",
        "# print(np.__version__)    # check the version of the numpy library"
      ]
    },
    {
      "cell_type": "code",
      "source": [
        "import numpy as np   #calling numpy as 'np'"
      ],
      "metadata": {
        "id": "6eU46ey3lwqS"
      },
      "execution_count": null,
      "outputs": []
    },
    {
      "cell_type": "code",
      "source": [
        "numbers=[1,2,3]  # list of the numbers\n",
        "arr=np.array(numbers)    # creates a numpy array\n",
        "arr"
      ],
      "metadata": {
        "colab": {
          "base_uri": "https://localhost:8080/"
        },
        "id": "iCu6ONkkl3Pr",
        "outputId": "a100ee64-c791-4af1-d1ff-cd18f4458b94"
      },
      "execution_count": null,
      "outputs": [
        {
          "output_type": "execute_result",
          "data": {
            "text/plain": [
              "array([1, 2, 3])"
            ]
          },
          "metadata": {},
          "execution_count": 10
        }
      ]
    },
    {
      "cell_type": "markdown",
      "metadata": {
        "id": "3lGcXPGqj4mb"
      },
      "source": [
        "### Numpy vs Lists "
      ]
    },
    {
      "cell_type": "code",
      "execution_count": null,
      "metadata": {
        "colab": {
          "base_uri": "https://localhost:8080/",
          "height": 201
        },
        "id": "8TI5txeWj4md",
        "outputId": "eeceb18b-3d05-4701-9e67-099372f06aa1"
      },
      "outputs": [
        {
          "output_type": "error",
          "ename": "TypeError",
          "evalue": "ignored",
          "traceback": [
            "\u001b[0;31m---------------------------------------------------------------------------\u001b[0m",
            "\u001b[0;31mTypeError\u001b[0m                                 Traceback (most recent call last)",
            "\u001b[0;32m<ipython-input-11-82aed4feb3af>\u001b[0m in \u001b[0;36m<module>\u001b[0;34m\u001b[0m\n\u001b[1;32m      4\u001b[0m \u001b[0;31m# try to multiply 2.5 directly to the created list\u001b[0m\u001b[0;34m\u001b[0m\u001b[0;34m\u001b[0m\u001b[0;34m\u001b[0m\u001b[0m\n\u001b[1;32m      5\u001b[0m \u001b[0;34m\u001b[0m\u001b[0m\n\u001b[0;32m----> 6\u001b[0;31m \u001b[0mlist_1\u001b[0m\u001b[0;34m*\u001b[0m\u001b[0;36m2.5\u001b[0m\u001b[0;34m\u001b[0m\u001b[0;34m\u001b[0m\u001b[0m\n\u001b[0m",
            "\u001b[0;31mTypeError\u001b[0m: can't multiply sequence by non-int of type 'float'"
          ]
        }
      ],
      "source": [
        "# intialise a list with the following elements: 1, 2, 3, 4, 5\n",
        "list_1=[1,2,3,4,5]\n",
        "\n",
        "# try to multiply 2.5 directly to the created list\n",
        "\n",
        "list_1*2.5"
      ]
    },
    {
      "cell_type": "markdown",
      "metadata": {
        "id": "EVgyFCvPj4mf"
      },
      "source": [
        "Lists cannot operate over the entire data together. You need to run _map_ or _lambda_ functions to multiply each element with 2.5. "
      ]
    },
    {
      "cell_type": "code",
      "execution_count": null,
      "metadata": {
        "colab": {
          "base_uri": "https://localhost:8080/"
        },
        "id": "1I1rRen4j4mg",
        "outputId": "7c683fcd-8902-4c9a-ef13-8755efcabd76"
      },
      "outputs": [
        {
          "output_type": "stream",
          "name": "stdout",
          "text": [
            "[2.5, 5.0, 7.5, 10.0, 12.5]\n"
          ]
        }
      ],
      "source": [
        "def mul(x):\n",
        "    return x*2.5\n",
        "print(list(map(mul,list_1)))"
      ]
    },
    {
      "cell_type": "code",
      "execution_count": null,
      "metadata": {
        "id": "CoOeLa_Ij4mh"
      },
      "outputs": [],
      "source": [
        "list_2=list(map(lambda x: x*2.5,list_1))"
      ]
    },
    {
      "cell_type": "code",
      "execution_count": null,
      "metadata": {
        "colab": {
          "base_uri": "https://localhost:8080/"
        },
        "id": "QMtkVJ2Nj4mi",
        "outputId": "65fea0d5-b095-4d39-eb39-1093a1a11478"
      },
      "outputs": [
        {
          "output_type": "stream",
          "name": "stdout",
          "text": [
            "[2.5, 5.0, 7.5, 10.0, 12.5]\n"
          ]
        }
      ],
      "source": [
        "print(list_2)"
      ]
    },
    {
      "cell_type": "code",
      "execution_count": null,
      "metadata": {
        "colab": {
          "base_uri": "https://localhost:8080/"
        },
        "id": "14lkGX9Wj4mm",
        "outputId": "77cd7313-5e4c-4bc8-f0a7-54bda1e6e92b"
      },
      "outputs": [
        {
          "output_type": "execute_result",
          "data": {
            "text/plain": [
              "[1, 2, 3, 4, 5, 1, 2, 3, 4, 5]"
            ]
          },
          "metadata": {},
          "execution_count": 8
        }
      ],
      "source": [
        "list_1*2         # if we multiply list with an integer it will perform repetition"
      ]
    },
    {
      "cell_type": "markdown",
      "source": [
        "Let's try to perform the same using a NumPy array."
      ],
      "metadata": {
        "id": "9TjY6dy3mrt5"
      }
    },
    {
      "cell_type": "code",
      "source": [
        "list_1"
      ],
      "metadata": {
        "colab": {
          "base_uri": "https://localhost:8080/"
        },
        "id": "lezF2caRn5xO",
        "outputId": "771d44f2-26de-4e49-9d5b-0f8418f0e981"
      },
      "execution_count": null,
      "outputs": [
        {
          "output_type": "execute_result",
          "data": {
            "text/plain": [
              "[1, 2, 3, 4, 5]"
            ]
          },
          "metadata": {},
          "execution_count": 12
        }
      ]
    },
    {
      "cell_type": "code",
      "execution_count": null,
      "metadata": {
        "id": "ECXfWICuj4ms"
      },
      "outputs": [],
      "source": [
        "# Creating a 1-D array using a list\n",
        "# np.array() takes in a list or a tuple as argument, and converts into an array\n",
        "\n",
        "np_list = np.array(list_1)"
      ]
    },
    {
      "cell_type": "code",
      "execution_count": null,
      "metadata": {
        "colab": {
          "base_uri": "https://localhost:8080/"
        },
        "id": "t9SsMieGj4ms",
        "outputId": "db8f6ac8-698a-47a8-b3c6-a9bf0b8a4ead"
      },
      "outputs": [
        {
          "output_type": "execute_result",
          "data": {
            "text/plain": [
              "array([1, 2, 3, 4, 5])"
            ]
          },
          "metadata": {},
          "execution_count": 14
        }
      ],
      "source": [
        "np_list"
      ]
    },
    {
      "cell_type": "code",
      "execution_count": null,
      "metadata": {
        "colab": {
          "base_uri": "https://localhost:8080/"
        },
        "id": "h1vAM4OIj4mt",
        "outputId": "7f7329c2-cf44-4472-ba66-7bebeeb417e9"
      },
      "outputs": [
        {
          "output_type": "execute_result",
          "data": {
            "text/plain": [
              "array([ 2.5,  5. ,  7.5, 10. , 12.5])"
            ]
          },
          "metadata": {},
          "execution_count": 15
        }
      ],
      "source": [
        "# Multiply each element with 2.5 \n",
        "\n",
        "np_list*2.5"
      ]
    },
    {
      "cell_type": "code",
      "execution_count": null,
      "metadata": {
        "colab": {
          "base_uri": "https://localhost:8080/"
        },
        "id": "hmEPnXBaj4mu",
        "outputId": "0106126f-bf57-4b3f-f5dc-b5d4e6c0a292"
      },
      "outputs": [
        {
          "output_type": "stream",
          "name": "stdout",
          "text": [
            "[1 2 3 4 5] [1, 2, 3, 4, 5]\n"
          ]
        }
      ],
      "source": [
        "# Print the result using the print command. Compare the structure of list and array.\n",
        "print(np_list,list_1)"
      ]
    },
    {
      "cell_type": "markdown",
      "source": [
        "## Creating 1D numpy array using different data types"
      ],
      "metadata": {
        "id": "KXU2FdpindXm"
      }
    },
    {
      "cell_type": "code",
      "execution_count": null,
      "metadata": {
        "colab": {
          "base_uri": "https://localhost:8080/"
        },
        "id": "1iU7QRIkj4mu",
        "outputId": "6bc2e68f-d534-4860-af7b-c5886815f898"
      },
      "outputs": [
        {
          "output_type": "execute_result",
          "data": {
            "text/plain": [
              "array(['1', 'abc', 'True'], dtype='<U21')"
            ]
          },
          "metadata": {},
          "execution_count": 17
        }
      ],
      "source": [
        "# Create a 1-D array using with the elements (1, abc, True)\n",
        "\n",
        "np.array([1,\"abc\",True])"
      ]
    },
    {
      "cell_type": "code",
      "execution_count": null,
      "metadata": {
        "colab": {
          "base_uri": "https://localhost:8080/"
        },
        "id": "pY4XdBYzj4mv",
        "outputId": "6aa4b8c3-123c-463e-9229-97a12d940d7c"
      },
      "outputs": [
        {
          "output_type": "stream",
          "name": "stdout",
          "text": [
            "['1' 'abc' 'True']\n"
          ]
        }
      ],
      "source": [
        "# Create a 1-D array using with the elements (1, abc, True)\n",
        "\n",
        "a=np.array([1,\"abc\",True])\n",
        "print(a)"
      ]
    },
    {
      "cell_type": "markdown",
      "source": [
        "All the elements in a numpy array have the same data type. You can check the data type of an array using the `.dtype`\n",
        "\n",
        "The type of the data can be described by type attribute as `.dtype.type`"
      ],
      "metadata": {
        "id": "ipNPvph_tiPW"
      }
    },
    {
      "cell_type": "code",
      "source": [
        "print('type(a): ',type(a))                  # check the data type of the array\n",
        "print('a.dtype: ',a.dtype)                  # check the data type of the elements of the array\n",
        "print('a.dtype.type: ',a.dtype.type)        # check the data type of the elements of the array\n"
      ],
      "metadata": {
        "colab": {
          "base_uri": "https://localhost:8080/"
        },
        "id": "J_CNN4vVtrAz",
        "outputId": "9623d696-d5ee-4333-eb95-f22bb43acc24"
      },
      "execution_count": null,
      "outputs": [
        {
          "output_type": "stream",
          "name": "stdout",
          "text": [
            "type(a):  <class 'numpy.ndarray'>\n",
            "a.dtype:  <U21\n",
            "a.dtype.type:  <class 'numpy.str_'>\n"
          ]
        }
      ]
    },
    {
      "cell_type": "code",
      "execution_count": null,
      "metadata": {
        "colab": {
          "base_uri": "https://localhost:8080/"
        },
        "id": "eggQTiNUj4mw",
        "outputId": "0dc0c947-4f29-40c2-8423-d51255eb02b9"
      },
      "outputs": [
        {
          "output_type": "stream",
          "name": "stdout",
          "text": [
            "<class 'numpy.ndarray'>\n",
            "<U6\n",
            "<class 'numpy.str_'>\n"
          ]
        }
      ],
      "source": [
        "x=np.array(['Apple','Banana','Orange'])\n",
        "print(type(x))\n",
        "print(x.dtype)\n",
        "print(x.dtype.type)"
      ]
    },
    {
      "cell_type": "code",
      "execution_count": null,
      "metadata": {
        "id": "-iCmI_M0j4my"
      },
      "outputs": [],
      "source": [
        "list_1=[5,1,5,9]"
      ]
    },
    {
      "cell_type": "code",
      "execution_count": null,
      "metadata": {
        "colab": {
          "base_uri": "https://localhost:8080/"
        },
        "id": "ESuW2Nzsj4my",
        "outputId": "6d9c2c9e-0084-44f2-bf43-6fc6a4c23321"
      },
      "outputs": [
        {
          "output_type": "stream",
          "name": "stdout",
          "text": [
            "int64\n",
            "<class 'numpy.int64'>\n"
          ]
        }
      ],
      "source": [
        "list_1=np.array(list_1)\n",
        "print(list_1.dtype)\n",
        "print(list_1.dtype.type)"
      ]
    },
    {
      "cell_type": "code",
      "execution_count": null,
      "metadata": {
        "colab": {
          "base_uri": "https://localhost:8080/"
        },
        "id": "wc4b-QQZj4my",
        "outputId": "53970fae-5023-4597-9161-ca3c637bb46c"
      },
      "outputs": [
        {
          "output_type": "stream",
          "name": "stdout",
          "text": [
            "float64\n"
          ]
        }
      ],
      "source": [
        "list_2=[5,1.5,5,9]\n",
        "np_list_2=np.array(list_2)\n",
        "print(np_list_2.dtype)"
      ]
    },
    {
      "cell_type": "markdown",
      "source": [
        "### Checking shape, dimensions, size\n",
        "\n",
        "Numpy arrays can have any number of dimensions and different lengths along each dimension. We can inspect the length along each dimension using the `.shape `property of an array.\n",
        "\n",
        "\n",
        "You can get the number of dimensions, and size (number of all elements) of the NumPy array with ndim and size attributes of numpy.ndarray. The built-in function len() returns the size of the first dimension.\n",
        "\n",
        "- Number of dimensions of the NumPy array: `.ndim`\n",
        "\n",
        "- Size of the NumPy array: `.size`\n",
        "\n",
        "- Size of the first dimension of the NumPy array: `len()`\n"
      ],
      "metadata": {
        "id": "uGsTCO-0v0-A"
      }
    },
    {
      "cell_type": "code",
      "execution_count": null,
      "metadata": {
        "colab": {
          "base_uri": "https://localhost:8080/"
        },
        "id": "0oEbL5C-j4mz",
        "outputId": "8a733c65-53a3-42ca-e9f3-136a3464bb9f"
      },
      "outputs": [
        {
          "output_type": "stream",
          "name": "stdout",
          "text": [
            "arr.shape (4,)\n",
            "arr.ndim:  1\n",
            "arr.size:  4\n",
            "len(arr):  4\n"
          ]
        }
      ],
      "source": [
        "list_1=[5,1,5,9]\n",
        "arr=np.array(list_1)\n",
        "print('arr.shape',arr.shape)       # check the shape of the numpy array\n",
        "print('arr.ndim: ',arr.ndim)       # check the dimensions of the numpy array \n",
        "print('arr.size: ',arr.size)       # check the size of the numpy array\n",
        "print('len(arr): ',len(arr))"
      ]
    },
    {
      "cell_type": "code",
      "execution_count": null,
      "metadata": {
        "colab": {
          "base_uri": "https://localhost:8080/"
        },
        "id": "dKNgr3pOj4m0",
        "outputId": "764f4637-ead2-4ceb-e58c-41dd638ce128"
      },
      "outputs": [
        {
          "output_type": "stream",
          "name": "stdout",
          "text": [
            "list_2.ndim:  0\n",
            "list_2.shape:  ()\n",
            "type(list_2):  <class 'numpy.ndarray'>\n",
            "list_2.dtype:  int64\n"
          ]
        }
      ],
      "source": [
        "# create a numpy array of the single element\n",
        "list_2=2\n",
        "list_2=np.array(list_2)\n",
        "print('list_2.ndim: ',list_2.ndim)\n",
        "print('list_2.shape: ',list_2.shape)\n",
        "print('type(list_2): ',type(list_2))\n",
        "print('list_2.dtype: ',list_2.dtype)"
      ]
    },
    {
      "cell_type": "markdown",
      "source": [
        "## Creating 2D and 3D array\n",
        "![](https://i.imgur.com/pMjzthM.png)\n",
        "\n",
        "Numpy is used to create multi dimensional arrays. For 2D array it is having sahpe along two axes axis 0 for rows and axis 1 for columns if we consider it as mxn matrix. Elements in 2D arrays are similar to list of lists. for example,[[1,2,3],[4,5,6]]. The given array will have shape (2,3). \n",
        "\n",
        "For 3D array it will have shape along axis 2 as depth, axis 0 as height and axis 1 as length of the cube. for example [[[1,2,3],[4,5,6],[7,8,9]]]. In this example the shape of the array is (1,3,3)"
      ],
      "metadata": {
        "id": "0vvLFSI4X89k"
      }
    },
    {
      "cell_type": "code",
      "execution_count": null,
      "metadata": {
        "colab": {
          "base_uri": "https://localhost:8080/"
        },
        "id": "wZWYVx1Cj4nA",
        "outputId": "5b1b0e5e-3c8f-4b61-b08c-446f90c3a48b"
      },
      "outputs": [
        {
          "output_type": "execute_result",
          "data": {
            "text/plain": [
              "array([[1, 2, 3],\n",
              "       [4, 5, 6]])"
            ]
          },
          "metadata": {},
          "execution_count": 19
        }
      ],
      "source": [
        "# Creating a 2D array\n",
        "list_1=[[1,2,3],[4,5,6]]\n",
        "arr1=np.array(list_1)\n",
        "arr1"
      ]
    },
    {
      "cell_type": "code",
      "source": [
        "print(arr1.shape)\n",
        "print(arr1.ndim)\n",
        "print(arr1.size)"
      ],
      "metadata": {
        "colab": {
          "base_uri": "https://localhost:8080/"
        },
        "id": "Ej_tvrowo7xP",
        "outputId": "fbc19605-7451-4203-9576-953765fe1fc3"
      },
      "execution_count": null,
      "outputs": [
        {
          "output_type": "stream",
          "name": "stdout",
          "text": [
            "(2, 3)\n",
            "2\n",
            "6\n"
          ]
        }
      ]
    },
    {
      "cell_type": "code",
      "execution_count": null,
      "metadata": {
        "colab": {
          "base_uri": "https://localhost:8080/"
        },
        "id": "GtJ9KrlWj4nD",
        "outputId": "7e30b7d1-bc68-4c90-f50e-8740cb0b0e2d"
      },
      "outputs": [
        {
          "output_type": "stream",
          "name": "stdout",
          "text": [
            "arr12 \n",
            " [[[1 2 3]\n",
            "  [4 5 6]]]\n",
            "arr2.shape:  (1, 2, 3)\n",
            "arr2.ndim:  3\n",
            "arr2.size:  6\n"
          ]
        }
      ],
      "source": [
        "# creating a 3D array\n",
        "list_2=[[[1,2,3],[4,5,6]]]\n",
        "arr2=np.array(list_2)\n",
        "print('arr12 \\n',arr2)\n",
        "print('arr2.shape: ',arr2.shape)\n",
        "print('arr2.ndim: ',arr2.ndim)\n",
        "print('arr2.size: ',arr2.size)"
      ]
    },
    {
      "cell_type": "code",
      "execution_count": null,
      "metadata": {
        "colab": {
          "base_uri": "https://localhost:8080/"
        },
        "id": "hN1YJjbQj4nE",
        "outputId": "f81493df-af2d-45e8-8b53-fef110c4da3c"
      },
      "outputs": [
        {
          "output_type": "execute_result",
          "data": {
            "text/plain": [
              "array([[[1],\n",
              "        [2],\n",
              "        [3]],\n",
              "\n",
              "       [[4],\n",
              "        [5],\n",
              "        [6]]])"
            ]
          },
          "metadata": {},
          "execution_count": 24
        }
      ],
      "source": [
        "list_x=np.array([[[1],[2],[3]],[[4],[5],[6]]])\n",
        "list_x"
      ]
    },
    {
      "cell_type": "code",
      "execution_count": null,
      "metadata": {
        "colab": {
          "base_uri": "https://localhost:8080/"
        },
        "id": "iZPbAnwnj4nF",
        "outputId": "1a1e6745-fc9d-44c5-ccc1-125cc93d7691"
      },
      "outputs": [
        {
          "output_type": "execute_result",
          "data": {
            "text/plain": [
              "array([[[1],\n",
              "        [2],\n",
              "        [3]],\n",
              "\n",
              "       [[4],\n",
              "        [5],\n",
              "        [6]],\n",
              "\n",
              "       [[1],\n",
              "        [2],\n",
              "        [3]],\n",
              "\n",
              "       [[4],\n",
              "        [5],\n",
              "        [6]]])"
            ]
          },
          "metadata": {},
          "execution_count": 25
        }
      ],
      "source": [
        "list_x2=np.array([[[1],[2],[3]],[[4],[5],[6]],[[1],[2],[3]],[[4],[5],[6]]])\n",
        "list_x2"
      ]
    },
    {
      "cell_type": "markdown",
      "source": [
        "## Array slicing\n",
        "\n",
        "![](https://i.imgur.com/tcgquis.png)\n",
        "\n",
        "To slice a one dimensional array, I provide a start and an end number separated by a semicolon (:). The range then starts at the start number and one before the end number.\n",
        "\n",
        "\n"
      ],
      "metadata": {
        "id": "cVJQw-ahdIzH"
      }
    },
    {
      "cell_type": "markdown",
      "metadata": {
        "id": "kFbVFoVBj4ov"
      },
      "source": [
        "# Manipulating Arrays\n",
        "\n",
        "![](https://i.imgur.com/mg7tMCb.png)\n",
        "\n",
        "Here are two techniques that can be used to change or manipulayte the structure of arrays:\n",
        "*  Reshaping\n",
        "*  Stacking\n",
        "*  Concatenating\n",
        "*  Sorting\n",
        "*  Padding\n",
        "*  Splitting\n"
      ]
    },
    {
      "cell_type": "markdown",
      "metadata": {
        "id": "8RcTzgB_j4o1"
      },
      "source": [
        "### Reshaping"
      ]
    },
    {
      "cell_type": "code",
      "execution_count": null,
      "metadata": {
        "id": "u_CcA9WWj4o1",
        "outputId": "862f7b4f-b868-4567-a4bb-559278ac1a58",
        "colab": {
          "base_uri": "https://localhost:8080/"
        }
      },
      "outputs": [
        {
          "output_type": "execute_result",
          "data": {
            "text/plain": [
              "array([0, 1, 2, 3, 4, 5, 6, 7, 8, 9])"
            ]
          },
          "metadata": {},
          "execution_count": 33
        }
      ],
      "source": [
        "# Creating an array of first ten natural numbers\n",
        "arr_4 = np.arange(10)\n",
        "arr_4\n",
        "# Printing the created array\n",
        "# arr_4,arr_4.shape\n",
        "\n"
      ]
    },
    {
      "cell_type": "code",
      "execution_count": null,
      "metadata": {
        "id": "-ha2SN7uj4o2"
      },
      "outputs": [],
      "source": [
        "# Reshaping the 1D array into a 2D array with 2 elements in five rows\n",
        "arr_5 = arr_4.reshape(5,2)"
      ]
    },
    {
      "cell_type": "code",
      "execution_count": null,
      "metadata": {
        "id": "DRn-GLZYj4o3",
        "outputId": "a10880a4-a029-48e3-e1f5-4a49884b0624",
        "colab": {
          "base_uri": "https://localhost:8080/"
        }
      },
      "outputs": [
        {
          "output_type": "execute_result",
          "data": {
            "text/plain": [
              "array([[0, 1],\n",
              "       [2, 3],\n",
              "       [4, 5],\n",
              "       [6, 7],\n",
              "       [8, 9]])"
            ]
          },
          "metadata": {},
          "execution_count": 32
        }
      ],
      "source": [
        "# Checking the rows and columns in the created array\n",
        "arr_5"
      ]
    },
    {
      "cell_type": "code",
      "execution_count": null,
      "metadata": {
        "id": "_Cyr1O3Aj4o3",
        "outputId": "035014c4-f5ae-4803-94bf-1a70b571a81d",
        "colab": {
          "base_uri": "https://localhost:8080/"
        }
      },
      "outputs": [
        {
          "output_type": "execute_result",
          "data": {
            "text/plain": [
              "array([[20, 21, 22, 23],\n",
              "       [24, 25, 26, 27],\n",
              "       [28, 29, 30, 31],\n",
              "       [32, 33, 34, 35],\n",
              "       [36, 37, 38, 39]])"
            ]
          },
          "metadata": {},
          "execution_count": 34
        }
      ],
      "source": [
        "# Creating a 2D array with 4 elements in five rows (elements from 20 to 39)\n",
        "arr_6 = np.arange(20,40).reshape(5,4)\n",
        "\n",
        "# Checking the rows and columns in the created array\n",
        "arr_6"
      ]
    },
    {
      "cell_type": "code",
      "execution_count": null,
      "metadata": {
        "id": "5fgA1NqMj4o6",
        "outputId": "73403874-369a-4529-8b8c-f3954e3a16d2"
      },
      "outputs": [
        {
          "data": {
            "text/plain": [
              "(5, 4)"
            ]
          },
          "execution_count": 62,
          "metadata": {},
          "output_type": "execute_result"
        }
      ],
      "source": [
        "arr_6.shape"
      ]
    },
    {
      "cell_type": "code",
      "execution_count": null,
      "metadata": {
        "id": "Fdieglmkj4o7",
        "outputId": "90b89ee0-82cd-4638-db60-7757fd0aa9c2"
      },
      "outputs": [
        {
          "data": {
            "text/plain": [
              "(array([[20, 21, 22, 23],\n",
              "        [24, 25, 26, 27],\n",
              "        [28, 29, 30, 31],\n",
              "        [32, 33, 34, 35],\n",
              "        [36, 37, 38, 39]]),\n",
              " array([[20, 21, 22, 23, 24, 25, 26, 27, 28, 29],\n",
              "        [30, 31, 32, 33, 34, 35, 36, 37, 38, 39]]))"
            ]
          },
          "execution_count": 65,
          "metadata": {},
          "output_type": "execute_result"
        }
      ],
      "source": [
        "arr_6,arr_7"
      ]
    },
    {
      "cell_type": "code",
      "execution_count": null,
      "metadata": {
        "scrolled": true,
        "id": "no6YXrt0j4o8",
        "outputId": "390e5623-9b23-4d7b-ce16-ed1c70979f8e"
      },
      "outputs": [
        {
          "data": {
            "text/plain": [
              "array([20, 21, 22, 23, 24, 25, 26, 27, 28, 29, 30, 31, 32, 33, 34, 35, 36,\n",
              "       37, 38, 39])"
            ]
          },
          "execution_count": 67,
          "metadata": {},
          "output_type": "execute_result"
        }
      ],
      "source": [
        "arr_7.flatten()          # return 1D array"
      ]
    },
    {
      "cell_type": "code",
      "execution_count": null,
      "metadata": {
        "id": "g0sM3TaGj4o9",
        "outputId": "7e774da8-830c-413f-b464-e4274399cd12"
      },
      "outputs": [
        {
          "data": {
            "text/plain": [
              "array([20, 21, 22, 23, 24, 25, 26, 27, 28, 29, 30, 31, 32, 33, 34, 35, 36,\n",
              "       37, 38, 39])"
            ]
          },
          "execution_count": 69,
          "metadata": {},
          "output_type": "execute_result"
        }
      ],
      "source": [
        "np.ravel(arr_7)         # return flatten array"
      ]
    },
    {
      "cell_type": "markdown",
      "metadata": {
        "id": "_pqFEaIaj4ov"
      },
      "source": [
        "### Stacking"
      ]
    },
    {
      "cell_type": "code",
      "execution_count": null,
      "metadata": {
        "id": "rn3qwt98j4ov"
      },
      "outputs": [],
      "source": [
        "#importing the NumPy library\n",
        "import numpy as np\n",
        "\n",
        "# Creating two 1-D arrays with 5 elements using arange\n",
        "arr_1 = np.array([1,2,3,4,5,9])\n",
        "arr_2 = np.array([6,7,8,9,10,20])\n"
      ]
    },
    {
      "cell_type": "code",
      "execution_count": null,
      "metadata": {
        "id": "5uvAxbQHj4ow",
        "outputId": "887529fb-d1f1-4507-d879-ada547b6d2fc",
        "colab": {
          "base_uri": "https://localhost:8080/"
        }
      },
      "outputs": [
        {
          "output_type": "stream",
          "name": "stdout",
          "text": [
            "[ 1  2  3  4  5  9  6  7  8  9 10 20]\n"
          ]
        }
      ],
      "source": [
        "# Horizonal stacking - Appending the elements in the same row\n",
        "ar_h = np.hstack((arr_1, arr_2))\n",
        "# display the concatenated array\n",
        "print(ar_h)\n"
      ]
    },
    {
      "cell_type": "code",
      "execution_count": null,
      "metadata": {
        "id": "mhRzErh4j4ox",
        "outputId": "81047724-abde-4b08-ee99-2757382c9090",
        "colab": {
          "base_uri": "https://localhost:8080/"
        }
      },
      "outputs": [
        {
          "output_type": "stream",
          "name": "stdout",
          "text": [
            "[[ 1  2  3  4  5  9]\n",
            " [ 6  7  8  9 10 20]]\n"
          ]
        }
      ],
      "source": [
        "# Vertical stacking - Increasing the number of row\n",
        "\n",
        "ar_v = np.vstack((arr_1, arr_2))\n",
        "# display the concatenated array\n",
        "print(ar_v)\n",
        "\n",
        "\n"
      ]
    },
    {
      "cell_type": "markdown",
      "metadata": {
        "id": "2j_e5x3cj4ox"
      },
      "source": [
        "### Concatenating"
      ]
    },
    {
      "cell_type": "code",
      "execution_count": null,
      "metadata": {
        "id": "crPwrocYj4oy",
        "outputId": "d56f9f5d-124c-4626-a5d5-062fc7fe6bab",
        "colab": {
          "base_uri": "https://localhost:8080/"
        }
      },
      "outputs": [
        {
          "output_type": "stream",
          "name": "stdout",
          "text": [
            "[1 2 3 4 5 6]\n"
          ]
        }
      ],
      "source": [
        "import numpy as np\n",
        "\n",
        "arr1 = np.array([1, 2, 3])\n",
        "\n",
        "arr2 = np.array([4, 5, 6])\n",
        "\n",
        "arr = np.concatenate((arr1, arr2))\n",
        "\n",
        "print(arr)"
      ]
    },
    {
      "cell_type": "code",
      "execution_count": null,
      "metadata": {
        "id": "OULTj9nFj4oy",
        "outputId": "f3d61288-6f81-4875-bd23-6e5227fdc450"
      },
      "outputs": [
        {
          "name": "stdout",
          "output_type": "stream",
          "text": [
            "arr1\n",
            "[[1 2]\n",
            " [3 4]]\n",
            "arr2\n",
            "[[5 6]\n",
            " [7 8]]\n",
            "concatenated arr\n",
            "[[1 2 5 6]\n",
            " [3 4 7 8]]\n",
            "(2, 4)\n"
          ]
        }
      ],
      "source": [
        "import numpy as np\n",
        "\n",
        "arr1 = np.array([[1, 2], [3, 4]])\n",
        "\n",
        "arr2 = np.array([[5, 6], [7, 8]])\n",
        "\n",
        "arr = np.concatenate((arr1, arr2), axis=1)\n",
        "print('arr1')\n",
        "print(arr1)\n",
        "print('arr2')\n",
        "print(arr2)\n",
        "print('concatenated arr')\n",
        "print(arr)\n",
        "print(arr.shape)"
      ]
    },
    {
      "cell_type": "code",
      "execution_count": null,
      "metadata": {
        "id": "9nQ-LRUnj4oz",
        "outputId": "32d2ba48-b32a-4bf0-8cd8-6686f493a15b"
      },
      "outputs": [
        {
          "name": "stdout",
          "output_type": "stream",
          "text": [
            "arr1\n",
            "[[1 2]\n",
            " [3 4]]\n",
            "arr2\n",
            "[[5 6]\n",
            " [7 8]]\n",
            "concatenated arr\n",
            "[[1 2]\n",
            " [3 4]\n",
            " [5 6]\n",
            " [7 8]]\n",
            "(4, 2)\n"
          ]
        }
      ],
      "source": [
        "import numpy as np\n",
        "\n",
        "arr1 = np.array([[1, 2], [3, 4]])\n",
        "\n",
        "arr2 = np.array([[5, 6], [7, 8]])\n",
        "\n",
        "arr = np.concatenate((arr1, arr2))\n",
        "\n",
        "print('arr1')\n",
        "print(arr1)\n",
        "print('arr2')\n",
        "print(arr2)\n",
        "print('concatenated arr')\n",
        "print(arr)\n",
        "print(arr.shape)"
      ]
    },
    {
      "cell_type": "code",
      "execution_count": null,
      "metadata": {
        "id": "SkGs9at1j4o0"
      },
      "outputs": [],
      "source": []
    },
    {
      "cell_type": "code",
      "execution_count": null,
      "metadata": {
        "id": "Gn7DunHIj4o0"
      },
      "outputs": [],
      "source": []
    },
    {
      "cell_type": "markdown",
      "metadata": {
        "id": "7lOpNVVaj4o9"
      },
      "source": [
        "## Sort"
      ]
    },
    {
      "cell_type": "code",
      "execution_count": null,
      "metadata": {
        "id": "yL5aKlobj4o-",
        "outputId": "87359de3-5990-4c3f-dac0-88d254140d51",
        "colab": {
          "base_uri": "https://localhost:8080/"
        }
      },
      "outputs": [
        {
          "output_type": "execute_result",
          "data": {
            "text/plain": [
              "array([3, 4, 4, 5, 5, 7, 8, 9])"
            ]
          },
          "metadata": {},
          "execution_count": 42
        }
      ],
      "source": [
        "arr_8=np.array([3,5,4,9,8,7,4,5])\n",
        "\n",
        "np.sort(arr_8)"
      ]
    },
    {
      "cell_type": "code",
      "execution_count": null,
      "metadata": {
        "scrolled": false,
        "id": "5oy6Rtsuj4o_",
        "outputId": "c775a37e-eaa5-4081-fde7-290449a69d1d"
      },
      "outputs": [
        {
          "name": "stdout",
          "output_type": "stream",
          "text": [
            "[[ 4 10]\n",
            " [ 3  2]]\n",
            "-----------\n",
            "[[ 3  2]\n",
            " [ 4 10]]\n",
            "-----------\n",
            "[[ 4 10]\n",
            " [ 2  3]]\n"
          ]
        }
      ],
      "source": [
        "a = np.array([[4,10],[3,2]])\n",
        "print(a)\n",
        "print('-----------')\n",
        "print(np.sort(a,axis=0)) # sort along the first axis\n",
        "print('-----------')\n",
        "print(np.sort(a)) # sort along the last axis"
      ]
    },
    {
      "cell_type": "code",
      "execution_count": null,
      "metadata": {
        "id": "-qZXj0cLj4pA",
        "outputId": "6e3492c3-401c-4ce5-af86-55e674ce6503"
      },
      "outputs": [
        {
          "name": "stdout",
          "output_type": "stream",
          "text": [
            "Array b\n",
            "[[[5 8 9]\n",
            "  [5 0 0]\n",
            "  [1 7 6]]\n",
            "\n",
            " [[9 2 4]\n",
            "  [5 2 4]\n",
            "  [2 4 7]]]\n",
            "-----------\n",
            "sorted array b along axis=0\n",
            "[[[5 2 4]\n",
            "  [5 0 0]\n",
            "  [1 4 6]]\n",
            "\n",
            " [[9 8 9]\n",
            "  [5 2 4]\n",
            "  [2 7 7]]]\n",
            "-----------\n",
            "sorted array b along axis=1\n",
            "[[[1 0 0]\n",
            "  [5 7 6]\n",
            "  [5 8 9]]\n",
            "\n",
            " [[2 2 4]\n",
            "  [5 2 4]\n",
            "  [9 4 7]]]\n",
            "-----------\n",
            "sorted array b along last axis\n",
            "[[[5 8 9]\n",
            "  [0 0 5]\n",
            "  [1 6 7]]\n",
            "\n",
            " [[2 4 9]\n",
            "  [2 4 5]\n",
            "  [2 4 7]]]\n"
          ]
        }
      ],
      "source": [
        "np.random.seed(1)\n",
        "b=np.random.randint(0, 10, (2,3,3))\n",
        "print('Array b')\n",
        "print(b)\n",
        "print('-----------')\n",
        "print('sorted array b along axis=0')\n",
        "print(np.sort(b,axis=0)) # sort along the first axis\n",
        "print('-----------')\n",
        "print('sorted array b along axis=1')\n",
        "print(np.sort(b,axis=1)) # sort along the second axis\n",
        "print('-----------')\n",
        "print('sorted array b along last axis')\n",
        "print(np.sort(b)) # sort along the last axis\n"
      ]
    },
    {
      "cell_type": "code",
      "execution_count": null,
      "metadata": {
        "id": "-xVVFCP4j4pQ",
        "outputId": "8b796ef5-86eb-4223-db52-e6ed7d1e4de9"
      },
      "outputs": [
        {
          "data": {
            "text/plain": [
              "array([4, 4, 1, 2, 3, 4, 5, 6, 6, 6])"
            ]
          },
          "execution_count": 107,
          "metadata": {},
          "output_type": "execute_result"
        }
      ],
      "source": [
        "np.set_printoptions(threshold=100)\n",
        "a = [1, 2, 3, 4, 5]\n",
        "np.pad(a, (2, 3), 'constant', constant_values=(4, 6))\n"
      ]
    },
    {
      "cell_type": "code",
      "execution_count": null,
      "metadata": {
        "id": "Zm9Lf0oNj4pQ",
        "outputId": "ed2c336b-1fe5-4a0d-c7b7-395c0aebd1f0"
      },
      "outputs": [
        {
          "data": {
            "text/plain": [
              "array([0, 0, 0, 1, 2, 3, 4, 5, 0, 0, 0])"
            ]
          },
          "execution_count": 109,
          "metadata": {},
          "output_type": "execute_result"
        }
      ],
      "source": [
        "np.pad(a, (3, 3), 'constant', constant_values=(0,0))"
      ]
    },
    {
      "cell_type": "code",
      "execution_count": null,
      "metadata": {
        "id": "bLfSEshMj4pR",
        "outputId": "c0017788-0292-416a-ee97-4f55219fc2d0"
      },
      "outputs": [
        {
          "name": "stdout",
          "output_type": "stream",
          "text": [
            "[[1 2]\n",
            " [3 4]]\n",
            "___________________\n",
            "[[1 1 1 2 1 1 1]\n",
            " [1 1 1 2 1 1 1]\n",
            " [1 1 1 2 1 1 1]\n",
            " [1 1 1 2 1 1 1]\n",
            " [3 3 3 4 3 3 3]\n",
            " [1 1 1 2 1 1 1]\n",
            " [1 1 1 2 1 1 1]]\n"
          ]
        }
      ],
      "source": [
        "a = [[1, 2], [3, 4]]\n",
        "print(np.array(a))\n",
        "print('___________________')\n",
        "\n",
        "print(np.pad(a, ((3, 2), (2, 3)), 'minimum'))"
      ]
    },
    {
      "cell_type": "code",
      "execution_count": null,
      "metadata": {
        "id": "z1mSoZv5j4pR",
        "outputId": "e9cb89fe-ab87-4c83-8451-deea4fa75b1c"
      },
      "outputs": [
        {
          "data": {
            "text/plain": [
              "array([[0, 0, 0, 0],\n",
              "       [0, 1, 2, 0],\n",
              "       [0, 3, 4, 0],\n",
              "       [0, 0, 0, 0]])"
            ]
          },
          "execution_count": 120,
          "metadata": {},
          "output_type": "execute_result"
        }
      ],
      "source": [
        "np.pad(a, (1, 1), 'constant')"
      ]
    },
    {
      "cell_type": "code",
      "execution_count": null,
      "metadata": {
        "id": "tljjxWrsj4pS"
      },
      "outputs": [],
      "source": []
    },
    {
      "cell_type": "markdown",
      "metadata": {
        "id": "Vn9sXFLVj4pN"
      },
      "source": [
        "## Splitting NumPy Arrays\n",
        "\n",
        "Splitting is reverse operation of Joining.\n",
        "\n",
        "Joining merges multiple arrays into one and Splitting breaks one array into multiple.\n",
        "\n",
        "We use array_split() for splitting arrays, we pass it the array we want to split and the number of splits."
      ]
    },
    {
      "cell_type": "code",
      "execution_count": null,
      "metadata": {
        "id": "yugbx_Qtj4pN",
        "outputId": "70484ddf-afb4-4c84-9383-42de09502d74"
      },
      "outputs": [
        {
          "name": "stdout",
          "output_type": "stream",
          "text": [
            "[array([1, 2]), array([3, 4]), array([5, 6])]\n"
          ]
        }
      ],
      "source": [
        "import numpy as np\n",
        "\n",
        "arr = np.array([1, 2, 3, 4, 5, 6])\n",
        "\n",
        "newarr = np.array_split(arr, 3)\n",
        "\n",
        "print(newarr)"
      ]
    },
    {
      "cell_type": "markdown",
      "metadata": {
        "id": "kkO8RNRBj4pO"
      },
      "source": [
        "If the array has less elements than required, it will adjust from the end accordingly.\n",
        "\n"
      ]
    },
    {
      "cell_type": "code",
      "execution_count": null,
      "metadata": {
        "id": "ZfgJNhFlj4pO",
        "outputId": "1b105bb1-24a8-4d94-9653-657feccbc4e6"
      },
      "outputs": [
        {
          "name": "stdout",
          "output_type": "stream",
          "text": [
            "[array([1, 2]), array([3, 4]), array([5]), array([6])]\n"
          ]
        }
      ],
      "source": [
        "#Split the array in 4 parts:\n",
        "\n",
        "import numpy as np\n",
        "\n",
        "arr = np.array([1, 2, 3, 4, 5, 6])\n",
        "\n",
        "newarr = np.array_split(arr, 4)\n",
        "\n",
        "print(newarr)"
      ]
    },
    {
      "cell_type": "markdown",
      "metadata": {
        "id": "x6Rrd_pzj4pP"
      },
      "source": [
        "**Splitting 2-D Arrays**\n",
        "\n",
        "Use the same syntax when splitting 2-D arrays.\n",
        "\n",
        "Use the array_split() method, pass in the array you want to split and the number of splits you want to do.\n",
        "\n"
      ]
    },
    {
      "cell_type": "code",
      "execution_count": null,
      "metadata": {
        "id": "r88_AsN7j4pP",
        "outputId": "0ffb65ed-58d9-4fc8-b3ba-22a58ab10f35"
      },
      "outputs": [
        {
          "name": "stdout",
          "output_type": "stream",
          "text": [
            "[array([[1, 2],\n",
            "       [3, 4]]), array([[5, 6],\n",
            "       [7, 8]]), array([[ 9, 10],\n",
            "       [11, 12]])]\n"
          ]
        }
      ],
      "source": [
        "#Split the 2-D array into three 2-D arrays.\n",
        "\n",
        "import numpy as np\n",
        "\n",
        "arr = np.array([[1, 2], [3, 4], [5, 6], [7, 8], [9, 10], [11, 12]])\n",
        "\n",
        "newarr = np.array_split(arr, 3)\n",
        "\n",
        "print(newarr)"
      ]
    },
    {
      "cell_type": "code",
      "execution_count": null,
      "metadata": {
        "id": "uQmhrGd-j4pP",
        "outputId": "672b2be7-5ae2-41a0-eb67-ad0f6ebede28"
      },
      "outputs": [
        {
          "name": "stdout",
          "output_type": "stream",
          "text": [
            "[array([[1, 2, 3],\n",
            "       [4, 5, 6]]), array([[ 7,  8,  9],\n",
            "       [10, 11, 12]]), array([[13, 14, 15],\n",
            "       [16, 17, 18]])]\n"
          ]
        }
      ],
      "source": [
        "#Split the 2-D array into three 2-D arrays.\n",
        "\n",
        "import numpy as np\n",
        "\n",
        "arr = np.array([[1, 2, 3], [4, 5, 6], [7, 8, 9], [10, 11, 12], [13, 14, 15], [16, 17, 18]])\n",
        "\n",
        "newarr = np.array_split(arr, 3)\n",
        "\n",
        "print(newarr)"
      ]
    },
    {
      "cell_type": "code",
      "execution_count": null,
      "metadata": {
        "id": "iyEnW9GJj4pQ",
        "outputId": "9b3766b5-faf5-453a-e5bf-667600f75083"
      },
      "outputs": [
        {
          "name": "stdout",
          "output_type": "stream",
          "text": [
            "[array([[ 1],\n",
            "       [ 4],\n",
            "       [ 7],\n",
            "       [10],\n",
            "       [13],\n",
            "       [16]]), array([[ 2],\n",
            "       [ 5],\n",
            "       [ 8],\n",
            "       [11],\n",
            "       [14],\n",
            "       [17]]), array([[ 3],\n",
            "       [ 6],\n",
            "       [ 9],\n",
            "       [12],\n",
            "       [15],\n",
            "       [18]])]\n"
          ]
        }
      ],
      "source": [
        "#Split the 2-D array into three 2-D arrays along rows.\n",
        "\n",
        "import numpy as np\n",
        "\n",
        "arr = np.array([[1, 2, 3], [4, 5, 6], [7, 8, 9], [10, 11, 12], [13, 14, 15], [16, 17, 18]])\n",
        "\n",
        "newarr = np.array_split(arr, 3, axis=1)\n",
        "\n",
        "print(newarr)"
      ]
    },
    {
      "cell_type": "markdown",
      "metadata": {
        "id": "XkykoQ0nj4oC"
      },
      "source": [
        "# Excercise\n",
        "\n",
        "Border Rows and Columns\n",
        "Description\n",
        "Extract all the border rows and columns from a 2-D array.\n",
        "\n",
        "Format:\n",
        "Input: A 2-D Python list\n",
        "Output: Four NumPy arrays - First column of the input array, first row of the input array, last column of the input array, last row of the input array respectively.\n",
        "\n",
        "Example:<br>\n",
        "Input 1:<br>\n",
        "[[11 12 13 14]<br>\n",
        " [21 22 23 24]<br>\n",
        " [31 32 33 34]]<br>\n",
        "Output 1:<br>\n",
        "[11 21 31]<br>\n",
        "[11 12 13 14]<br>\n",
        "[14 24 34]<br>\n",
        "[31 32 33 34]<br>"
      ]
    },
    {
      "cell_type": "code",
      "execution_count": null,
      "metadata": {
        "id": "vCGhMbBoj4oI"
      },
      "outputs": [],
      "source": [
        "input_list=[[11, 12, 13, 14],\n",
        "            [21, 22, 23, 24],\n",
        "            [31, 32, 33, 34]]"
      ]
    },
    {
      "cell_type": "code",
      "execution_count": null,
      "metadata": {
        "id": "55BKoEzvj4oJ"
      },
      "outputs": [],
      "source": [
        "# Convert the input list to a NumPy array\n",
        "array_2d =np.array(input_list)"
      ]
    },
    {
      "cell_type": "code",
      "execution_count": null,
      "metadata": {
        "id": "GhpUFFm5j4oJ"
      },
      "outputs": [],
      "source": [
        "array_2d"
      ]
    },
    {
      "cell_type": "code",
      "execution_count": null,
      "metadata": {
        "id": "SqT1NWR-j4oK"
      },
      "outputs": [],
      "source": [
        "# Extract the first column, first row, last column and last row respectively using\n",
        "# appropriate indexing\n",
        "col_first = array_2d[:,0]\n",
        "row_first = array_2d[0]\n",
        "col_last = array_2d[:,3]\n",
        "row_last = array_2d[2]\n",
        "print(col_first)\n",
        "\n",
        "print(row_first) \n",
        "\n",
        "print(col_last) \n",
        "\n",
        "print(row_last)"
      ]
    },
    {
      "cell_type": "markdown",
      "source": [
        "# NumPy Cheat Sheets\n",
        "\n",
        "[Cheat Sheet 1: DataCamp NumPy](https://s3.amazonaws.com/assets.datacamp.com/blog_assets/Numpy_Python_Cheat_Sheet.pdf)\n",
        "\n",
        "[Cheat Sheet 2: Basic NumPy](https://cdn.intellipaat.com/mediaFiles/2018/12/Python-NumPy-Cheat-Sheet-.pdf)\n",
        "\n",
        "[Cheat Sheet 3: A Little Bit of Everything](http://datasciencefree.com/numpy.pdf)\n",
        "\n",
        "[Cheat Sheet 4: Data Science](https://s3.amazonaws.com/dq-blog-files/numpy-cheat-sheet.pdf)\n",
        "\n",
        "[Cheat Sheet 5: Scientific Python](https://ipgp.github.io/scientific_python_cheat_sheet/?utm_content=buffer7d821&utm_medium=social&utm_source=twitter.com&utm_campaign=buffer#numpy-import-numpy-as-np)\n",
        "\n"
      ],
      "metadata": {
        "id": "zT6T66k8mn6I"
      }
    },
    {
      "cell_type": "code",
      "execution_count": null,
      "metadata": {
        "id": "g0CAdwL1j4oL"
      },
      "outputs": [],
      "source": []
    }
  ],
  "metadata": {
    "kernelspec": {
      "display_name": "Python 3 (ipykernel)",
      "language": "python",
      "name": "python3"
    },
    "language_info": {
      "codemirror_mode": {
        "name": "ipython",
        "version": 3
      },
      "file_extension": ".py",
      "mimetype": "text/x-python",
      "name": "python",
      "nbconvert_exporter": "python",
      "pygments_lexer": "ipython3",
      "version": "3.8.13"
    },
    "colab": {
      "provenance": [],
      "collapsed_sections": [
        "0vvLFSI4X89k",
        "7lOpNVVaj4o9",
        "CT9OdHBvj4pQ"
      ]
    }
  },
  "nbformat": 4,
  "nbformat_minor": 0
}