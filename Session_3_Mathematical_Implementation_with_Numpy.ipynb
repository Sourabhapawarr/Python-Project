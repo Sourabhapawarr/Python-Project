{
  "cells": [
    {
      "cell_type": "markdown",
      "metadata": {
        "id": "PtuUoefuj4nV"
      },
      "source": [
        "# Mathematical operations\n",
        "\n",
        "addition, subtraction, division, multiplication, etc.\n",
        "One thing to note here is that NumPy comes with its own set of methods and operations. You should not assume that the operators will work in the same way as lists. Look at the example below."
      ]
    },
    {
      "cell_type": "code",
      "execution_count": null,
      "metadata": {
        "id": "Df7qY87Jj4nW",
        "colab": {
          "base_uri": "https://localhost:8080/"
        },
        "outputId": "ad17ea13-e5e8-4232-c7fb-8305f0ec67ed"
      },
      "outputs": [
        {
          "output_type": "execute_result",
          "data": {
            "text/plain": [
              "[1, 2, 3, 4, 5, 6]"
            ]
          },
          "metadata": {},
          "execution_count": 1
        }
      ],
      "source": [
        "import numpy as np\n",
        "# Create 2 lists with elements (1, 2, 3) and (4, 5, 6)\n",
        "list1 = [1,2,3]\n",
        "list2 = [4,5,6]\n",
        "\n",
        "# Use the '+' operator and print the results\n",
        "list1+list2\n"
      ]
    },
    {
      "cell_type": "code",
      "execution_count": null,
      "metadata": {
        "id": "nSAb04Uwj4nX",
        "colab": {
          "base_uri": "https://localhost:8080/"
        },
        "outputId": "ffc8415a-0f31-4db1-bf8b-7a5f071b8368"
      },
      "outputs": [
        {
          "output_type": "stream",
          "name": "stdout",
          "text": [
            "[5 7 9]\n",
            "\n",
            "[5 7 9]\n"
          ]
        }
      ],
      "source": [
        "# Convert the above lists to arrays and use the '+' operator or np.add() for element wise addition\n",
        "\n",
        "np_1 = np.array([1,2,3])\n",
        "np_2 = np.array([4,5,6])\n",
        "\n",
        "\n",
        "print(np_1+np_2)\n",
        "print()\n",
        "print(np.add(np_1,np_2))"
      ]
    },
    {
      "cell_type": "code",
      "execution_count": null,
      "metadata": {
        "id": "WR4FoZ1Fj4nY",
        "colab": {
          "base_uri": "https://localhost:8080/"
        },
        "outputId": "22471e76-59d9-4c75-f8d3-c0272b7c8c74"
      },
      "outputs": [
        {
          "output_type": "stream",
          "name": "stdout",
          "text": [
            "[ 4 10 18]\n",
            "\n",
            "[ 4 10 18]\n"
          ]
        }
      ],
      "source": [
        "# use the '*' operator or np.multiply() for element wise multiplication\n",
        "np_1 = np.array([1,2,3])\n",
        "np_2 = np.array([4,5,6])\n",
        "\n",
        "\n",
        "print(np_1*np_2)\n",
        "print()\n",
        "print(np.multiply(np_1,np_2))"
      ]
    },
    {
      "cell_type": "code",
      "execution_count": null,
      "metadata": {
        "id": "6d8MEdhDj4nY",
        "colab": {
          "base_uri": "https://localhost:8080/"
        },
        "outputId": "b5d36ac8-79b2-405f-f24b-e95bb2502813"
      },
      "outputs": [
        {
          "output_type": "stream",
          "name": "stdout",
          "text": [
            "[0.25 0.4  0.5 ]\n",
            "\n",
            "[0.25 0.4  0.5 ]\n"
          ]
        }
      ],
      "source": [
        "# use the '/' operator or np.divide() for element wise division\n",
        "\n",
        "print(np_1/np_2)\n",
        "print()\n",
        "print(np.divide(np_1,np_2))"
      ]
    },
    {
      "cell_type": "code",
      "execution_count": null,
      "metadata": {
        "id": "QDs3aW4Bj4nZ",
        "colab": {
          "base_uri": "https://localhost:8080/"
        },
        "outputId": "5da3ba68-569d-4ca4-fea8-a6cb464c85f6"
      },
      "outputs": [
        {
          "output_type": "stream",
          "name": "stdout",
          "text": [
            "[3 3 3]\n",
            "\n",
            "[3 3 3]\n"
          ]
        }
      ],
      "source": [
        "# use the '-' operator or np.subtract() for element wise subtraction\n",
        "\n",
        "print(np_2-np_1)\n",
        "print()\n",
        "print(np.subtract(np_2,np_1))"
      ]
    },
    {
      "cell_type": "code",
      "source": [
        "# use the '//' operator or np.floor_divide() for element wise floor division\n",
        "print(np_2//np_1)\n",
        "print()\n",
        "print(np.floor_divide(np_2,np_1))\n"
      ],
      "metadata": {
        "colab": {
          "base_uri": "https://localhost:8080/"
        },
        "id": "GT2IdyRopCF0",
        "outputId": "79b23dcb-4201-4f57-80bf-863a1235fe7d"
      },
      "execution_count": null,
      "outputs": [
        {
          "output_type": "stream",
          "name": "stdout",
          "text": [
            "[4 2 2]\n",
            "\n",
            "[4 2 2]\n"
          ]
        }
      ]
    },
    {
      "cell_type": "code",
      "source": [
        "# use the '%' operator or np.mod() for element wise modulo\n",
        "print(np_2%np_1)\n",
        "print()\n",
        "print(np.mod(np_2,np_1))"
      ],
      "metadata": {
        "colab": {
          "base_uri": "https://localhost:8080/"
        },
        "id": "4As8OgLXpq3q",
        "outputId": "6cacfa44-9b33-400e-9381-0564e9d12a62"
      },
      "execution_count": null,
      "outputs": [
        {
          "output_type": "stream",
          "name": "stdout",
          "text": [
            "[0 1 0]\n",
            "\n",
            "[0 1 0]\n"
          ]
        }
      ]
    },
    {
      "cell_type": "code",
      "source": [
        "# use the '**' operator or np.power() for element wise exponentiation\n",
        "print(np_2**np_1)\n",
        "print()\n",
        "print(np.power(np_2,np_1))"
      ],
      "metadata": {
        "colab": {
          "base_uri": "https://localhost:8080/"
        },
        "id": "xYkVp_ahqGYl",
        "outputId": "95ca9ab2-f882-44ab-95ba-16b36e4ae4b6"
      },
      "execution_count": null,
      "outputs": [
        {
          "output_type": "stream",
          "name": "stdout",
          "text": [
            "[  4  25 216]\n",
            "\n",
            "[  4  25 216]\n"
          ]
        }
      ]
    },
    {
      "cell_type": "code",
      "execution_count": null,
      "metadata": {
        "id": "taLSaqZyj4na",
        "colab": {
          "base_uri": "https://localhost:8080/"
        },
        "outputId": "4a4706ee-c81c-4274-8dc6-72d00db2096a"
      },
      "outputs": [
        {
          "output_type": "execute_result",
          "data": {
            "text/plain": [
              "array([ 5, 10, 15])"
            ]
          },
          "metadata": {},
          "execution_count": 66
        }
      ],
      "source": [
        "# Scaler multiplication\n",
        "np_1 = np.array([1,2,3])*5\n",
        "np_1"
      ]
    },
    {
      "cell_type": "code",
      "execution_count": null,
      "metadata": {
        "id": "-yN3fhYNj4na"
      },
      "outputs": [],
      "source": [
        "# Scaler addition\n",
        "np_1 = np.array([1,2,3])+5\n",
        "np_1"
      ]
    },
    {
      "cell_type": "code",
      "execution_count": null,
      "metadata": {
        "id": "4dhvlO_4j4nb"
      },
      "outputs": [],
      "source": [
        "# Scaler division\n",
        "np_1 = np.array([1,2,3])/5\n",
        "np_1"
      ]
    },
    {
      "cell_type": "code",
      "execution_count": null,
      "metadata": {
        "id": "KBiFB_Ngj4nc",
        "colab": {
          "base_uri": "https://localhost:8080/"
        },
        "outputId": "dd31ebc7-432a-46c7-a147-31c09c75d6ca"
      },
      "outputs": [
        {
          "output_type": "execute_result",
          "data": {
            "text/plain": [
              "array([ 5, 15, 25])"
            ]
          },
          "metadata": {},
          "execution_count": 67
        }
      ],
      "source": [
        "# # Scaler subtraction\n",
        "np_1 = np.array([10,20,30])-5\n",
        "np_1"
      ]
    },
    {
      "cell_type": "code",
      "source": [
        "# squaring the terms\n",
        "print(np.power(np.array([1,2,-1,-2]),2))\n"
      ],
      "metadata": {
        "colab": {
          "base_uri": "https://localhost:8080/"
        },
        "id": "T0v3Vp8gsEIt",
        "outputId": "0a832572-f2e9-4324-8ad4-0213025dc944"
      },
      "execution_count": null,
      "outputs": [
        {
          "output_type": "stream",
          "name": "stdout",
          "text": [
            "[1 4 1 4]\n"
          ]
        }
      ]
    },
    {
      "cell_type": "code",
      "source": [
        "# np.sin(1.57079633)\n",
        "print(np.cos(0))\n",
        "\n"
      ],
      "metadata": {
        "colab": {
          "base_uri": "https://localhost:8080/"
        },
        "id": "GEJIC7w2sUci",
        "outputId": "9f58ce32-d346-4a1e-dcdb-b95e8fdfae15"
      },
      "execution_count": null,
      "outputs": [
        {
          "output_type": "stream",
          "name": "stdout",
          "text": [
            "1.0\n"
          ]
        }
      ]
    },
    {
      "cell_type": "code",
      "source": [
        "# np.log()\n",
        "print(np.log(10))"
      ],
      "metadata": {
        "colab": {
          "base_uri": "https://localhost:8080/"
        },
        "id": "ojXSx-RGsXtZ",
        "outputId": "725e0320-a065-45b7-dbaa-17a5bfc553d5"
      },
      "execution_count": null,
      "outputs": [
        {
          "output_type": "stream",
          "name": "stdout",
          "text": [
            "2.302585092994046\n"
          ]
        }
      ]
    },
    {
      "cell_type": "code",
      "source": [
        "# getting the absolute value of the elements\n",
        "print(np.absolute(np.array([1,2,-1,-2])))"
      ],
      "metadata": {
        "colab": {
          "base_uri": "https://localhost:8080/"
        },
        "id": "fTjmt5vYsaRD",
        "outputId": "91b2526c-a481-4a7d-d653-76b11082d6db"
      },
      "execution_count": null,
      "outputs": [
        {
          "output_type": "stream",
          "name": "stdout",
          "text": [
            "[1 2 1 2]\n"
          ]
        }
      ]
    },
    {
      "cell_type": "markdown",
      "metadata": {
        "id": "KB4I6QLxj4nd"
      },
      "source": [
        "# Case Study: Cricket Tournament \n",
        "\n",
        "A panel wants to select players for an upcoming league match based on their fitness. Players from all significant cricket clubs have participated in a practice match, and their data is collected. Let us now explore NumPy features using the player's data.\n",
        "\n",
        "#### Height of the payers is stored as a regular Python list: height_in. The height is expressed in inches.\n",
        "\n",
        "#### Weight of the payers is stored as a regular Python list: weight_lb. The weight is expressed in pounds."
      ]
    },
    {
      "cell_type": "markdown",
      "metadata": {
        "id": "YxEImMKaj4ng"
      },
      "source": [
        "**Multiplication with a factor**\n",
        "\n",
        "Now, let's convert the height and weight of the players into more generic units. \n",
        "* Height in metres\n",
        "* Weight in kilograms"
      ]
    },
    {
      "cell_type": "code",
      "execution_count": null,
      "metadata": {
        "id": "hGNGProEj4nd"
      },
      "outputs": [],
      "source": [
        "heights_in = [74, 74, 72, 72, 73, 69, 69, 71, 76, 71, 73, 73, 74, 74, 69, 70, 73, 75, 78, 79, 76, 74, 76, 72, 71, 75, 77, 74, 73, 74, 78, 73, 75, 73, 75, 75, 74, 69, 71, 74, 73, 73, 76, 74, 74, 70, 72, 77, 74, 70, 73, 75, 76, 76, 78, 74, 74, 76, 77, 81, 78, 75, 77, 75, 76, 74, 72, 72, 75, 73, 73, 73, 70, 70, 70, 76, 68, 71, 72, 75, 75, 75, 75, 68, 74, 78, 71, 73, 76, 74, 74, 79, 75, 73, 76, 74, 74, 73, 72, 74, 73, 74, 72, 73, 69, 72, 73, 75, 75, 73, 72, 72, 76, 74, 72, 77, 74, 77, 75, 76, 80, 74, 74, 75, 78, 73, 73, 74, 75, 76, 71, 73, 74, 76, 76, 74, 73, 74, 70, 72, 73, 73, 73, 73, 71, 74, 74, 72, 74, 71, 74, 73, 75, 75, 79, 73, 75, 76, 74, 76, 78, 74, 76, 72, 74, 76, 74, 75, 78, 75, 72, 74, 72, 74, 70, 71, 70, 75, 71, 71, 73, 72, 71, 73, 72, 75, 74, 74, 75, 73, 77, 73, 76, 75, 74, 76, 75, 73, 71, 76, 75, 72, 71, 77, 73, 74, 71, 72, 74, 75, 73, 72, 75, 75, 74, 72, 74, 71, 70, 74, 77, 77, 75, 75, 78, 75, 76, 73, 75, 75, 79, 77, 76, 71, 75, 74, 69, 71, 76, 72, 72, 70, 72, 73, 71, 72, 71, 73, 72, 73, 74, 74, 72, 75, 74, 74, 77, 75, 73, 72, 71, 74, 77, 75, 75, 75, 78, 78, 74, 76, 78, 76, 70, 72, 80, 74, 74, 71, 70, 72, 71, 74, 71, 72, 71, 74, 69, 76, 75, 75, 76, 73, 76, 73, 77, 73, 72, 72, 77, 77, 71, 74, 74, 73, 78, 75, 73, 70, 74, 72, 73, 73, 75, 75, 74, 76, 73, 74, 75, 75, 72, 73, 73, 72, 74, 78, 76, 73, 74, 75, 70, 75, 71, 72, 78, 75, 73, 73, 71, 75, 77, 72, 69, 73, 74, 72, 70, 75, 70, 72, 72, 74, 73, 74, 76, 75, 80, 72, 75, 73, 74, 74, 73, 75, 75, 71, 73, 75, 74, 74, 72, 74, 74, 74, 73, 76, 75, 72, 73, 73, 73, 72, 72, 72, 72, 71, 75, 75, 74, 73, 75, 79, 74, 76, 73, 74, 74, 72, 74, 74, 75, 78, 74, 74, 74, 77, 70, 73, 74, 73, 71, 75, 71, 72, 77, 74, 70, 77, 73, 72, 76, 71, 76, 78, 75, 73, 78, 74, 79, 75, 76, 72, 75, 75, 70, 72, 70, 74, 71, 76, 73, 76, 71, 69, 72, 72, 69, 73, 69, 73, 74, 74, 72, 71, 72, 72, 76, 76, 76, 74, 76, 75, 71, 72, 71, 73, 75, 76, 75, 71, 75, 74, 72, 73, 73, 73, 73, 76, 72, 76, 73, 73, 73, 75, 75, 77, 73, 72, 75, 70, 74, 72, 80, 71, 71, 74, 74, 73, 75, 76, 73, 77, 72, 73, 77, 76, 71, 75, 73, 74, 77, 71, 72, 73, 69, 73, 70, 74, 76, 73, 73, 75, 73, 79, 74, 73, 74, 77, 75, 74, 73, 77, 73, 77, 74, 74, 73, 77, 74, 77, 75, 77, 75, 71, 74, 70, 79, 72, 72, 70, 74, 74, 72, 73, 72, 74, 74, 76, 82, 74, 74, 70, 73, 73, 74, 77, 72, 76, 73, 73, 72, 74, 74, 71, 72, 75, 74, 74, 77, 70, 71, 73, 76, 71, 75, 74, 72, 76, 79, 76, 73, 76, 78, 75, 76, 72, 72, 73, 73, 75, 71, 76, 70, 75, 74, 75, 73, 71, 71, 72, 73, 73, 72, 69, 73, 78, 71, 73, 75, 76, 70, 74, 77, 75, 79, 72, 77, 73, 75, 75, 75, 73, 73, 76, 77, 75, 70, 71, 71, 75, 74, 69, 70, 75, 72, 75, 73, 72, 72, 72, 76, 75, 74, 69, 73, 72, 72, 75, 77, 76, 80, 77, 76, 79, 71, 75, 73, 76, 77, 73, 76, 70, 75, 73, 75, 70, 69, 71, 72, 72, 73, 70, 70, 73, 76, 75, 72, 73, 79, 71, 72, 74, 74, 74, 72, 76, 76, 72, 72, 71, 72, 72, 70, 77, 74, 72, 76, 71, 76, 71, 73, 70, 73, 73, 72, 71, 71, 71, 72, 72, 74, 74, 74, 71, 72, 75, 72, 71, 72, 72, 72, 72, 74, 74, 77, 75, 73, 75, 73, 76, 72, 77, 75, 72, 71, 71, 75, 72, 73, 73, 71, 70, 75, 71, 76, 73, 68, 71, 72, 74, 77, 72, 76, 78, 81, 72, 73, 76, 72, 72, 74, 76, 73, 76, 75, 70, 71, 74, 72, 73, 76, 76, 73, 71, 68, 71, 71, 74, 77, 69, 72, 76, 75, 76, 75, 76, 72, 74, 76, 74, 72, 75, 78, 77, 70, 72, 79, 74, 71, 68, 77, 75, 71, 72, 70, 72, 72, 73, 72, 74, 72, 72, 75, 72, 73, 74, 72, 78, 75, 72, 74, 75, 75, 76, 74, 74, 73, 74, 71, 74, 75, 76, 74, 76, 76, 73, 75, 75, 74, 68, 72, 75, 71, 70, 72, 73, 72, 75, 74, 70, 76, 71, 82, 72, 73, 74, 71, 75, 77, 72, 74, 72, 73, 78, 77, 73, 73, 73, 73, 73, 76, 75, 70, 73, 72, 73, 75, 74, 73, 73, 76, 73, 75, 70, 77, 72, 77, 74, 75, 75, 75, 75, 72, 74, 71, 76, 71, 75, 76, 83, 75, 74, 76, 72, 72, 75, 75, 72, 77, 73, 72, 70, 74, 72, 74, 72, 71, 70, 71, 76, 74, 76, 74, 74, 74, 75, 75, 71, 71, 74, 77, 71, 74, 75, 77, 76, 74, 76, 72, 71, 72, 75, 73, 68, 72, 69, 73, 73, 75, 70, 70, 74, 75, 74, 74, 73, 74, 75, 77, 73, 74, 76, 74, 75, 73, 76, 78, 75, 73, 77, 74, 72, 74, 72, 71, 73, 75, 73, 67, 67, 76, 74, 73, 70, 75, 70, 72, 77, 79, 78, 74, 75, 75, 78, 76, 75, 69, 75, 72, 75, 73, 74, 75, 75, 73]\n",
        "weights_lb = [180, 215, 210, 210, 188, 176, 209, 200, 231, 180, 188, 180, 185, 160, 180, 185, 189, 185, 219, 230, 205, 230, 195, 180, 192, 225, 203, 195, 182, 188, 200, 180, 200, 200, 245, 240, 215, 185, 175, 199, 200, 215, 200, 205, 206, 186, 188, 220, 210, 195, 200, 200, 212, 224, 210, 205, 220, 195, 200, 260, 228, 270, 200, 210, 190, 220, 180, 205, 210, 220, 211, 200, 180, 190, 170, 230, 155, 185, 185, 200, 225, 225, 220, 160, 205, 235, 250, 210, 190, 160, 200, 205, 222, 195, 205, 220, 220, 170, 185, 195, 220, 230, 180, 220, 180, 180, 170, 210, 215, 200, 213, 180, 192, 235, 185, 235, 210, 222, 210, 230, 220, 180, 190, 200, 210, 194, 180, 190, 240, 200, 198, 200, 195, 210, 220, 190, 210, 225, 180, 185, 170, 185, 185, 180, 178, 175, 200, 204, 211, 190, 210, 190, 190, 185, 290, 175, 185, 200, 220, 170, 220, 190, 220, 205, 200, 250, 225, 215, 210, 215, 195, 200, 194, 220, 180, 180, 170, 195, 180, 170, 206, 205, 200, 225, 201, 225, 233, 180, 225, 180, 220, 180, 237, 215, 190, 235, 190, 180, 165, 195, 200, 190, 190, 185, 185, 205, 190, 205, 206, 220, 208, 170, 195, 210, 190, 211, 230, 170, 185, 185, 241, 225, 210, 175, 230, 200, 215, 198, 226, 278, 215, 230, 240, 184, 219, 170, 218, 190, 225, 220, 176, 190, 197, 204, 167, 180, 195, 220, 215, 185, 190, 205, 205, 200, 210, 215, 200, 205, 211, 190, 208, 200, 210, 232, 230, 210, 220, 210, 202, 212, 225, 170, 190, 200, 237, 220, 170, 193, 190, 150, 220, 200, 190, 185, 185, 200, 172, 220, 225, 190, 195, 219, 190, 197, 200, 195, 210, 177, 220, 235, 180, 195, 195, 190, 230, 190, 200, 190, 190, 200, 200, 184, 200, 180, 219, 187, 200, 220, 205, 190, 170, 160, 215, 175, 205, 200, 214, 200, 190, 180, 205, 220, 190, 215, 235, 191, 200, 181, 200, 210, 240, 185, 165, 190, 185, 175, 155, 210, 170, 175, 220, 210, 205, 200, 205, 195, 240, 150, 200, 215, 202, 200, 190, 205, 190, 160, 215, 185, 200, 190, 210, 185, 220, 190, 202, 205, 220, 175, 160, 190, 200, 229, 206, 220, 180, 195, 175, 188, 230, 190, 200, 190, 219, 235, 180, 180, 180, 200, 234, 185, 220, 223, 200, 210, 200, 210, 190, 177, 227, 180, 195, 199, 175, 185, 240, 210, 180, 194, 225, 180, 205, 193, 230, 230, 220, 200, 249, 190, 208, 245, 250, 160, 192, 220, 170, 197, 155, 190, 200, 220, 210, 228, 190, 160, 184, 180, 180, 200, 176, 160, 222, 211, 195, 200, 175, 206, 240, 185, 260, 185, 221, 205, 200, 170, 201, 205, 185, 205, 245, 220, 210, 220, 185, 175, 170, 180, 200, 210, 175, 220, 206, 180, 210, 195, 200, 200, 164, 180, 220, 195, 205, 170, 240, 210, 195, 200, 205, 192, 190, 170, 240, 200, 205, 175, 250, 220, 224, 210, 195, 180, 245, 175, 180, 215, 175, 180, 195, 230, 230, 205, 215, 195, 180, 205, 180, 190, 180, 190, 190, 220, 210, 255, 190, 230, 200, 205, 210, 225, 215, 220, 205, 200, 220, 197, 225, 187, 245, 185, 185, 175, 200, 180, 188, 225, 200, 210, 245, 213, 231, 165, 228, 210, 250, 191, 190, 200, 215, 254, 232, 180, 215, 220, 180, 200, 170, 195, 210, 200, 220, 165, 180, 200, 200, 170, 224, 220, 180, 198, 240, 239, 185, 210, 220, 200, 195, 220, 230, 170, 220, 230, 165, 205, 192, 210, 205, 200, 210, 185, 195, 202, 205, 195, 180, 200, 185, 240, 185, 220, 205, 205, 180, 201, 190, 208, 240, 180, 230, 195, 215, 190, 195, 215, 215, 220, 220, 230, 195, 190, 195, 209, 204, 170, 185, 205, 175, 210, 190, 180, 180, 160, 235, 200, 210, 180, 190, 197, 203, 205, 170, 200, 250, 200, 220, 200, 190, 170, 190, 220, 215, 206, 215, 185, 235, 188, 230, 195, 168, 190, 160, 200, 200, 189, 180, 190, 200, 220, 187, 240, 190, 180, 185, 210, 220, 219, 190, 193, 175, 180, 215, 210, 200, 190, 185, 220, 170, 195, 205, 195, 210, 190, 190, 180, 220, 190, 186, 185, 190, 180, 190, 170, 210, 240, 220, 180, 210, 210, 195, 160, 180, 205, 200, 185, 245, 190, 210, 200, 200, 222, 215, 240, 170, 220, 156, 190, 202, 221, 200, 190, 210, 190, 200, 165, 190, 185, 230, 208, 209, 175, 180, 200, 205, 200, 250, 210, 230, 244, 202, 240, 200, 215, 177, 210, 170, 215, 217, 198, 200, 220, 170, 200, 230, 231, 183, 192, 167, 190, 180, 180, 215, 160, 205, 223, 175, 170, 190, 240, 175, 230, 223, 196, 167, 195, 190, 250, 190, 190, 190, 170, 160, 150, 225, 220, 209, 210, 176, 260, 195, 190, 184, 180, 195, 195, 219, 225, 212, 202, 185, 200, 209, 200, 195, 228, 210, 190, 212, 190, 218, 220, 190, 235, 210, 200, 188, 210, 235, 188, 215, 216, 220, 180, 185, 200, 210, 220, 185, 231, 210, 195, 200, 205, 200, 190, 250, 185, 180, 170, 180, 208, 235, 215, 244, 220, 185, 230, 190, 200, 180, 190, 196, 180, 230, 224, 160, 178, 205, 185, 210, 180, 190, 200, 257, 190, 220, 165, 205, 200, 208, 185, 215, 170, 235, 210, 170, 180, 170, 190, 150, 230, 203, 260, 246, 186, 210, 198, 210, 215, 180, 200, 245, 200, 192, 192, 200, 192, 205, 190, 186, 170, 197, 219, 200, 220, 207, 225, 207, 212, 225, 170, 190, 210, 230, 210, 200, 238, 234, 222, 200, 190, 170, 220, 223, 210, 215, 196, 175, 175, 189, 205, 210, 180, 180, 197, 220, 228, 190, 204, 165, 216, 220, 208, 210, 215, 195, 200, 215, 229, 240, 207, 205, 208, 185, 190, 170, 208, 225, 190, 225, 185, 180, 165, 240, 220, 212, 163, 215, 175, 205, 210, 205, 208, 215, 180, 200, 230, 211, 230, 190, 220, 180, 205, 190, 180, 205, 190, 195]"
      ]
    },
    {
      "cell_type": "code",
      "execution_count": null,
      "metadata": {
        "id": "8LpUSA6Zj4ne",
        "colab": {
          "base_uri": "https://localhost:8080/"
        },
        "outputId": "bcee2640-acea-4435-842e-7e821309e0b5"
      },
      "outputs": [
        {
          "output_type": "execute_result",
          "data": {
            "text/plain": [
              "(1015, 1015)"
            ]
          },
          "metadata": {},
          "execution_count": 20
        }
      ],
      "source": [
        "len(heights_in),len(weights_lb)"
      ]
    },
    {
      "cell_type": "code",
      "execution_count": null,
      "metadata": {
        "id": "jzXNLuE-j4ne"
      },
      "outputs": [],
      "source": [
        "# Importing the numpy library \n",
        "\n",
        "import numpy as np"
      ]
    },
    {
      "cell_type": "code",
      "execution_count": null,
      "metadata": {
        "id": "j4sZC_swj4nf"
      },
      "outputs": [],
      "source": [
        "# Convert the lists into NumPy arrays\n",
        "heights_in=np.array(heights_in)\n",
        "weights_lb=np.array(weights_lb)"
      ]
    },
    {
      "cell_type": "code",
      "execution_count": null,
      "metadata": {
        "id": "0YfHQQ_Kj4nf",
        "colab": {
          "base_uri": "https://localhost:8080/"
        },
        "outputId": "46fb73c1-06d1-4dc9-b30b-0e5c3f6d43e9"
      },
      "outputs": [
        {
          "output_type": "execute_result",
          "data": {
            "text/plain": [
              "numpy.ndarray"
            ]
          },
          "metadata": {},
          "execution_count": 23
        }
      ],
      "source": [
        "# Print the type of the created arrays\n",
        "type(weights_lb)"
      ]
    },
    {
      "cell_type": "code",
      "execution_count": null,
      "metadata": {
        "id": "7bxGJFU4j4nf",
        "colab": {
          "base_uri": "https://localhost:8080/"
        },
        "outputId": "2ab00ccf-c9e5-4cf2-f6ae-7f55b8dce2df"
      },
      "outputs": [
        {
          "output_type": "execute_result",
          "data": {
            "text/plain": [
              "1015"
            ]
          },
          "metadata": {},
          "execution_count": 24
        }
      ],
      "source": [
        "# Print the length of the created arrays\n",
        "\n",
        "weights_lb.size"
      ]
    },
    {
      "cell_type": "code",
      "execution_count": null,
      "metadata": {
        "id": "IGVztc8rj4ng"
      },
      "outputs": [],
      "source": [
        "# Convert the units of height and weight using appropriate factors (look in the video for the factors)\n",
        "\n",
        "heights_m = heights_in * 0.0254           # 1 inch = 0.025 meters        1 inch = 2.54 cm\n",
        "weights_kg = weights_lb * 0.45            # 1 lb = 0.45 Kgs"
      ]
    },
    {
      "cell_type": "code",
      "execution_count": null,
      "metadata": {
        "id": "YfgssrpTj4nh",
        "colab": {
          "base_uri": "https://localhost:8080/"
        },
        "outputId": "e0d4c985-a8ac-4b1b-85a0-23f4b06d77b8"
      },
      "outputs": [
        {
          "output_type": "stream",
          "name": "stdout",
          "text": [
            "[1.8796 1.8796 1.8288 ... 1.905  1.905  1.8542]\n",
            "[81.   96.75 94.5  ... 92.25 85.5  87.75]\n"
          ]
        }
      ],
      "source": [
        "# Print the newly created arrays\n",
        "\n",
        "print(heights_m)\n",
        "print(weights_kg)"
      ]
    },
    {
      "cell_type": "markdown",
      "metadata": {
        "id": "WLlDqAt2j4nh"
      },
      "source": [
        "**Deriving new data from existing**\n",
        "\n",
        "Now, let us try to calculate the Body Mass Index (BMI) value for the players. The formula for BMI is:\n",
        "\n",
        "$$ BMI = \\frac{Weight\\ of\\ the\\ individual}{(Height\\ of\\ the\\ individual) ^ 2} $$"
      ]
    },
    {
      "cell_type": "code",
      "execution_count": null,
      "metadata": {
        "id": "QPZxuvTyj4nh"
      },
      "outputs": [],
      "source": [
        "# Calculate the bmi value based on the formula above\n",
        "\n",
        "bmi = weights_kg/(heights_m**2)"
      ]
    },
    {
      "cell_type": "code",
      "execution_count": null,
      "metadata": {
        "id": "tf2FG2qUj4ni",
        "colab": {
          "base_uri": "https://localhost:8080/"
        },
        "outputId": "3513b60e-f684-45da-c07f-88d126917589"
      },
      "outputs": [
        {
          "output_type": "execute_result",
          "data": {
            "text/plain": [
              "array([22.92736507, 27.38546383, 28.25526484, ..., 25.42005084,\n",
              "       23.56004712, 25.5231323 ])"
            ]
          },
          "metadata": {},
          "execution_count": 28
        }
      ],
      "source": [
        "# Check the newly created array 'bmi'\n",
        "\n",
        "bmi"
      ]
    },
    {
      "cell_type": "markdown",
      "metadata": {
        "id": "-6LeMnbgj4ni"
      },
      "source": [
        "**Indexing through arrays**"
      ]
    },
    {
      "cell_type": "markdown",
      "metadata": {
        "id": "h_Qj4OuCj4ni"
      },
      "source": [
        "For **one-dimensional arrays**, indexing is **similar to Python lists** - indexing starts at 0."
      ]
    },
    {
      "cell_type": "code",
      "execution_count": null,
      "metadata": {
        "id": "xUTcNPwsj4nj",
        "colab": {
          "base_uri": "https://localhost:8080/"
        },
        "outputId": "292ad6b8-c800-457c-e98f-eb3321704cd5"
      },
      "outputs": [
        {
          "output_type": "execute_result",
          "data": {
            "text/plain": [
              "24.606917294149852"
            ]
          },
          "metadata": {},
          "execution_count": 29
        }
      ],
      "source": [
        "# Obtain the 5th element from the array 'bmi'\n",
        "\n",
        "bmi[4]"
      ]
    },
    {
      "cell_type": "code",
      "execution_count": null,
      "metadata": {
        "id": "j7AmtDZhj4nj",
        "colab": {
          "base_uri": "https://localhost:8080/"
        },
        "outputId": "5eb2f489-e68b-4efa-ed98-8c6dd3c68682"
      },
      "outputs": [
        {
          "output_type": "execute_result",
          "data": {
            "text/plain": [
              "23.56004712009424"
            ]
          },
          "metadata": {},
          "execution_count": 30
        }
      ],
      "source": [
        "# Obtain the 2nd last element from the array 'bmi'\n",
        "\n",
        "bmi[-2]"
      ]
    },
    {
      "cell_type": "code",
      "execution_count": null,
      "metadata": {
        "id": "TCldpGHxj4nj",
        "colab": {
          "base_uri": "https://localhost:8080/"
        },
        "outputId": "21d5db7f-ad7b-4ebe-d6d1-a969a7e4c095"
      },
      "outputs": [
        {
          "output_type": "execute_result",
          "data": {
            "text/plain": [
              "array([22.92736507, 27.38546383, 28.25526484, 28.25526484, 24.60691729])"
            ]
          },
          "metadata": {},
          "execution_count": 31
        }
      ],
      "source": [
        "# Obtain the first five elements from the array 'bmi'\n",
        "\n",
        "bmi[:5]"
      ]
    },
    {
      "cell_type": "code",
      "execution_count": null,
      "metadata": {
        "id": "dMCbeOQVj4nk",
        "colab": {
          "base_uri": "https://localhost:8080/"
        },
        "outputId": "3d0b713c-c763-4b79-981b-98e67a1eeb17"
      },
      "outputs": [
        {
          "output_type": "execute_result",
          "data": {
            "text/plain": [
              "array([25.42005084, 23.56004712, 25.5231323 ])"
            ]
          },
          "metadata": {},
          "execution_count": 32
        }
      ],
      "source": [
        "# Obtain the last three elements from the array 'bmi'\n",
        "bmi[-3:]"
      ]
    },
    {
      "cell_type": "markdown",
      "metadata": {
        "id": "JXspQxMZj4nh"
      },
      "source": [
        "As you can see, the NumPy way is clearly more concise. Even simple mathematical operations on lists required loops, unlike with arrays."
      ]
    },
    {
      "cell_type": "markdown",
      "metadata": {
        "id": "uneZNegqj4nm"
      },
      "source": [
        "## Subsets"
      ]
    },
    {
      "cell_type": "code",
      "execution_count": null,
      "metadata": {
        "id": "Dt3AT3ztj4no",
        "colab": {
          "base_uri": "https://localhost:8080/"
        },
        "outputId": "5c1811a3-01ac-41de-b3a2-0e4aabf3395d"
      },
      "outputs": [
        {
          "output_type": "execute_result",
          "data": {
            "text/plain": [
              "array([False, False, False, ..., False, False, False])"
            ]
          },
          "metadata": {},
          "execution_count": 33
        }
      ],
      "source": [
        "# Check for the elements where bmi value is less than 21\n",
        "\n",
        "bmi<21"
      ]
    },
    {
      "cell_type": "code",
      "execution_count": null,
      "metadata": {
        "id": "xCi48TL2j4np",
        "colab": {
          "base_uri": "https://localhost:8080/"
        },
        "outputId": "2694e028-79c2-42ed-a602-f929b91ce7d0"
      },
      "outputs": [
        {
          "output_type": "execute_result",
          "data": {
            "text/plain": [
              "array([20.37988006, 20.37988006, 20.5289538 , 20.5289538 , 20.18233203,\n",
              "       20.94205727, 20.18233203, 20.94205727, 20.94205727, 20.5289538 ,\n",
              "       19.99919669, 19.34403869, 20.5289538 , 20.75485206])"
            ]
          },
          "metadata": {},
          "execution_count": 34
        }
      ],
      "source": [
        "# Filter the elements where bmi value is less than 21\n",
        "bmi[bmi<21]\n"
      ]
    },
    {
      "cell_type": "code",
      "execution_count": null,
      "metadata": {
        "id": "rozTzhyRj4nq",
        "colab": {
          "base_uri": "https://localhost:8080/"
        },
        "outputId": "1a92da59-f0fd-4730-c187-94eae1fe7cb6"
      },
      "outputs": [
        {
          "output_type": "execute_result",
          "data": {
            "text/plain": [
              "14"
            ]
          },
          "metadata": {},
          "execution_count": 35
        }
      ],
      "source": [
        "# Count the number of elements where bmi value is less than 21\n",
        "\n",
        "bmi[bmi<21].size"
      ]
    },
    {
      "cell_type": "markdown",
      "source": [
        "#  Statistical Analysis\n",
        "\n",
        "Statistical analysis includes finding minimum (`.min()`), maximum (`max()`), mean(`.mean()`), median(`.median()`), mode, correlation, covariance(`.cov()`), standard deviation (`.std()`) and variance (`.var()`) of the numpy array.\n",
        "\n"
      ],
      "metadata": {
        "id": "TeODp1N6mnhS"
      }
    },
    {
      "cell_type": "code",
      "execution_count": null,
      "metadata": {
        "id": "nTW9A70Lj4nr",
        "colab": {
          "base_uri": "https://localhost:8080/"
        },
        "outputId": "6ae213f7-eb05-49b0-814e-c7438e71f65b"
      },
      "outputs": [
        {
          "output_type": "execute_result",
          "data": {
            "text/plain": [
              "20.942057271616893"
            ]
          },
          "metadata": {},
          "execution_count": 36
        }
      ],
      "source": [
        "bmi[bmi<21].max()"
      ]
    },
    {
      "cell_type": "code",
      "execution_count": null,
      "metadata": {
        "id": "VKrmfRGFj4ns",
        "colab": {
          "base_uri": "https://localhost:8080/"
        },
        "outputId": "86fd56d8-8eae-4460-9b3c-39531557f206"
      },
      "outputs": [
        {
          "output_type": "execute_result",
          "data": {
            "text/plain": [
              "34.9827088543066"
            ]
          },
          "metadata": {},
          "execution_count": 37
        }
      ],
      "source": [
        "# Find the maximum bmi values among the players\n",
        "\n",
        "bmi.max()"
      ]
    },
    {
      "cell_type": "code",
      "execution_count": null,
      "metadata": {
        "id": "JZfz1i9-j4ns",
        "colab": {
          "base_uri": "https://localhost:8080/"
        },
        "outputId": "13903ad3-7778-484a-9657-770d5f563316"
      },
      "outputs": [
        {
          "output_type": "execute_result",
          "data": {
            "text/plain": [
              "19.344038688077376"
            ]
          },
          "metadata": {},
          "execution_count": 38
        }
      ],
      "source": [
        "# Find the minimum bmi values among the players\n",
        "\n",
        "bmi.min()"
      ]
    },
    {
      "cell_type": "code",
      "execution_count": null,
      "metadata": {
        "id": "Il4d-kaAj4ns",
        "colab": {
          "base_uri": "https://localhost:8080/"
        },
        "outputId": "8566ad7a-6647-40e1-beed-6aea235d8909"
      },
      "outputs": [
        {
          "output_type": "execute_result",
          "data": {
            "text/plain": [
              "25.85050120927726"
            ]
          },
          "metadata": {},
          "execution_count": 39
        }
      ],
      "source": [
        "# Find the average bmi among the players\n",
        "\n",
        "bmi.mean()"
      ]
    },
    {
      "cell_type": "code",
      "execution_count": null,
      "metadata": {
        "id": "GrkMT0G4j4nt",
        "colab": {
          "base_uri": "https://localhost:8080/"
        },
        "outputId": "091aaf76-4ebb-4bb9-e318-b86665f3bc5e"
      },
      "outputs": [
        {
          "output_type": "execute_result",
          "data": {
            "text/plain": [
              "25.84233007801196"
            ]
          },
          "metadata": {},
          "execution_count": 40
        }
      ],
      "source": [
        "np.median(bmi)"
      ]
    },
    {
      "cell_type": "code",
      "source": [
        "! pip install statistics"
      ],
      "metadata": {
        "colab": {
          "base_uri": "https://localhost:8080/"
        },
        "id": "BnFOPbeDqKWq",
        "outputId": "94856ba4-a5a4-47ea-e83f-294942afe6af"
      },
      "execution_count": null,
      "outputs": [
        {
          "output_type": "stream",
          "name": "stdout",
          "text": [
            "Looking in indexes: https://pypi.org/simple, https://us-python.pkg.dev/colab-wheels/public/simple/\n",
            "Collecting statistics\n",
            "  Downloading statistics-1.0.3.5.tar.gz (8.3 kB)\n",
            "Requirement already satisfied: docutils>=0.3 in /usr/local/lib/python3.7/dist-packages (from statistics) (0.17.1)\n",
            "Building wheels for collected packages: statistics\n",
            "  Building wheel for statistics (setup.py) ... \u001b[?25l\u001b[?25hdone\n",
            "  Created wheel for statistics: filename=statistics-1.0.3.5-py3-none-any.whl size=7454 sha256=223e33a4450494019dee8f93e61d39f4f9bf1019c928b4c63c0c23de4670ba4b\n",
            "  Stored in directory: /root/.cache/pip/wheels/37/09/e1/49ee45c0ce248a6e9c986aae82d32bbcba09c9f3b9d0c3406a\n",
            "Successfully built statistics\n",
            "Installing collected packages: statistics\n",
            "Successfully installed statistics-1.0.3.5\n"
          ]
        }
      ]
    },
    {
      "cell_type": "code",
      "execution_count": null,
      "metadata": {
        "id": "guLZIb1Uj4nu",
        "colab": {
          "base_uri": "https://localhost:8080/",
          "height": 323
        },
        "outputId": "d89b1cee-47c4-4ccf-9866-fda01f8d7214"
      },
      "outputs": [
        {
          "output_type": "error",
          "ename": "StatisticsError",
          "evalue": "ignored",
          "traceback": [
            "\u001b[0;31m---------------------------------------------------------------------------\u001b[0m",
            "\u001b[0;31mStatisticsError\u001b[0m                           Traceback (most recent call last)",
            "\u001b[0;32m<ipython-input-42-7b755334acd8>\u001b[0m in \u001b[0;36m<module>\u001b[0;34m\u001b[0m\n\u001b[1;32m      2\u001b[0m \u001b[0;31m# Note: This step works fine in Jupyter Notebbok\u001b[0m\u001b[0;34m\u001b[0m\u001b[0;34m\u001b[0m\u001b[0;34m\u001b[0m\u001b[0m\n\u001b[1;32m      3\u001b[0m \u001b[0;32mimport\u001b[0m \u001b[0mstatistics\u001b[0m \u001b[0;32mas\u001b[0m \u001b[0mst\u001b[0m\u001b[0;34m\u001b[0m\u001b[0;34m\u001b[0m\u001b[0m\n\u001b[0;32m----> 4\u001b[0;31m \u001b[0mst\u001b[0m\u001b[0;34m.\u001b[0m\u001b[0mmode\u001b[0m\u001b[0;34m(\u001b[0m\u001b[0mbmi\u001b[0m\u001b[0;34m)\u001b[0m\u001b[0;34m\u001b[0m\u001b[0;34m\u001b[0m\u001b[0m\n\u001b[0m",
            "\u001b[0;32m/usr/lib/python3.7/statistics.py\u001b[0m in \u001b[0;36mmode\u001b[0;34m(data)\u001b[0m\n\u001b[1;32m    504\u001b[0m     \u001b[0;32melif\u001b[0m \u001b[0mtable\u001b[0m\u001b[0;34m:\u001b[0m\u001b[0;34m\u001b[0m\u001b[0;34m\u001b[0m\u001b[0m\n\u001b[1;32m    505\u001b[0m         raise StatisticsError(\n\u001b[0;32m--> 506\u001b[0;31m                 \u001b[0;34m'no unique mode; found %d equally common values'\u001b[0m \u001b[0;34m%\u001b[0m \u001b[0mlen\u001b[0m\u001b[0;34m(\u001b[0m\u001b[0mtable\u001b[0m\u001b[0;34m)\u001b[0m\u001b[0;34m\u001b[0m\u001b[0;34m\u001b[0m\u001b[0m\n\u001b[0m\u001b[1;32m    507\u001b[0m                 )\n\u001b[1;32m    508\u001b[0m     \u001b[0;32melse\u001b[0m\u001b[0;34m:\u001b[0m\u001b[0;34m\u001b[0m\u001b[0;34m\u001b[0m\u001b[0m\n",
            "\u001b[0;31mStatisticsError\u001b[0m: no unique mode; found 2 equally common values"
          ]
        }
      ],
      "source": [
        "# to find mode in numpy array\n",
        "# Note: This step works fine in Jupyter Notebbok\n",
        "import statistics as st\n",
        "st.mode(bmi)"
      ]
    },
    {
      "cell_type": "code",
      "source": [
        "# to find multiple mode in numpy array\n",
        "# Note: This step works fine in Jupyter Notebbok\n",
        "st.multimode(bmi)"
      ],
      "metadata": {
        "colab": {
          "base_uri": "https://localhost:8080/",
          "height": 201
        },
        "id": "sUV1e83xoicL",
        "outputId": "ea9a8106-0949-44c1-95a5-86409cbfa607"
      },
      "execution_count": null,
      "outputs": [
        {
          "output_type": "error",
          "ename": "AttributeError",
          "evalue": "ignored",
          "traceback": [
            "\u001b[0;31m---------------------------------------------------------------------------\u001b[0m",
            "\u001b[0;31mAttributeError\u001b[0m                            Traceback (most recent call last)",
            "\u001b[0;32m<ipython-input-43-dcef55666522>\u001b[0m in \u001b[0;36m<module>\u001b[0;34m\u001b[0m\n\u001b[1;32m      1\u001b[0m \u001b[0;31m# to find multiple mode in numpy array\u001b[0m\u001b[0;34m\u001b[0m\u001b[0;34m\u001b[0m\u001b[0;34m\u001b[0m\u001b[0m\n\u001b[1;32m      2\u001b[0m \u001b[0;31m# Note: This step works fine in Jupyter Notebbok\u001b[0m\u001b[0;34m\u001b[0m\u001b[0;34m\u001b[0m\u001b[0;34m\u001b[0m\u001b[0m\n\u001b[0;32m----> 3\u001b[0;31m \u001b[0mst\u001b[0m\u001b[0;34m.\u001b[0m\u001b[0mmultimode\u001b[0m\u001b[0;34m(\u001b[0m\u001b[0mbmi\u001b[0m\u001b[0;34m)\u001b[0m\u001b[0;34m\u001b[0m\u001b[0;34m\u001b[0m\u001b[0m\n\u001b[0m",
            "\u001b[0;31mAttributeError\u001b[0m: module 'statistics' has no attribute 'multimode'"
          ]
        }
      ]
    },
    {
      "cell_type": "code",
      "source": [
        "# If above code does't work try this in the Google Colab\n",
        "mymode = lambda x : x[0][x[1].argmax()]\n",
        "mymode(np.unique(bmi, return_counts=True))"
      ],
      "metadata": {
        "colab": {
          "base_uri": "https://localhost:8080/"
        },
        "id": "_kbHAmrIq4ZP",
        "outputId": "7c5737fa-847f-4753-a9c5-d1178e9565ff"
      },
      "execution_count": null,
      "outputs": [
        {
          "output_type": "execute_result",
          "data": {
            "text/plain": [
              "25.47485007314792"
            ]
          },
          "metadata": {},
          "execution_count": 44
        }
      ]
    },
    {
      "cell_type": "code",
      "execution_count": null,
      "metadata": {
        "id": "IAD7bykTj4nt",
        "colab": {
          "base_uri": "https://localhost:8080/"
        },
        "outputId": "84acc126-6b70-4000-fb0e-48ffda9d7211"
      },
      "outputs": [
        {
          "output_type": "execute_result",
          "data": {
            "text/plain": [
              "2.26658142199571"
            ]
          },
          "metadata": {},
          "execution_count": 45
        }
      ],
      "source": [
        "#Find the standard deviation of the bmi\n",
        "bmi.std()"
      ]
    },
    {
      "cell_type": "code",
      "execution_count": null,
      "metadata": {
        "id": "SfJYeFa_j4nu",
        "colab": {
          "base_uri": "https://localhost:8080/"
        },
        "outputId": "2e2fef72-44b2-40d0-ecfe-315df9e7e243"
      },
      "outputs": [
        {
          "output_type": "execute_result",
          "data": {
            "text/plain": [
              "5.137391342536095"
            ]
          },
          "metadata": {},
          "execution_count": 46
        }
      ],
      "source": [
        "#Find the variance of the bmi\n",
        "np.var(bmi)"
      ]
    },
    {
      "cell_type": "code",
      "execution_count": null,
      "metadata": {
        "id": "83dDKbtZj4nu",
        "colab": {
          "base_uri": "https://localhost:8080/"
        },
        "outputId": "9fb5be34-d01d-4c8d-87b4-62bcc4099561"
      },
      "outputs": [
        {
          "output_type": "execute_result",
          "data": {
            "text/plain": [
              "array(5.1424578)"
            ]
          },
          "metadata": {},
          "execution_count": 47
        }
      ],
      "source": [
        "#Find the covariance of the bmi\n",
        "np.cov(bmi)"
      ]
    },
    {
      "cell_type": "code",
      "source": [
        "#Find the correlation of the bmi\n",
        "np.corrcoef(bmi)"
      ],
      "metadata": {
        "colab": {
          "base_uri": "https://localhost:8080/"
        },
        "id": "5Ms4hyrnr2kD",
        "outputId": "21e06637-efd2-41ed-f40b-3d26b6c6937b"
      },
      "execution_count": null,
      "outputs": [
        {
          "output_type": "execute_result",
          "data": {
            "text/plain": [
              "1.0"
            ]
          },
          "metadata": {},
          "execution_count": 48
        }
      ]
    },
    {
      "cell_type": "markdown",
      "metadata": {
        "id": "ho__jHNtj4of"
      },
      "source": [
        "# Aggregation of array elements"
      ]
    },
    {
      "cell_type": "code",
      "execution_count": null,
      "metadata": {
        "id": "ANvqWl4Ij4of",
        "outputId": "ae524eb6-a177-4f1b-95ac-f08df2b633ad",
        "colab": {
          "base_uri": "https://localhost:8080/"
        }
      },
      "outputs": [
        {
          "output_type": "stream",
          "name": "stdout",
          "text": [
            "86\n",
            "86\n"
          ]
        }
      ],
      "source": [
        "# Reducing the elements to a single value based on addition\n",
        "x=np.array([1,2,3,4,70,6])\n",
        "print(np.add.reduce(x))\n",
        "\n",
        "print(x.sum())"
      ]
    },
    {
      "cell_type": "code",
      "execution_count": null,
      "metadata": {
        "id": "0oPOhrO2j4og",
        "outputId": "5238e07a-f267-4e29-855b-c4dc2af5ad22",
        "colab": {
          "base_uri": "https://localhost:8080/"
        }
      },
      "outputs": [
        {
          "output_type": "stream",
          "name": "stdout",
          "text": [
            "[  2   4   6   8 140  12]\n",
            "172\n"
          ]
        }
      ],
      "source": [
        "# Reducing the elements to a single value based on addition\n",
        "y=np.array([[1,2,3,4,70,6],[1,2,3,4,70,6]])\n",
        "print(np.add.reduce(y))\n",
        "\n",
        "print(y.sum())"
      ]
    },
    {
      "cell_type": "code",
      "execution_count": null,
      "metadata": {
        "id": "BfEJcZy-j4og",
        "outputId": "5b9248cb-6fbf-48cb-994e-675b8aed17a6",
        "colab": {
          "base_uri": "https://localhost:8080/"
        }
      },
      "outputs": [
        {
          "output_type": "stream",
          "name": "stdout",
          "text": [
            "[ 1  3  6 10 80 86]\n"
          ]
        }
      ],
      "source": [
        "# Cummulative addition of elements at each element\n",
        "print(np.add.accumulate(x))"
      ]
    },
    {
      "cell_type": "code",
      "execution_count": null,
      "metadata": {
        "scrolled": true,
        "id": "KartveVYj4oh",
        "outputId": "3288974c-84ce-478e-f77f-0f724643b683",
        "colab": {
          "base_uri": "https://localhost:8080/"
        }
      },
      "outputs": [
        {
          "output_type": "stream",
          "name": "stdout",
          "text": [
            "[[  1   2   3   4  70   6]\n",
            " [  2   4   6   8 140  12]]\n"
          ]
        }
      ],
      "source": [
        "# Cummulative addition of elements at each element\n",
        "print(np.add.accumulate(y))"
      ]
    },
    {
      "cell_type": "code",
      "execution_count": null,
      "metadata": {
        "id": "5YGR2vyZj4oi",
        "outputId": "bad5e670-5460-4040-83e8-67098ba68ac2",
        "colab": {
          "base_uri": "https://localhost:8080/"
        }
      },
      "outputs": [
        {
          "output_type": "stream",
          "name": "stdout",
          "text": [
            "[ 1  3  6 10 80 86]\n"
          ]
        }
      ],
      "source": [
        "print(np.cumsum(x))"
      ]
    },
    {
      "cell_type": "code",
      "execution_count": null,
      "metadata": {
        "id": "mYdX1Svrj4oi",
        "outputId": "8a98e1f2-e0cd-4167-ba34-f518d58f622b",
        "colab": {
          "base_uri": "https://localhost:8080/"
        }
      },
      "outputs": [
        {
          "output_type": "stream",
          "name": "stdout",
          "text": [
            "[  1   3   6  10  80  86  87  89  92  96 166 172]\n"
          ]
        }
      ],
      "source": [
        "print(np.cumsum(y))"
      ]
    },
    {
      "cell_type": "markdown",
      "metadata": {
        "id": "f3YF5Pmyj4nv"
      },
      "source": [
        "# Practice Exercise 1"
      ]
    },
    {
      "cell_type": "markdown",
      "metadata": {
        "id": "U2hlXcfSj4nv"
      },
      "source": [
        "You are provided with 2 lists that contain the data of an ecommerce website. The first list contains the data for the number of items sold for a particular product and the second list contains the price of the product sold. As a part of this exercise, solve the questions that are provided below."
      ]
    },
    {
      "cell_type": "code",
      "execution_count": null,
      "metadata": {
        "id": "0nUnwhOIj4nv"
      },
      "outputs": [],
      "source": [
        "number = [8, 9, 9, 1, 6, 9, 5, 7, 3, 9, 7, 3, 4, 8, 3, 5, 8, 4, 8, 7, 5, 7, 3, 6, 1, 2, 7, 4, 7, 7, 8, 4, 3, 4, 2, 2, 2, 7, 3, 5, 6, 1, 1, 3, 2, 1, 1, 7, 7, 1, 4, 4, 5, 6, 1, 2, 7, 4, 5, 8, 1, 4, 8, 6, 2, 4, 3, 7, 3, 6, 2, 3, 3, 3, 2, 4, 6, 8, 9, 3, 9, 3, 1, 8, 6, 6, 3, 3, 9, 4, 6, 4, 9, 6, 7, 1, 2, 8, 7, 8, 1, 4]\n",
        "price = [195, 225, 150, 150, 90, 60, 75, 255, 270, 225, 135, 195, 30, 15, 210, 105, 15, 30, 180, 60, 165, 60, 45, 225, 180, 90, 30, 210, 150, 15, 270, 60, 210, 180, 60, 225, 150, 150, 120, 195, 75, 240, 60, 45, 30, 180, 240, 285, 135, 165, 180, 240, 60, 105, 165, 240, 120, 45, 120, 165, 285, 225, 90, 105, 225, 45, 45, 45, 75, 180, 90, 240, 30, 30, 60, 135, 180, 15, 255, 180, 270, 135, 105, 135, 210, 180, 135, 195, 225, 75, 225, 15, 240, 60, 15, 180, 255, 90, 15, 150, 230, 150]"
      ]
    },
    {
      "cell_type": "markdown",
      "metadata": {
        "id": "lDrbuX4kj4nw"
      },
      "source": [
        "**How many different products are sold by the company in total?**\n",
        "\n",
        "-  99\n",
        "-  100\n",
        "-  101\n",
        "-  102\n"
      ]
    },
    {
      "cell_type": "code",
      "execution_count": null,
      "metadata": {
        "id": "YzLc7L-yj4nw",
        "colab": {
          "base_uri": "https://localhost:8080/"
        },
        "outputId": "4b508ef0-112b-4f76-81b4-5b891d413e30"
      },
      "outputs": [
        {
          "output_type": "execute_result",
          "data": {
            "text/plain": [
              "102"
            ]
          },
          "metadata": {},
          "execution_count": 56
        }
      ],
      "source": [
        "# Type your code here\n",
        "import numpy as np\n",
        "number=np.array(number)\n",
        "\n",
        "number.size"
      ]
    },
    {
      "cell_type": "markdown",
      "metadata": {
        "id": "w-NPNo8jj4nw"
      },
      "source": [
        "**How many items were sold in total?**\n",
        "\n",
        "-  460\n",
        "-  490\n",
        "-  500\n",
        "-  520\n"
      ]
    },
    {
      "cell_type": "code",
      "execution_count": null,
      "metadata": {
        "id": "xGNKIT3yj4nx",
        "colab": {
          "base_uri": "https://localhost:8080/"
        },
        "outputId": "351676b7-8639-4f86-9336-9e2948a0c2e3"
      },
      "outputs": [
        {
          "output_type": "execute_result",
          "data": {
            "text/plain": [
              "490"
            ]
          },
          "metadata": {},
          "execution_count": 57
        }
      ],
      "source": [
        "# Type your code here\n",
        "number.sum()"
      ]
    },
    {
      "cell_type": "markdown",
      "metadata": {
        "id": "Koyc0OdUj4ny"
      },
      "source": [
        "**What is the average price of the products sold by the ecommerce company?**\n",
        "\n",
        "-  139\n",
        "-  151\n",
        "-  142\n",
        "-  128"
      ]
    },
    {
      "cell_type": "code",
      "execution_count": null,
      "metadata": {
        "id": "beyuoq3Zj4ny",
        "colab": {
          "base_uri": "https://localhost:8080/"
        },
        "outputId": "b07fe967-f831-45d9-8f26-7842efe92e7b"
      },
      "outputs": [
        {
          "output_type": "execute_result",
          "data": {
            "text/plain": [
              "139.01960784313727"
            ]
          },
          "metadata": {},
          "execution_count": 58
        }
      ],
      "source": [
        "# Type your code here\n",
        "\n",
        "price=np.array(price)\n",
        "\n",
        "price.mean()"
      ]
    },
    {
      "cell_type": "markdown",
      "metadata": {
        "id": "ZyrHU3Npj4nz"
      },
      "source": [
        "**What is the price of the costliest item sold?**\n",
        "\n",
        "-  225\n",
        "-  310\n",
        "-  280\n",
        "-  285"
      ]
    },
    {
      "cell_type": "code",
      "execution_count": null,
      "metadata": {
        "id": "inzfMuD_j4nz",
        "colab": {
          "base_uri": "https://localhost:8080/"
        },
        "outputId": "a6e28a3e-cfc2-401e-b660-7c09f6c3fe70"
      },
      "outputs": [
        {
          "output_type": "execute_result",
          "data": {
            "text/plain": [
              "285"
            ]
          },
          "metadata": {},
          "execution_count": 59
        }
      ],
      "source": [
        "# Type your code here\n",
        "price.max()"
      ]
    },
    {
      "cell_type": "markdown",
      "metadata": {
        "id": "PBCgENqLj4n0"
      },
      "source": [
        "**What is the total revenue of the company? [Revenue = Price\\*Quantity]**\n",
        "\n",
        "-  67100\n",
        "-  53900\n",
        "-  45300\n",
        "-  71200"
      ]
    },
    {
      "cell_type": "code",
      "execution_count": null,
      "metadata": {
        "id": "D6d6wopRj4n0",
        "colab": {
          "base_uri": "https://localhost:8080/"
        },
        "outputId": "2f90c961-4762-48a5-d387-8e9d6dabc1e2"
      },
      "outputs": [
        {
          "output_type": "execute_result",
          "data": {
            "text/plain": [
              "67100"
            ]
          },
          "metadata": {},
          "execution_count": 60
        }
      ],
      "source": [
        "# Type your code here\n",
        "\n",
        "Revenue= (price*number).sum()\n",
        "# Revenue=Revenue.sum()\n",
        "Revenue"
      ]
    },
    {
      "cell_type": "markdown",
      "metadata": {
        "collapsed": true,
        "id": "5xwZq6yEj4n1"
      },
      "source": [
        "**Demand for the 20th product in the list is more than the 50th product. [True/False]**\n",
        "-  True\n",
        "-  False\n",
        "-  Can't be calculated"
      ]
    },
    {
      "cell_type": "code",
      "execution_count": null,
      "metadata": {
        "id": "QF0QA4D-j4n1",
        "colab": {
          "base_uri": "https://localhost:8080/"
        },
        "outputId": "486dd5f1-421c-44e0-d116-20f4b3d926e9"
      },
      "outputs": [
        {
          "output_type": "execute_result",
          "data": {
            "text/plain": [
              "True"
            ]
          },
          "metadata": {},
          "execution_count": 61
        }
      ],
      "source": [
        "# Type your code here\n",
        "number[19]>number[49]"
      ]
    },
    {
      "cell_type": "code",
      "execution_count": null,
      "metadata": {
        "id": "Kbv4TKZNj4n2",
        "colab": {
          "base_uri": "https://localhost:8080/"
        },
        "outputId": "6980dcd4-4162-4ca1-dc4c-e7bd945d194e"
      },
      "outputs": [
        {
          "output_type": "execute_result",
          "data": {
            "text/plain": [
              "7"
            ]
          },
          "metadata": {},
          "execution_count": 62
        }
      ],
      "source": [
        "number[19]"
      ]
    },
    {
      "cell_type": "code",
      "execution_count": null,
      "metadata": {
        "id": "XffGWpSDj4n2",
        "colab": {
          "base_uri": "https://localhost:8080/"
        },
        "outputId": "087c565e-2cca-40e6-a3d5-4ed0c26873c6"
      },
      "outputs": [
        {
          "output_type": "execute_result",
          "data": {
            "text/plain": [
              "1"
            ]
          },
          "metadata": {},
          "execution_count": 63
        }
      ],
      "source": [
        "number[49]"
      ]
    },
    {
      "cell_type": "markdown",
      "metadata": {
        "id": "g_LpVj1aj4n2"
      },
      "source": [
        "**How many products fall under the category of expensive goods? \n",
        "An expensive good is that good whose price is more than the average price of the products sold by the company.**\n",
        "\n",
        "-  48\n",
        "-  50\n",
        "-  52\n",
        "-  54"
      ]
    },
    {
      "cell_type": "code",
      "execution_count": null,
      "metadata": {
        "id": "xHTvDjwfj4n3",
        "colab": {
          "base_uri": "https://localhost:8080/"
        },
        "outputId": "532dcfac-0bf5-407f-efb1-d924a4300b71"
      },
      "outputs": [
        {
          "output_type": "execute_result",
          "data": {
            "text/plain": [
              "52"
            ]
          },
          "metadata": {},
          "execution_count": 64
        }
      ],
      "source": [
        "# Type your code here\n",
        "\n",
        "price[price > price.mean()].size "
      ]
    },
    {
      "cell_type": "code",
      "execution_count": null,
      "metadata": {
        "id": "WoG2gClhj4n3"
      },
      "outputs": [],
      "source": []
    },
    {
      "cell_type": "markdown",
      "metadata": {
        "id": "uWtfRjiKj4pE"
      },
      "source": [
        "# Linear Algebra\n",
        "\n",
        "    7x + 5y - 3z = 16\n",
        "    3x - 5y + 2z = -8\n",
        "    5x + 3y - 7z = 0"
      ]
    },
    {
      "cell_type": "code",
      "execution_count": null,
      "metadata": {
        "id": "8rh7wqdxj4pE"
      },
      "outputs": [],
      "source": [
        "import numpy as np"
      ]
    },
    {
      "cell_type": "code",
      "execution_count": null,
      "metadata": {
        "id": "Lty7UB3Oj4pE",
        "outputId": "1cf7bff6-0fac-4860-bb69-5b2d5b838c1f",
        "colab": {
          "base_uri": "https://localhost:8080/"
        }
      },
      "outputs": [
        {
          "output_type": "execute_result",
          "data": {
            "text/plain": [
              "array([1., 3., 2.])"
            ]
          },
          "metadata": {},
          "execution_count": 66
        }
      ],
      "source": [
        "# to get the solution of the equation use np.linalg.solve()\n",
        "\n",
        "a = np.array([ [7,5,-3],[3,-5,2],[5,3,-7] ])\n",
        "b = np.array([16,-8,0])\n",
        "\n",
        "np.linalg.solve(a,b)"
      ]
    },
    {
      "cell_type": "code",
      "execution_count": null,
      "metadata": {
        "id": "OIejdPQaj4pJ",
        "outputId": "37b71783-40e4-47d2-b142-2dd7b6fd3916",
        "colab": {
          "base_uri": "https://localhost:8080/"
        }
      },
      "outputs": [
        {
          "output_type": "stream",
          "name": "stdout",
          "text": [
            "[[ 7  5 -3]\n",
            " [ 3 -5  2]\n",
            " [ 5  3 -7]]\n"
          ]
        },
        {
          "output_type": "execute_result",
          "data": {
            "text/plain": [
              "array([[ 0.11328125,  0.1015625 , -0.01953125],\n",
              "       [ 0.12109375, -0.1328125 , -0.08984375],\n",
              "       [ 0.1328125 ,  0.015625  , -0.1953125 ]])"
            ]
          },
          "metadata": {},
          "execution_count": 67
        }
      ],
      "source": [
        "# to get the inverse of the matrix use np.linalg.inv()\n",
        "a = np.array([ [7,5,-3],[3,-5,2],[5,3,-7] ])\n",
        "print(a)\n",
        "\n",
        "np.linalg.inv(a)"
      ]
    },
    {
      "cell_type": "code",
      "execution_count": null,
      "metadata": {
        "id": "ZbiPF1Lmj4pJ",
        "outputId": "914453dc-162e-4bb3-dfd7-c7fe570e71a6",
        "colab": {
          "base_uri": "https://localhost:8080/"
        }
      },
      "outputs": [
        {
          "output_type": "execute_result",
          "data": {
            "text/plain": [
              "array([[ 0.11,  0.1 , -0.02],\n",
              "       [ 0.12, -0.13, -0.09],\n",
              "       [ 0.13,  0.02, -0.2 ]])"
            ]
          },
          "metadata": {},
          "execution_count": 68
        }
      ],
      "source": [
        "np.round(np.linalg.inv(a),2)"
      ]
    },
    {
      "cell_type": "code",
      "execution_count": null,
      "metadata": {
        "id": "bdRjbE5Cj4pK",
        "outputId": "d64c9cf1-0ef0-4fb8-9c02-dbd75c8fb334",
        "colab": {
          "base_uri": "https://localhost:8080/"
        }
      },
      "outputs": [
        {
          "output_type": "stream",
          "name": "stdout",
          "text": [
            "[[ 7  5 -3]\n",
            " [ 3 -5  2]\n",
            " [ 5  3 -7]]\n"
          ]
        },
        {
          "output_type": "execute_result",
          "data": {
            "text/plain": [
              "255.99999999999994"
            ]
          },
          "metadata": {},
          "execution_count": 69
        }
      ],
      "source": [
        "# to get the determinant of the matrix use np.linalg.det()\n",
        "a = np.array([ [7,5,-3],[3,-5,2],[5,3,-7] ])\n",
        "print(a)\n",
        "\n",
        "np.linalg.det(a)"
      ]
    },
    {
      "cell_type": "code",
      "execution_count": null,
      "metadata": {
        "id": "76y-4nkpj4pK",
        "outputId": "64225eef-d8a9-4fbe-c5bd-2e98131f2ab2",
        "colab": {
          "base_uri": "https://localhost:8080/"
        }
      },
      "outputs": [
        {
          "output_type": "execute_result",
          "data": {
            "text/plain": [
              "256.0"
            ]
          },
          "metadata": {},
          "execution_count": 70
        }
      ],
      "source": [
        "np.round(np.linalg.det(a),2)"
      ]
    },
    {
      "cell_type": "code",
      "execution_count": null,
      "metadata": {
        "id": "XEMtUrr6j4pK"
      },
      "outputs": [],
      "source": [
        "A = np.array([[1, 1],\n",
        "              [0, 1]])\n",
        "\n",
        "B = np.array([[2, 0],\n",
        "              [3, 4]])"
      ]
    },
    {
      "cell_type": "code",
      "execution_count": null,
      "metadata": {
        "scrolled": true,
        "id": "o6LaHchUj4pK",
        "outputId": "5189fa21-7a66-48e3-c10f-5410fdd28ed4",
        "colab": {
          "base_uri": "https://localhost:8080/"
        }
      },
      "outputs": [
        {
          "output_type": "execute_result",
          "data": {
            "text/plain": [
              "array([[2, 0],\n",
              "       [0, 4]])"
            ]
          },
          "metadata": {},
          "execution_count": 72
        }
      ],
      "source": [
        "A * B     # elementwise product"
      ]
    },
    {
      "cell_type": "code",
      "execution_count": null,
      "metadata": {
        "id": "E-XBqZ9Sj4pM",
        "outputId": "b9a891c7-0dac-47c3-fa5a-509dfb86607e",
        "colab": {
          "base_uri": "https://localhost:8080/"
        }
      },
      "outputs": [
        {
          "output_type": "execute_result",
          "data": {
            "text/plain": [
              "array([[5, 4],\n",
              "       [3, 4]])"
            ]
          },
          "metadata": {},
          "execution_count": 73
        }
      ],
      "source": [
        "A @ B     # matrix product or dot product"
      ]
    },
    {
      "cell_type": "code",
      "execution_count": null,
      "metadata": {
        "id": "mJLfoywNj4pM",
        "outputId": "eb26a64f-d04a-4844-8191-0f131b6595db",
        "colab": {
          "base_uri": "https://localhost:8080/"
        }
      },
      "outputs": [
        {
          "output_type": "execute_result",
          "data": {
            "text/plain": [
              "array([[5, 4],\n",
              "       [3, 4]])"
            ]
          },
          "metadata": {},
          "execution_count": 74
        }
      ],
      "source": [
        "A.dot(B)  # another matrix product"
      ]
    },
    {
      "cell_type": "code",
      "execution_count": null,
      "metadata": {
        "id": "9gAueAyQj4pN",
        "outputId": "f1470160-694e-4470-841a-34d2062f0484",
        "colab": {
          "base_uri": "https://localhost:8080/"
        }
      },
      "outputs": [
        {
          "output_type": "stream",
          "name": "stdout",
          "text": [
            "14\n"
          ]
        }
      ],
      "source": [
        "p = [4, 2]\n",
        "q = [5, 6]\n",
        "product = np.cross(p,q)       # cross product\n",
        "print(product)"
      ]
    },
    {
      "cell_type": "markdown",
      "metadata": {
        "id": "iYHmkk_Jj4oL"
      },
      "source": [
        "# Creating Special NumPy Arrays \n",
        "\n",
        "There are multiple ways to create numpy arrays, the most commmon ones being:\n",
        "* Convert lists or tuples to arrays using ```np.array()```\n",
        "* Initialise arrays of fixed size (when the size is known) "
      ]
    },
    {
      "cell_type": "markdown",
      "metadata": {
        "id": "m9xeUZw2j4oL"
      },
      "source": [
        "The following ways are commonly used:\n",
        "* ```np.arange()```: Create array with increments of a fixed step size\n",
        "* ```np.ones()```: Create array of 1s\n",
        "* ```np.zeros()```: Create array of 0s\n",
        "* ```np.linspace()```: Create array of fixed length\n",
        "-  `np.full()`: Create a constant array of any number ‘n’\n",
        "-  `np.tile()`: Create a new array by repeating an existing array for a particular number of times\n",
        "-  `np.eye()`: Create an identity matrix of any dimension\n",
        "* ```np.random.random()```: Create array of random numbers between 0 and 1\n",
        "-  `np.random.randint()`: Create a random array of integers within a particular range"
      ]
    },
    {
      "cell_type": "code",
      "execution_count": null,
      "metadata": {
        "id": "ycMMFjAYj4oM"
      },
      "outputs": [],
      "source": [
        "# importing the NumPy library\n",
        "\n",
        "import numpy as np"
      ]
    },
    {
      "cell_type": "code",
      "source": [
        "# creating an array with 4 elements and increments of a fixed step size\n",
        "# default step size is one\n",
        "np_1 = np.arange(4)\n",
        "np_1"
      ],
      "metadata": {
        "colab": {
          "base_uri": "https://localhost:8080/"
        },
        "id": "AKmOR87Rtn1S",
        "outputId": "2ef9e23e-b4e7-49df-ae08-c52d1be4591a"
      },
      "execution_count": null,
      "outputs": [
        {
          "output_type": "execute_result",
          "data": {
            "text/plain": [
              "array([0, 1, 2, 3])"
            ]
          },
          "metadata": {},
          "execution_count": 77
        }
      ]
    },
    {
      "cell_type": "code",
      "execution_count": null,
      "metadata": {
        "id": "fAlZUrvCj4oM",
        "colab": {
          "base_uri": "https://localhost:8080/"
        },
        "outputId": "19f4f721-f471-4d83-9065-649b6d16c223"
      },
      "outputs": [
        {
          "output_type": "stream",
          "name": "stdout",
          "text": [
            "[ 2  4  6  8 10]\n"
          ]
        }
      ],
      "source": [
        "# creating an array between 2 and 11 elements and increments of a fixed step size 2\n",
        "# default step size is one\n",
        "np_1 = np.arange(2,11,2)\n",
        "print(np_1)"
      ]
    },
    {
      "cell_type": "code",
      "execution_count": null,
      "metadata": {
        "id": "_9SvK0QOj4oN",
        "colab": {
          "base_uri": "https://localhost:8080/"
        },
        "outputId": "705f4372-2f2c-456e-cf9b-673c1de1a305"
      },
      "outputs": [
        {
          "output_type": "stream",
          "name": "stdout",
          "text": [
            "[0. 0. 0. 0. 0.]\n"
          ]
        }
      ],
      "source": [
        "# creating an array of zeroes with 5 elements\n",
        "np_2 = np.zeros(5)\n",
        "print(np_2)"
      ]
    },
    {
      "cell_type": "code",
      "execution_count": null,
      "metadata": {
        "id": "qB_D5hSYj4oP",
        "colab": {
          "base_uri": "https://localhost:8080/"
        },
        "outputId": "3dab2e1e-29d2-4384-fd45-596df981fd63"
      },
      "outputs": [
        {
          "output_type": "execute_result",
          "data": {
            "text/plain": [
              "dtype('float64')"
            ]
          },
          "metadata": {},
          "execution_count": 80
        }
      ],
      "source": [
        "# data type of np_2\n",
        "np_2.dtype\n",
        "\n",
        "# Default data type will be float"
      ]
    },
    {
      "cell_type": "code",
      "execution_count": null,
      "metadata": {
        "id": "2hUQlqyvj4oP",
        "colab": {
          "base_uri": "https://localhost:8080/"
        },
        "outputId": "3dbc53f8-b52d-470e-c7c2-e7b01b746de7"
      },
      "outputs": [
        {
          "output_type": "execute_result",
          "data": {
            "text/plain": [
              "(dtype('int64'), array([0, 0, 0, 0, 0]))"
            ]
          },
          "metadata": {},
          "execution_count": 81
        }
      ],
      "source": [
        "# specifying the data type of the array in the provided attribute\n",
        "\n",
        "np_2 = np.zeros(5,dtype=\"int\")\n",
        "np_2.dtype, np_2"
      ]
    },
    {
      "cell_type": "code",
      "execution_count": null,
      "metadata": {
        "id": "eT3aWVa9j4oP",
        "colab": {
          "base_uri": "https://localhost:8080/"
        },
        "outputId": "f6ed12a2-fefb-4506-d9fa-e2337ef582fb"
      },
      "outputs": [
        {
          "output_type": "execute_result",
          "data": {
            "text/plain": [
              "array([0, 0, 0, 0, 0])"
            ]
          },
          "metadata": {},
          "execution_count": 82
        }
      ],
      "source": [
        "np_2"
      ]
    },
    {
      "cell_type": "code",
      "execution_count": null,
      "metadata": {
        "id": "odjM45w3j4oQ",
        "colab": {
          "base_uri": "https://localhost:8080/"
        },
        "outputId": "baf82232-a826-4442-bd66-97e4498783db"
      },
      "outputs": [
        {
          "output_type": "stream",
          "name": "stdout",
          "text": [
            "[ 2  4  6  8 10]\n"
          ]
        }
      ],
      "source": [
        "# adding the two arrays: np_1 and np_2\n",
        "print(np_1 + np_2)"
      ]
    },
    {
      "cell_type": "code",
      "execution_count": null,
      "metadata": {
        "id": "MbUDj2Gzj4oQ",
        "colab": {
          "base_uri": "https://localhost:8080/"
        },
        "outputId": "1d6988ae-1277-45af-ee3a-ba0d2cee82e3"
      },
      "outputs": [
        {
          "output_type": "execute_result",
          "data": {
            "text/plain": [
              "5"
            ]
          },
          "metadata": {},
          "execution_count": 84
        }
      ],
      "source": [
        "# check the dimension of the arrays\n",
        "# array np_1\n",
        "np_1.size"
      ]
    },
    {
      "cell_type": "code",
      "execution_count": null,
      "metadata": {
        "id": "_fveYKTpj4oR",
        "colab": {
          "base_uri": "https://localhost:8080/"
        },
        "outputId": "3f9cc0a8-a1be-49ff-e29d-31d5be4f0dec"
      },
      "outputs": [
        {
          "output_type": "execute_result",
          "data": {
            "text/plain": [
              "5"
            ]
          },
          "metadata": {},
          "execution_count": 85
        }
      ],
      "source": [
        "# check the dimension of the arrays\n",
        "# array np_2\n",
        "np_2.size"
      ]
    },
    {
      "cell_type": "code",
      "execution_count": null,
      "metadata": {
        "id": "c0Xq2KVnj4oR",
        "colab": {
          "base_uri": "https://localhost:8080/"
        },
        "outputId": "f166fe8c-dab4-47df-db07-299da444d60a"
      },
      "outputs": [
        {
          "output_type": "stream",
          "name": "stdout",
          "text": [
            "[1. 1. 1. 1. 1.]\n"
          ]
        }
      ],
      "source": [
        "# creating a third array with all the 5 elements as ones\n",
        "\n",
        "np_3 = np.ones(5)\n",
        "print(np_3)"
      ]
    },
    {
      "cell_type": "code",
      "execution_count": null,
      "metadata": {
        "id": "726cH5nij4oS",
        "colab": {
          "base_uri": "https://localhost:8080/"
        },
        "outputId": "4409148b-e0ff-425b-b9d1-752916b91824"
      },
      "outputs": [
        {
          "output_type": "execute_result",
          "data": {
            "text/plain": [
              "5"
            ]
          },
          "metadata": {},
          "execution_count": 87
        }
      ],
      "source": [
        "# check the dimension of the arrays\n",
        "np_3.size"
      ]
    },
    {
      "cell_type": "code",
      "execution_count": null,
      "metadata": {
        "id": "uTpqJ0hoj4oT",
        "colab": {
          "base_uri": "https://localhost:8080/"
        },
        "outputId": "b26a05b9-0d1c-44ab-df4f-c2b6a03625e1"
      },
      "outputs": [
        {
          "output_type": "stream",
          "name": "stdout",
          "text": [
            "[1 1 1 1 1]\n"
          ]
        }
      ],
      "source": [
        "# creating a third array with all the 5 elements as ones\n",
        "\n",
        "np_4 = np.ones(5,dtype=int)\n",
        "\n",
        "# checking the created array:np_3\n",
        "print(np_4)"
      ]
    },
    {
      "cell_type": "code",
      "execution_count": null,
      "metadata": {
        "id": "AIOIxVMNj4oT",
        "colab": {
          "base_uri": "https://localhost:8080/"
        },
        "outputId": "ccd52ee8-3a6e-495e-f283-14810431d305"
      },
      "outputs": [
        {
          "output_type": "stream",
          "name": "stdout",
          "text": [
            "[-1. -1. -1. -1. -1.]\n"
          ]
        }
      ],
      "source": [
        "# subtracting the array np_3 from array np_2\n",
        "\n",
        "print(np_2 - np_3)"
      ]
    },
    {
      "cell_type": "markdown",
      "source": [
        " **np.linespace()**\n",
        " \n",
        "![](https://i.imgur.com/SbJ7owv.jpg)"
      ],
      "metadata": {
        "id": "nUlESoeyvJAb"
      }
    },
    {
      "cell_type": "code",
      "execution_count": null,
      "metadata": {
        "id": "jatYMd5cj4oU",
        "colab": {
          "base_uri": "https://localhost:8080/"
        },
        "outputId": "9a4bede1-3cae-4886-b714-d14c521aa5e5"
      },
      "outputs": [
        {
          "output_type": "stream",
          "name": "stdout",
          "text": [
            "[ 1.    12.125 23.25  34.375 45.5   56.625 67.75  78.875 90.   ]\n"
          ]
        }
      ],
      "source": [
        "# creating an array of fixed length\n",
        "np_5 = np.linspace(1,90,9)\n",
        "\n",
        "# checking the created array:np_4\n",
        "print(np_5)"
      ]
    },
    {
      "cell_type": "code",
      "execution_count": null,
      "metadata": {
        "id": "pksXo0HEj4oU",
        "colab": {
          "base_uri": "https://localhost:8080/"
        },
        "outputId": "b53c4507-de86-473b-cf39-3f4e6017b9a6"
      },
      "outputs": [
        {
          "output_type": "stream",
          "name": "stdout",
          "text": [
            "[ 1.  2.  3.  4.  5.  6.  7.  8.  9. 10.]\n"
          ]
        }
      ],
      "source": [
        "# creating an array of fixed length\n",
        "np_6 = np.linspace(1,10,10)\n",
        "\n",
        "# checking the created array:np_4\n",
        "print(np_6)"
      ]
    },
    {
      "cell_type": "code",
      "execution_count": null,
      "metadata": {
        "id": "7YYKy713j4oV",
        "colab": {
          "base_uri": "https://localhost:8080/"
        },
        "outputId": "55467ef0-86ea-4056-8557-f12d71352629"
      },
      "outputs": [
        {
          "output_type": "stream",
          "name": "stdout",
          "text": [
            "(array([ 1.   , 12.125, 23.25 , 34.375, 45.5  , 56.625, 67.75 , 78.875,\n",
            "       90.   ]), 11.125)\n"
          ]
        }
      ],
      "source": [
        "np_7=np.linspace(1,90,9,retstep=True)\n",
        "print(np_7)"
      ]
    },
    {
      "cell_type": "code",
      "execution_count": null,
      "metadata": {
        "id": "_USr_iu9j4ob",
        "colab": {
          "base_uri": "https://localhost:8080/"
        },
        "outputId": "17c4fe44-39d0-4f91-e88b-30f74bf7014c"
      },
      "outputs": [
        {
          "output_type": "stream",
          "name": "stdout",
          "text": [
            "[1 2 3 4 5 6]\n"
          ]
        }
      ],
      "source": [
        "# Empty array: Return a new array of given shape and type, without initializing entries.\n",
        "x = np.arange(1, 7)\n",
        "print(x)"
      ]
    },
    {
      "cell_type": "code",
      "execution_count": null,
      "metadata": {
        "id": "_pw_nLEHj4oc",
        "outputId": "17aba4cd-bc6a-4650-96e5-faf9f1d957c5",
        "colab": {
          "base_uri": "https://localhost:8080/"
        }
      },
      "outputs": [
        {
          "output_type": "stream",
          "name": "stdout",
          "text": [
            "[4.94e-324 9.88e-324 1.48e-323 1.98e-323 3.46e-322 2.96e-323]\n"
          ]
        }
      ],
      "source": [
        "# Creating empty arrays\n",
        "y = np.empty(6)\n",
        "print(y)"
      ]
    },
    {
      "cell_type": "code",
      "execution_count": null,
      "metadata": {
        "id": "zc-7mo0Nj4oc",
        "outputId": "765ee4e4-ea21-4cdd-9936-be10a9c0fac2",
        "colab": {
          "base_uri": "https://localhost:8080/"
        }
      },
      "outputs": [
        {
          "output_type": "execute_result",
          "data": {
            "text/plain": [
              "array([10., 20., 30., 40., 50., 60.])"
            ]
          },
          "metadata": {},
          "execution_count": 95
        }
      ],
      "source": [
        "# filling the empty array\n",
        "np.multiply(x,10,y)"
      ]
    },
    {
      "cell_type": "code",
      "execution_count": null,
      "metadata": {
        "id": "yY2gv0Mfj4od",
        "outputId": "901afa71-37f5-49e0-f7d0-5e546743feef",
        "colab": {
          "base_uri": "https://localhost:8080/"
        }
      },
      "outputs": [
        {
          "output_type": "execute_result",
          "data": {
            "text/plain": [
              "array([ 10.,  40.,  90., 160., 250., 360.])"
            ]
          },
          "metadata": {},
          "execution_count": 96
        }
      ],
      "source": [
        "# printing the output obtained above\n",
        "y*x"
      ]
    },
    {
      "cell_type": "code",
      "execution_count": null,
      "metadata": {
        "id": "FlUkvBjPj4ok",
        "outputId": "353586c7-99ae-4bb1-809b-9ee6d66fdc08",
        "colab": {
          "base_uri": "https://localhost:8080/"
        }
      },
      "outputs": [
        {
          "output_type": "execute_result",
          "data": {
            "text/plain": [
              "array([[7, 7, 7],\n",
              "       [7, 7, 7],\n",
              "       [7, 7, 7],\n",
              "       [7, 7, 7]])"
            ]
          },
          "metadata": {},
          "execution_count": 97
        }
      ],
      "source": [
        "# Creating a 4 x 3 array of 7s using np.full()\n",
        "# The default data type here is 'int' only\n",
        "np.full((4,3), 7)"
      ]
    },
    {
      "cell_type": "code",
      "execution_count": null,
      "metadata": {
        "id": "v223gTqmj4ol",
        "outputId": "0c87c367-4a49-4d50-9c9f-195aed5ec168",
        "colab": {
          "base_uri": "https://localhost:8080/"
        }
      },
      "outputs": [
        {
          "output_type": "execute_result",
          "data": {
            "text/plain": [
              "array([0, 1, 2, 0, 1, 2, 0, 1, 2])"
            ]
          },
          "metadata": {},
          "execution_count": 98
        }
      ],
      "source": [
        "# Given an array, np.tile() creates a new array by repeating the given array for any number of times that you want\n",
        "# The default data type her is int only\n",
        "arr = [0, 1, 2]\n",
        "np.tile(arr, 3)"
      ]
    },
    {
      "cell_type": "code",
      "execution_count": null,
      "metadata": {
        "id": "ABB6iIYkj4om",
        "outputId": "731f7ac2-3a5d-47e3-e8ee-f18c139d0fb7",
        "colab": {
          "base_uri": "https://localhost:8080/"
        }
      },
      "outputs": [
        {
          "output_type": "execute_result",
          "data": {
            "text/plain": [
              "array([[0, 1, 2, 0, 1, 2],\n",
              "       [0, 1, 2, 0, 1, 2],\n",
              "       [0, 1, 2, 0, 1, 2]])"
            ]
          },
          "metadata": {},
          "execution_count": 99
        }
      ],
      "source": [
        "# You can also create multidimensional arrays using np.tile()\n",
        "np.tile(arr, (3,2))   # can't do columnwise"
      ]
    },
    {
      "cell_type": "code",
      "execution_count": null,
      "metadata": {
        "id": "JbJ6IGnEj4on",
        "outputId": "29f8ecab-c406-4822-8266-b81fba2a97a5",
        "colab": {
          "base_uri": "https://localhost:8080/"
        }
      },
      "outputs": [
        {
          "output_type": "execute_result",
          "data": {
            "text/plain": [
              "array([[[0, 1, 2, 0, 1, 2, 0, 1, 2],\n",
              "        [0, 1, 2, 0, 1, 2, 0, 1, 2],\n",
              "        [0, 1, 2, 0, 1, 2, 0, 1, 2],\n",
              "        [0, 1, 2, 0, 1, 2, 0, 1, 2]],\n",
              "\n",
              "       [[0, 1, 2, 0, 1, 2, 0, 1, 2],\n",
              "        [0, 1, 2, 0, 1, 2, 0, 1, 2],\n",
              "        [0, 1, 2, 0, 1, 2, 0, 1, 2],\n",
              "        [0, 1, 2, 0, 1, 2, 0, 1, 2]]])"
            ]
          },
          "metadata": {},
          "execution_count": 100
        }
      ],
      "source": [
        "np.tile(arr, (2,4,3))"
      ]
    },
    {
      "cell_type": "code",
      "execution_count": null,
      "metadata": {
        "id": "_kUz7jB7j4op",
        "outputId": "61c08a7b-951e-4293-e8ae-e25f43a01d34",
        "colab": {
          "base_uri": "https://localhost:8080/"
        }
      },
      "outputs": [
        {
          "output_type": "execute_result",
          "data": {
            "text/plain": [
              "array([[1, 0, 0],\n",
              "       [0, 1, 0],\n",
              "       [0, 0, 1]])"
            ]
          },
          "metadata": {},
          "execution_count": 101
        }
      ],
      "source": [
        "# Create a 3 x 3 identity matrix using np.eye()\n",
        "# The default data type here is float. So if we want integer values, we need to specify the dtype to be int\n",
        "np.eye(3, dtype = int)"
      ]
    },
    {
      "cell_type": "code",
      "execution_count": null,
      "metadata": {
        "scrolled": true,
        "id": "QqfBOn6Bj4op",
        "outputId": "aea0615d-3bde-456b-f950-e598fec1001c",
        "colab": {
          "base_uri": "https://localhost:8080/"
        }
      },
      "outputs": [
        {
          "output_type": "execute_result",
          "data": {
            "text/plain": [
              "array([[1, 0, 0, 0, 0, 0],\n",
              "       [0, 1, 0, 0, 0, 0],\n",
              "       [0, 0, 1, 0, 0, 0],\n",
              "       [0, 0, 0, 1, 0, 0],\n",
              "       [0, 0, 0, 0, 1, 0],\n",
              "       [0, 0, 0, 0, 0, 1]])"
            ]
          },
          "metadata": {},
          "execution_count": 102
        }
      ],
      "source": [
        "np.eye(6, dtype = int)"
      ]
    },
    {
      "cell_type": "code",
      "execution_count": null,
      "metadata": {
        "id": "rZxYp4RTj4oq",
        "outputId": "eae0e462-54bb-40b4-889f-dbd90acd0304",
        "colab": {
          "base_uri": "https://localhost:8080/"
        }
      },
      "outputs": [
        {
          "output_type": "execute_result",
          "data": {
            "text/plain": [
              "array([[1., 0.],\n",
              "       [0., 1.]])"
            ]
          },
          "metadata": {},
          "execution_count": 103
        }
      ],
      "source": [
        "np.eye(2)"
      ]
    },
    {
      "cell_type": "code",
      "execution_count": null,
      "metadata": {
        "id": "gnpxFOWXj4or",
        "outputId": "0beeae53-786f-4964-fbc5-4f2af2b2bdf7",
        "colab": {
          "base_uri": "https://localhost:8080/"
        }
      },
      "outputs": [
        {
          "output_type": "execute_result",
          "data": {
            "text/plain": [
              "array([[0.62667802, 0.15836335, 0.30719545, 0.48473194],\n",
              "       [0.59915983, 0.02653011, 0.55197619, 0.35501177],\n",
              "       [0.95816825, 0.52894188, 0.86339561, 0.33096911]])"
            ]
          },
          "metadata": {},
          "execution_count": 104
        }
      ],
      "source": [
        "# Create a 3 x 3 array of random numbers between 0 and 1\n",
        "np.random.random([3, 4])"
      ]
    },
    {
      "cell_type": "markdown",
      "source": [
        "**.randint()**\n",
        "\n",
        "`random.randint(low, high=None, size=None, dtype=int)`\n",
        "\n",
        "Return random integers from low (inclusive) to high (exclusive)."
      ],
      "metadata": {
        "id": "BfVnjhqgzMP2"
      }
    },
    {
      "cell_type": "code",
      "execution_count": null,
      "metadata": {
        "id": "uJCm2B2Hj4or",
        "outputId": "2c544b9e-c44e-49f3-b536-956d46ed560c",
        "colab": {
          "base_uri": "https://localhost:8080/"
        }
      },
      "outputs": [
        {
          "output_type": "execute_result",
          "data": {
            "text/plain": [
              "array([[28, 26, 26, 24],\n",
              "       [26, 26, 25, 25],\n",
              "       [21, 29, 24, 21],\n",
              "       [27, 22, 24, 20]])"
            ]
          },
          "metadata": {},
          "execution_count": 105
        }
      ],
      "source": [
        "# Create a 4 x 4 random array of integers ranging from 0 to 9\n",
        "np.random.randint(20, 30, (4,4))"
      ]
    },
    {
      "cell_type": "code",
      "execution_count": null,
      "metadata": {
        "id": "dw9xjhYHj4os",
        "outputId": "e1d04b51-6d57-4664-a0b8-2a72dcfc1215",
        "colab": {
          "base_uri": "https://localhost:8080/"
        }
      },
      "outputs": [
        {
          "output_type": "execute_result",
          "data": {
            "text/plain": [
              "array([[6, 3, 1, 6],\n",
              "       [7, 9, 0, 7],\n",
              "       [3, 7, 3, 8],\n",
              "       [0, 8, 8, 9]])"
            ]
          },
          "metadata": {},
          "execution_count": 106
        }
      ],
      "source": [
        "# Create a 4 x 4 random array of integers ranging from 0 to 9\n",
        "np.random.randint(0, 10, (4,4))"
      ]
    },
    {
      "cell_type": "markdown",
      "source": [
        "**random.seed()**\n",
        "\n",
        "Seed function is used to save the state of a random function, so that it can generate same random numbers on multiple executions of the code on the same machine or on different machines (for a specific seed value). The seed value is the previous value number generated by the generator. For the first time when there is no previous value, it uses current system time. "
      ],
      "metadata": {
        "id": "kVbqo68s01ue"
      }
    },
    {
      "cell_type": "code",
      "execution_count": null,
      "metadata": {
        "id": "etJORnXYj4ot",
        "outputId": "6ca553b4-c7a6-4f0c-be02-c8d29e067e8c",
        "colab": {
          "base_uri": "https://localhost:8080/"
        }
      },
      "outputs": [
        {
          "output_type": "execute_result",
          "data": {
            "text/plain": [
              "array([[5, 8, 9, 5],\n",
              "       [0, 0, 1, 7],\n",
              "       [6, 9, 2, 4],\n",
              "       [5, 2, 4, 2]])"
            ]
          },
          "metadata": {},
          "execution_count": 107
        }
      ],
      "source": [
        "np.random.seed(1)\n",
        "# Create a 4 x 4 random array of integers ranging from 0 to 9\n",
        "np.random.randint(0, 10, (4,4))"
      ]
    },
    {
      "cell_type": "code",
      "execution_count": null,
      "metadata": {
        "id": "6t-2L-P9j4ot",
        "outputId": "2748996f-e6be-4930-8b7d-01005cc4748f",
        "colab": {
          "base_uri": "https://localhost:8080/"
        }
      },
      "outputs": [
        {
          "output_type": "execute_result",
          "data": {
            "text/plain": [
              "array([[5, 8, 9, 5],\n",
              "       [0, 0, 1, 7],\n",
              "       [6, 9, 2, 4],\n",
              "       [5, 2, 4, 2]])"
            ]
          },
          "metadata": {},
          "execution_count": 108
        }
      ],
      "source": [
        "np.random.seed(1)\n",
        "# Create a 4 x 4 random array of integers ranging from 0 to 9\n",
        "np.random.randint(0, 10, (4,4))"
      ]
    },
    {
      "cell_type": "markdown",
      "metadata": {
        "id": "pgz8XNL2j4pB"
      },
      "source": [
        "# NumPy Array - Search"
      ]
    },
    {
      "cell_type": "markdown",
      "metadata": {
        "id": "2FH1J-RKj4pB"
      },
      "source": [
        "## Searching Arrays\n",
        "\n",
        "### You can search an array for a certain value, and return the indexes that get a match.\n",
        "\n",
        "### To search an array, use the where() method."
      ]
    },
    {
      "cell_type": "code",
      "execution_count": null,
      "metadata": {
        "id": "RDsjG39dj4pB",
        "outputId": "34d06744-5928-4a7b-b537-65a1bee1fbb1",
        "colab": {
          "base_uri": "https://localhost:8080/"
        }
      },
      "outputs": [
        {
          "output_type": "stream",
          "name": "stdout",
          "text": [
            "(array([3, 5, 6]),)\n"
          ]
        }
      ],
      "source": [
        "import numpy as np\n",
        "\n",
        "#Find the indexes where the value is 4:\n",
        "arr = np.array([1, 2, 3, 4, 5, 4, 4])\n",
        "\n",
        "x = np.where(arr == 4)\n",
        "\n",
        "print(x)"
      ]
    },
    {
      "cell_type": "code",
      "execution_count": null,
      "metadata": {
        "id": "ijs-Trb3j4pC",
        "outputId": "e8479cfa-34e3-498f-bfd0-71688f346033",
        "colab": {
          "base_uri": "https://localhost:8080/"
        }
      },
      "outputs": [
        {
          "output_type": "stream",
          "name": "stdout",
          "text": [
            "(array([1, 3, 5, 7]),)\n"
          ]
        }
      ],
      "source": [
        "#Find the indexes where the values are even:\n",
        "arr = np.array([1, 2, 3, 4, 5, 6, 7, 8])\n",
        "\n",
        "x = np.where(arr%2 == 0)\n",
        "\n",
        "print(x)\n"
      ]
    },
    {
      "cell_type": "code",
      "execution_count": null,
      "metadata": {
        "id": "Z4EY5sHej4pC",
        "outputId": "f6fcb5a2-6d4c-4db1-d575-e664992f30f4",
        "colab": {
          "base_uri": "https://localhost:8080/"
        }
      },
      "outputs": [
        {
          "output_type": "stream",
          "name": "stdout",
          "text": [
            "(array([0, 2, 4, 6]),)\n"
          ]
        }
      ],
      "source": [
        "#Find the indexes where the values are odd:\n",
        "\n",
        "arr = np.array([1, 2, 3, 4, 5, 6, 7, 8])\n",
        "\n",
        "x = np.where(arr%2 == 1)\n",
        "\n",
        "print(x)"
      ]
    },
    {
      "cell_type": "code",
      "execution_count": null,
      "metadata": {
        "id": "wn9Oosplj4pD",
        "outputId": "8dfd9590-190e-4cab-f517-f762cc9b3b44",
        "colab": {
          "base_uri": "https://localhost:8080/"
        }
      },
      "outputs": [
        {
          "output_type": "stream",
          "name": "stdout",
          "text": [
            "2\n"
          ]
        }
      ],
      "source": [
        "#Find the indexes where the value 7 should be inserted:\n",
        "\n",
        "arr = np.array([10,6, 7, 8, 9])\n",
        "\n",
        "x = np.searchsorted(arr, 7)\n",
        "\n",
        "print(x)"
      ]
    },
    {
      "cell_type": "markdown",
      "source": [
        "# NumPy Cheat Sheets\n",
        "\n",
        "[Cheat Sheet 1: DataCamp NumPy](https://s3.amazonaws.com/assets.datacamp.com/blog_assets/Numpy_Python_Cheat_Sheet.pdf)\n",
        "\n",
        "[Cheat Sheet 2: Basic NumPy](https://cdn.intellipaat.com/mediaFiles/2018/12/Python-NumPy-Cheat-Sheet-.pdf)\n",
        "\n",
        "[Cheat Sheet 3: A Little Bit of Everything](http://datasciencefree.com/numpy.pdf)\n",
        "\n",
        "[Cheat Sheet 4: Data Science](https://s3.amazonaws.com/dq-blog-files/numpy-cheat-sheet.pdf)\n",
        "\n",
        "[Cheat Sheet 5: Scientific Python](https://ipgp.github.io/scientific_python_cheat_sheet/?utm_content=buffer7d821&utm_medium=social&utm_source=twitter.com&utm_campaign=buffer#numpy-import-numpy-as-np)\n",
        "\n"
      ],
      "metadata": {
        "id": "BnaE8uqZtaE0"
      }
    },
    {
      "cell_type": "code",
      "source": [],
      "metadata": {
        "id": "bSlg_byLta4w"
      },
      "execution_count": null,
      "outputs": []
    }
  ],
  "metadata": {
    "kernelspec": {
      "display_name": "Python 3 (ipykernel)",
      "language": "python",
      "name": "python3"
    },
    "language_info": {
      "codemirror_mode": {
        "name": "ipython",
        "version": 3
      },
      "file_extension": ".py",
      "mimetype": "text/x-python",
      "name": "python",
      "nbconvert_exporter": "python",
      "pygments_lexer": "ipython3",
      "version": "3.8.13"
    },
    "colab": {
      "provenance": [],
      "collapsed_sections": []
    }
  },
  "nbformat": 4,
  "nbformat_minor": 0
}