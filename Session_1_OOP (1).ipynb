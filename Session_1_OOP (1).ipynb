{
  "nbformat": 4,
  "nbformat_minor": 0,
  "metadata": {
    "colab": {
      "provenance": [],
      "collapsed_sections": []
    },
    "kernelspec": {
      "name": "python3",
      "display_name": "Python 3"
    },
    "language_info": {
      "name": "python"
    }
  },
  "cells": [
    {
      "cell_type": "markdown",
      "source": [
        "# OOPS in Python\n",
        "## Introduction\n",
        "![](https://i.imgur.com/DQJqzkH.jpg)\n",
        "\n",
        "\n",
        "Object-oriented programming is a programming paradigm that provides a means of structuring programs so that properties and behaviors are bundled into individual objects.\n",
        "\n",
        "For instance, an object could represent a person with properties like a name, age, and address and behaviors such as walking, talking, breathing, and running. Or it could represent an email with properties like a recipient list, subject, and body and behaviors like adding attachments and sending. \n",
        "\n",
        "An object has two characteristics:\n",
        "\n",
        "1. attributes\n",
        "2. behavior\n",
        "\n",
        "Let's take an example:\n",
        "\n",
        "A parrot is an object, as it has the following properties:\n",
        "\n",
        "a) name, age, color as attributes\n",
        "b) singing, dancing as behavior\n",
        "\n",
        "Main Concepts of Object-Oriented Programming (OOPs)\n",
        "\n",
        "1. Class\n",
        "2. Objects\n",
        "3. Inheritance\n",
        "4. Polymorphism\n",
        "5. Encapsulation\n",
        "6. Abstraction\n",
        "\n"
      ],
      "metadata": {
        "id": "jUJkj_eOiGHn"
      }
    },
    {
      "cell_type": "markdown",
      "source": [
        "## Class\n",
        "A class is a collection of objects. A class contains the blueprints or the prototype from which the objects are being created. It is a logical entity that contains some attributes and methods.\n",
        "\n",
        "Some points on Python class:\n",
        "\n",
        "Classes are created by keyword class.\n",
        "Attributes are the variables that belong to a class.\n",
        "Attributes are always public and can be accessed using the dot (.) operator. Eg.: Myclass.Myattribute\n",
        "\n",
        "Syntax:\n",
        "    \n",
        "    class ClassName:\n",
        "       # Statement-1\n",
        "       .\n",
        "       .\n",
        "       .\n",
        "       # Statement-N\n",
        "\n",
        "**How to Define a Class**\n",
        "\n",
        "All class definitions start with the *class* keyword, which is followed by the name of the class and a colon. Any code that is indented below the class definition is considered part of the class’s body.\n",
        "\n",
        "Here’s an example of a *Python_Lecture* class:"
      ],
      "metadata": {
        "id": "QYwH5Ms8660u"
      }
    },
    {
      "cell_type": "code",
      "execution_count": null,
      "metadata": {
        "id": "JD2f-nU-iBDr"
      },
      "outputs": [],
      "source": [
        "class Python_Lecture:\n",
        "    pass\n",
        "    "
      ]
    },
    {
      "cell_type": "markdown",
      "source": [
        "The body of the *Python_Lecture* class consists of a single statement: the *pass* keyword. *pass* is often used as a placeholder indicating where code will eventually go. It allows you to run this code without Python throwing an error."
      ],
      "metadata": {
        "id": "hpkSHIuV7rWv"
      }
    },
    {
      "cell_type": "markdown",
      "source": [
        "### Methods\n",
        "\n",
        "Methods are functions defined inside the body of a class. They are used to define the behaviors of an object."
      ],
      "metadata": {
        "id": "J3My8Ifj9aqi"
      }
    },
    {
      "cell_type": "code",
      "source": [
        "class Python_Lecture:\n",
        "    \n",
        "    def listen(self):\n",
        "        print(\"Listen to the trainer carefully and learn the Python\")\n",
        "        print(2+3)\n",
        "        \n",
        "    def practice(self):\n",
        "        print(\"Practice the Python coding\")\n",
        "        "
      ],
      "metadata": {
        "id": "Zp-3819B7FeM"
      },
      "execution_count": 1,
      "outputs": []
    },
    {
      "cell_type": "markdown",
      "source": [
        "Here *listen* and *practice* are the two methods which defines the behaviour of the class *Python_Lecture*\n"
      ],
      "metadata": {
        "id": "lIG-LWvj9gu6"
      }
    },
    {
      "cell_type": "markdown",
      "source": [
        "### Objects\n",
        "\n",
        "The object is an entity that has a state and behavior associated with it. It may be any real-world object like a mouse, keyboard, chair, table, pen, etc. Integers, strings, floating-point numbers, even arrays, and dictionaries, are all objects. \n",
        "\n",
        "\n",
        "**An object consists of :**\n",
        "\n",
        "    State: It is represented by the attributes of an object. It also reflects the properties of an object.\n",
        "    Behavior: It is represented by the methods of an object. It also reflects the response of an object to other objects.\n",
        "    Identity: It gives a unique name to an object and enables one object to interact with other objects.\n",
        "\n",
        "Example: Creating an object\n",
        "    \n",
        "    obj=class()\n",
        "    "
      ],
      "metadata": {
        "id": "FTP41tC_8RSO"
      }
    },
    {
      "cell_type": "code",
      "source": [
        "learning=Python_Lecture()"
      ],
      "metadata": {
        "id": "PYiK5krJ8VWc"
      },
      "execution_count": null,
      "outputs": []
    },
    {
      "cell_type": "code",
      "source": [
        "learning.listen()"
      ],
      "metadata": {
        "colab": {
          "base_uri": "https://localhost:8080/"
        },
        "id": "UA2KzdZr8xOD",
        "outputId": "0834bbf5-9099-4055-f8f3-4d9c5ba5e9ec"
      },
      "execution_count": null,
      "outputs": [
        {
          "output_type": "stream",
          "name": "stdout",
          "text": [
            "Listen to the trainer carefully and learn the Python\n",
            "5\n"
          ]
        }
      ]
    },
    {
      "cell_type": "code",
      "source": [],
      "metadata": {
        "id": "m575Grvd83Dl"
      },
      "execution_count": null,
      "outputs": []
    },
    {
      "cell_type": "markdown",
      "source": [
        "### The self\n",
        "\n",
        "Class methods must have an extra first parameter in the method definition. We do not give a value for this parameter \n",
        "when we call the method, Python provides it.\n",
        "\n",
        "If we have a method that takes no arguments, then we still have to have one argument.\n",
        "\n",
        "When we call a method of this object as myobject.method(arg1, arg2), this is automatically converted by Python into MyClass.method(myobject, arg1, arg2) – this is all the special self is about."
      ],
      "metadata": {
        "id": "mUJhkm9WExcg"
      }
    },
    {
      "cell_type": "code",
      "source": [
        "class Python_Lecture:\n",
        "    \n",
        "    def listen(self,name):\n",
        "        \n",
        "        self.name=name\n",
        "        \n",
        "        print('hello',self.name)\n",
        "        \n",
        "    def practice(self,language):\n",
        "        \n",
        "        self.language=language\n",
        "        \n",
        "        print(\"Practice the\",self.language,\"coding\")\n",
        "        "
      ],
      "metadata": {
        "id": "TQ00iqOzE_ld"
      },
      "execution_count": null,
      "outputs": []
    },
    {
      "cell_type": "markdown",
      "source": [
        "\n",
        "```self.name = name``` \n",
        "creates an attribute called name and assigns to it the value of the name parameter.\n",
        "\n",
        "```self.language = language``` creates an attribute called language and assigns to it the value of the language parameter.\n"
      ],
      "metadata": {
        "id": "XunnOO7NKHLR"
      }
    },
    {
      "cell_type": "code",
      "source": [
        "learning=Python_Lecture()"
      ],
      "metadata": {
        "id": "i-jQSUgcFDF3"
      },
      "execution_count": null,
      "outputs": []
    },
    {
      "cell_type": "code",
      "source": [
        "learning.listen(\"Ubaid\")"
      ],
      "metadata": {
        "colab": {
          "base_uri": "https://localhost:8080/"
        },
        "id": "R4SeUwfgFGij",
        "outputId": "c3a4aa19-6b13-4758-92bf-c7cc8ff9d70f"
      },
      "execution_count": null,
      "outputs": [
        {
          "output_type": "stream",
          "name": "stdout",
          "text": [
            "hello Ubaid\n"
          ]
        }
      ]
    },
    {
      "cell_type": "code",
      "source": [
        "learning.listen(\"Joy\")"
      ],
      "metadata": {
        "colab": {
          "base_uri": "https://localhost:8080/"
        },
        "id": "sA9a-9_EFItQ",
        "outputId": "3e221d19-14b1-405b-ba73-6641a9fd32e0"
      },
      "execution_count": null,
      "outputs": [
        {
          "output_type": "stream",
          "name": "stdout",
          "text": [
            "hello Joy\n"
          ]
        }
      ]
    },
    {
      "cell_type": "code",
      "source": [
        "learning.practice(\"Python\")"
      ],
      "metadata": {
        "colab": {
          "base_uri": "https://localhost:8080/"
        },
        "id": "uaObnBAPFLr_",
        "outputId": "888f69cb-4831-46c1-e693-4f054d05b493"
      },
      "execution_count": null,
      "outputs": [
        {
          "output_type": "stream",
          "name": "stdout",
          "text": [
            "Practice the Python coding\n"
          ]
        }
      ]
    },
    {
      "cell_type": "code",
      "source": [
        "learning.practice(\"SQL\")"
      ],
      "metadata": {
        "colab": {
          "base_uri": "https://localhost:8080/"
        },
        "id": "eQRkI2xaFN82",
        "outputId": "1a563e19-622c-42ae-8562-7b1ef2380ab0"
      },
      "execution_count": null,
      "outputs": [
        {
          "output_type": "stream",
          "name": "stdout",
          "text": [
            "Practice the SQL coding\n"
          ]
        }
      ]
    },
    {
      "cell_type": "markdown",
      "source": [
        "### ```__init__ method```\n",
        "\n",
        "The ```__init__```  method is similar to constructors in C++ and Java. It is run as soon as an object of a class is instantiated. The method is useful to do any initialization you want to do with your object.\n",
        "\n",
        "\n"
      ],
      "metadata": {
        "id": "A-U8YijVK0VK"
      }
    },
    {
      "cell_type": "code",
      "source": [
        "# A Sample class with init method\n",
        "class Person:\n",
        "\n",
        "\t# init method or constructor\n",
        "\tdef __init__(self, name):\n",
        "\t\tself.name = name\n",
        "\n",
        "\t# Sample Method\n",
        "\tdef say_hi(self):\n",
        "\t\tprint('Hello, my name is', self.name)\n",
        "\n",
        "\n",
        "p = Person('Sravani')\n",
        "p.say_hi()\n"
      ],
      "metadata": {
        "colab": {
          "base_uri": "https://localhost:8080/"
        },
        "id": "QWopxQdFxbyy",
        "outputId": "b2edfa86-2c97-4cc8-843b-20cfe04972dc"
      },
      "execution_count": 2,
      "outputs": [
        {
          "output_type": "stream",
          "name": "stdout",
          "text": [
            "Hello, my name is Sravani\n"
          ]
        }
      ]
    },
    {
      "cell_type": "code",
      "source": [
        "class Code_Learning:\n",
        "    \n",
        "    def __init__(self,name,language):\n",
        "        \n",
        "        self.name=name\n",
        "        self.language=language\n",
        "    def learning(self):\n",
        "        print(\"Hey {}! Listen to the trainer carefully and learn the coding.\\\n",
        "              \\nPractice the {} coding\".format(self.name,self.language))\n",
        "     "
      ],
      "metadata": {
        "id": "5Mjl-nUeFRgg"
      },
      "execution_count": null,
      "outputs": []
    },
    {
      "cell_type": "code",
      "source": [
        "learning_1=Code_Learning(\"Ubaid\",\"Python\") \n",
        "learning_1.learning()"
      ],
      "metadata": {
        "colab": {
          "base_uri": "https://localhost:8080/"
        },
        "id": "jf6MI8NGLXMO",
        "outputId": "c7b1b098-7aaf-420b-d0fc-7e277c055b14"
      },
      "execution_count": null,
      "outputs": [
        {
          "output_type": "stream",
          "name": "stdout",
          "text": [
            "Hey Ubaid! Listen to the trainer carefully and learn the coding.              \n",
            "Practice the Python coding\n"
          ]
        }
      ]
    },
    {
      "cell_type": "markdown",
      "source": [
        "Attributes created in ```__init__()``` are called **instance attributes**. An instance attribute’s value is specific to a particular instance of the class. All Code_Learning objects have a name and an age, but the values for the name and age attributes will vary depending on the Code_Learning instance.\n",
        "\n",
        "On the other hand, **class attributes** are attributes that have the same value for all class instances. You can define a class attribute by assigning a value to a variable name outside of ```__init__()```\n",
        "\n",
        "For example, the following Code_Learning class has a class attribute called skill with the value \"coding\":\n",
        "\n",
        "Now let us define a class and create some objects using the self and ```__init__()```."
      ],
      "metadata": {
        "id": "bGB4IvnyNDNf"
      }
    },
    {
      "cell_type": "code",
      "source": [
        "class Code_Learning:\n",
        "    \n",
        "    # class attribute\n",
        "    skill='coding'\n",
        "\n",
        "    # instance attributes\n",
        "    def __init__(self,name,language):\n",
        "        \n",
        "        self.name=name\n",
        "        self.language=language\n",
        "    def learning(self):\n",
        "        print(\"Hey {}! Listen to the trainer carefully and learn the coding.\\\n",
        "              \\nPractice the {} coding.\\nIt will improve your {} skill\".format(self.name,self.language,skill))\n",
        "     "
      ],
      "metadata": {
        "id": "TRFOMBEmLaAB"
      },
      "execution_count": 3,
      "outputs": []
    },
    {
      "cell_type": "code",
      "source": [
        "# Below code will show an NameError since skill is not the part of the instance attribute\n",
        "\n",
        "learning_1=Code_Learning(\"Ubaid\",\"Python\") \n",
        "learning_1.learning()"
      ],
      "metadata": {
        "colab": {
          "base_uri": "https://localhost:8080/",
          "height": 305
        },
        "id": "p5VWdc1o0L_y",
        "outputId": "84dcf964-60cb-4241-d483-f789cf8513b9"
      },
      "execution_count": 4,
      "outputs": [
        {
          "output_type": "error",
          "ename": "NameError",
          "evalue": "ignored",
          "traceback": [
            "\u001b[0;31m---------------------------------------------------------------------------\u001b[0m",
            "\u001b[0;31mNameError\u001b[0m                                 Traceback (most recent call last)",
            "\u001b[0;32m<ipython-input-4-779e800ea45d>\u001b[0m in \u001b[0;36m<module>\u001b[0;34m\u001b[0m\n\u001b[1;32m      2\u001b[0m \u001b[0;34m\u001b[0m\u001b[0m\n\u001b[1;32m      3\u001b[0m \u001b[0mlearning_1\u001b[0m\u001b[0;34m=\u001b[0m\u001b[0mCode_Learning\u001b[0m\u001b[0;34m(\u001b[0m\u001b[0;34m\"Ubaid\"\u001b[0m\u001b[0;34m,\u001b[0m\u001b[0;34m\"Python\"\u001b[0m\u001b[0;34m)\u001b[0m\u001b[0;34m\u001b[0m\u001b[0;34m\u001b[0m\u001b[0m\n\u001b[0;32m----> 4\u001b[0;31m \u001b[0mlearning_1\u001b[0m\u001b[0;34m.\u001b[0m\u001b[0mlearning\u001b[0m\u001b[0;34m(\u001b[0m\u001b[0;34m)\u001b[0m\u001b[0;34m\u001b[0m\u001b[0;34m\u001b[0m\u001b[0m\n\u001b[0m",
            "\u001b[0;32m<ipython-input-3-36f3dbf3acba>\u001b[0m in \u001b[0;36mlearning\u001b[0;34m(self)\u001b[0m\n\u001b[1;32m     11\u001b[0m     \u001b[0;32mdef\u001b[0m \u001b[0mlearning\u001b[0m\u001b[0;34m(\u001b[0m\u001b[0mself\u001b[0m\u001b[0;34m)\u001b[0m\u001b[0;34m:\u001b[0m\u001b[0;34m\u001b[0m\u001b[0;34m\u001b[0m\u001b[0m\n\u001b[1;32m     12\u001b[0m         print(\"Hey {}! Listen to the trainer carefully and learn the coding.\\\n\u001b[0;32m---> 13\u001b[0;31m               \\nPractice the {} coding.\\nIt will improve your {} skill\".format(self.name,self.language,skill))\n\u001b[0m\u001b[1;32m     14\u001b[0m \u001b[0;34m\u001b[0m\u001b[0m\n",
            "\u001b[0;31mNameError\u001b[0m: name 'skill' is not defined"
          ]
        }
      ]
    },
    {
      "cell_type": "code",
      "source": [
        "class Code_Learning:\n",
        "    # class attribute: To use class attribute in the instance attribute use __class__.classattribute\n",
        "    skill='coding'\n",
        "    def __init__(self,name,language):\n",
        "        \n",
        "        self.name=name\n",
        "        self.language=language\n",
        "    def learning(self):\n",
        "        print(\"Hey {}! Listen to the trainer carefully and learn the coding.\\\n",
        "              \\nPractice the {} coding.\\nIt will improve your {} skill\".format(self.name,self.language,__class__.skill))"
      ],
      "metadata": {
        "id": "Ad1FamK60Qvn"
      },
      "execution_count": null,
      "outputs": []
    },
    {
      "cell_type": "code",
      "source": [
        "learning_1=Code_Learning(\"Ubaid\",\"Python\") \n",
        "learning_1.learning()"
      ],
      "metadata": {
        "colab": {
          "base_uri": "https://localhost:8080/"
        },
        "id": "69x-qKKn1xin",
        "outputId": "d774322d-80cf-4839-f6d1-c885c031251b"
      },
      "execution_count": null,
      "outputs": [
        {
          "output_type": "stream",
          "name": "stdout",
          "text": [
            "Hey Ubaid! Listen to the trainer carefully and learn the coding.              \n",
            "Practice the Python coding.\n",
            "It will improve your coding skill\n"
          ]
        }
      ]
    },
    {
      "cell_type": "markdown",
      "source": [
        "After you create the Learning_1 instance, you can access their instance attributes using dot notation as `instance.instanceattribute`\n",
        "\n",
        "but to access the class attribute in the instance use `instance.__class__.classattribute`"
      ],
      "metadata": {
        "id": "Nbpxamc13SVE"
      }
    },
    {
      "cell_type": "code",
      "source": [
        "learning_1.name"
      ],
      "metadata": {
        "colab": {
          "base_uri": "https://localhost:8080/",
          "height": 35
        },
        "id": "ZDYibF1710DI",
        "outputId": "719d3daf-9126-45df-b1fe-31cd9cb109a6"
      },
      "execution_count": null,
      "outputs": [
        {
          "output_type": "execute_result",
          "data": {
            "text/plain": [
              "'Ubaid'"
            ],
            "application/vnd.google.colaboratory.intrinsic+json": {
              "type": "string"
            }
          },
          "metadata": {},
          "execution_count": 7
        }
      ]
    },
    {
      "cell_type": "code",
      "source": [
        "learning_1.language"
      ],
      "metadata": {
        "colab": {
          "base_uri": "https://localhost:8080/",
          "height": 35
        },
        "id": "Y_2nGQnf2s5N",
        "outputId": "32046e1a-c760-4746-8f5f-216d91143744"
      },
      "execution_count": null,
      "outputs": [
        {
          "output_type": "execute_result",
          "data": {
            "text/plain": [
              "'Python'"
            ],
            "application/vnd.google.colaboratory.intrinsic+json": {
              "type": "string"
            }
          },
          "metadata": {},
          "execution_count": 8
        }
      ]
    },
    {
      "cell_type": "code",
      "source": [
        "learnung_1.skill"
      ],
      "metadata": {
        "colab": {
          "base_uri": "https://localhost:8080/",
          "height": 166
        },
        "id": "4d_tCKQi203r",
        "outputId": "4d6cf836-6be5-4886-c055-fd1052aed27a"
      },
      "execution_count": null,
      "outputs": [
        {
          "output_type": "error",
          "ename": "NameError",
          "evalue": "ignored",
          "traceback": [
            "\u001b[0;31m---------------------------------------------------------------------------\u001b[0m",
            "\u001b[0;31mNameError\u001b[0m                                 Traceback (most recent call last)",
            "\u001b[0;32m<ipython-input-9-b64cab03dbd2>\u001b[0m in \u001b[0;36m<module>\u001b[0;34m\u001b[0m\n\u001b[0;32m----> 1\u001b[0;31m \u001b[0mlearnung_1\u001b[0m\u001b[0;34m.\u001b[0m\u001b[0mskill\u001b[0m\u001b[0;34m\u001b[0m\u001b[0;34m\u001b[0m\u001b[0m\n\u001b[0m",
            "\u001b[0;31mNameError\u001b[0m: name 'learnung_1' is not defined"
          ]
        }
      ]
    },
    {
      "cell_type": "code",
      "source": [
        "learning_1.__class__.skill"
      ],
      "metadata": {
        "colab": {
          "base_uri": "https://localhost:8080/",
          "height": 35
        },
        "id": "xK9EpvSo23tZ",
        "outputId": "c34fc38f-96e7-45e3-daff-2e488b5fdfb9"
      },
      "execution_count": null,
      "outputs": [
        {
          "output_type": "execute_result",
          "data": {
            "text/plain": [
              "'coding'"
            ],
            "application/vnd.google.colaboratory.intrinsic+json": {
              "type": "string"
            }
          },
          "metadata": {},
          "execution_count": 10
        }
      ]
    },
    {
      "cell_type": "markdown",
      "source": [
        "## Inheritance\n",
        "Inheritance is the capability of one class to derive or inherit the properties from another class. The class that derives properties is called the derived class or child class and the class from which the properties are being derived is called the base class or parent class. The benefits of inheritance are:\n",
        "\n",
        "1. It represents real-world relationships well.\n",
        "2. It provides the reusability of a code. We don’t have to write the same code again and again. Also, it allows us to add more features to a class without modifying it.\n",
        "3. It is transitive in nature, which means that if class B inherits from another class A, then all the subclasses of B would automatically inherit from class A."
      ],
      "metadata": {
        "id": "uSqFyEKl5Bxp"
      }
    },
    {
      "cell_type": "code",
      "source": [
        "class Person:\n",
        "  def __init__(self, fname, lname):\n",
        "    self.firstname = fname\n",
        "    self.lastname = lname\n",
        "\n",
        "  def printname(self):\n",
        "    print(self.firstname, self.lastname)\n",
        "\n",
        "#Use the Person class to create an object, and then execute the printname method:\n",
        "\n",
        "x = Person(\"John\", \"Doe\")\n",
        "x.printname()"
      ],
      "metadata": {
        "colab": {
          "base_uri": "https://localhost:8080/"
        },
        "id": "6Z0ZozB-0a52",
        "outputId": "8b0c85e6-71aa-45db-bb48-a5fb10febe04"
      },
      "execution_count": 7,
      "outputs": [
        {
          "output_type": "stream",
          "name": "stdout",
          "text": [
            "John Doe\n"
          ]
        }
      ]
    },
    {
      "cell_type": "code",
      "source": [
        "class Student(Person):\n",
        "  pass"
      ],
      "metadata": {
        "id": "PnyvU9Ua0gsJ"
      },
      "execution_count": 8,
      "outputs": []
    },
    {
      "cell_type": "code",
      "source": [
        "x = Student(\"Mike\", \"Olsen\")\n",
        "x.printname()"
      ],
      "metadata": {
        "colab": {
          "base_uri": "https://localhost:8080/"
        },
        "id": "8NoiG9RY0l-e",
        "outputId": "10ac7e2a-1f3e-4153-8ca2-16ba765256c2"
      },
      "execution_count": 9,
      "outputs": [
        {
          "output_type": "stream",
          "name": "stdout",
          "text": [
            "Mike Olsen\n"
          ]
        }
      ]
    },
    {
      "cell_type": "code",
      "source": [
        "# Python code to demonstrate how parent constructors are called.\n",
        "\n",
        "# parent class\n",
        "class Person():\n",
        "\n",
        "# __init__ is known as the constructor\n",
        "    def __init__(self, name, idnumber):\n",
        "        self.name = name\n",
        "        self.idnumber = idnumber\n",
        "\n",
        "    def display(self):\n",
        "        print('This is display method for parent class.',self.name)\n",
        "        print('This is display method for parent class.',self.idnumber)\n",
        "\n",
        "    def printing(self):\n",
        "        print(\"My name is {} ,ok!\".format(self.name))\n",
        "        print(\"My IdNumber is : {}\".format(self.idnumber))"
      ],
      "metadata": {
        "id": "58wOgeXZ29j1"
      },
      "execution_count": 5,
      "outputs": []
    },
    {
      "cell_type": "code",
      "source": [
        "# calling a function of the class Person using its instance\n",
        "\n",
        "parent_object =Person('Ubaid', 886012)\n",
        "parent_object.printing()\n",
        "print('========================================================================')\n",
        "parent_object.display()"
      ],
      "metadata": {
        "colab": {
          "base_uri": "https://localhost:8080/"
        },
        "id": "yHT7QLKILZHH",
        "outputId": "30206a90-5762-4d8c-e46f-b1e6162015ad"
      },
      "execution_count": 6,
      "outputs": [
        {
          "output_type": "stream",
          "name": "stdout",
          "text": [
            "My name is Ubaid ,ok!\n",
            "My IdNumber is : 886012\n",
            "========================================================================\n",
            "This is display method for parent class. Ubaid\n",
            "This is display method for parent class. 886012\n"
          ]
        }
      ]
    },
    {
      "cell_type": "markdown",
      "source": [
        "We can call Parent class attribute in child object or instance but not passible vice versa."
      ],
      "metadata": {
        "id": "guGwyZ4TOIs8"
      }
    },
    {
      "cell_type": "markdown",
      "source": [
        "### Types of Inheritance in OOP\n",
        "\n",
        "Types of Inheritance depend upon the number of child and parent classes involved. There are five types of inheritances:\n",
        "\n",
        "1. Single Inheritance\n",
        "2. Multiple Inheritance\n",
        "3. Multilevel Inheritance\n",
        "4. Hierarchical Inheritance\n",
        "5. Hybrid Inheritance\n",
        "\n",
        "![](https://i.imgur.com/VQ3Xtoy.jpg)\n",
        "\n"
      ],
      "metadata": {
        "id": "IClcnqsVok8P"
      }
    },
    {
      "cell_type": "markdown",
      "source": [
        "#### 1.Single Inheritance: \n",
        "\n",
        "Single inheritance enables a derived class to inherit properties from a single parent class, thus enabling code reusability and the addition of new features to existing code."
      ],
      "metadata": {
        "id": "gQ6CNvj9r9Tz"
      }
    },
    {
      "cell_type": "code",
      "source": [
        "# Base class\n",
        "class Parent:\n",
        "    def parent_func(self):\n",
        "        print('Hey there, you are in the parent class')\n",
        " \n",
        "# Derived class\n",
        " \n",
        " \n",
        "class Child(Parent):\n",
        "    def child_func(self):\n",
        "        print('Hey there, you are in the child class')\n",
        " \n",
        " \n",
        "# Driver's code\n",
        "object = Child()\n",
        "object.parent_func()\n",
        "object.child_func()"
      ],
      "metadata": {
        "colab": {
          "base_uri": "https://localhost:8080/"
        },
        "id": "it9BjGhfO4FF",
        "outputId": "7c6c01af-7772-423c-e522-649103206fdb"
      },
      "execution_count": 10,
      "outputs": [
        {
          "output_type": "stream",
          "name": "stdout",
          "text": [
            "Hey there, you are in the parent class\n",
            "Hey there, you are in the child class\n"
          ]
        }
      ]
    },
    {
      "cell_type": "markdown",
      "source": [
        "#### 2.Multiple Inheritance\n",
        "This inheritance enables a child class to inherit from more than one parent class. This type of inheritance is not supported by java classes, but python does support this kind of inheritance. It has a massive advantage if we have a requirement of gathering multiple characteristics from different classes."
      ],
      "metadata": {
        "id": "tol6yZeDtFDv"
      }
    },
    {
      "cell_type": "code",
      "source": [
        "# multiple inheritance\n",
        "\n",
        "# Parent class1\n",
        "class Mother:\n",
        "\tmothername = \"\"\n",
        "\n",
        "\tdef mother(self):\n",
        "\t\tprint(self.mothername)\n",
        "\n",
        "# Parent class2\n",
        "\n",
        "\n",
        "class Father:\n",
        "\tfathername = \"\"\n",
        "\n",
        "\tdef father(self):\n",
        "\t\tprint(self.fathername)\n",
        "\n",
        "# Child class\n",
        "\n",
        "\n",
        "class Son(Mother, Father):\n",
        "\tdef parents(self):\n",
        "\t\tprint(\"Father :\", self.fathername)\n",
        "\t\tprint(\"Mother :\", self.mothername)\n",
        "\n",
        "\n",
        "\n",
        "s1 = Son()\n",
        "s1.fathername = \"RAM\"\n",
        "s1.mothername = \"SITA\"\n",
        "s1.parents()\n"
      ],
      "metadata": {
        "colab": {
          "base_uri": "https://localhost:8080/"
        },
        "id": "-SI_gTassZ4b",
        "outputId": "4e7bcf9f-dc49-4b7e-bf5f-7ac3c6ccc73b"
      },
      "execution_count": 11,
      "outputs": [
        {
          "output_type": "stream",
          "name": "stdout",
          "text": [
            "Father : RAM\n",
            "Mother : SITA\n"
          ]
        }
      ]
    },
    {
      "cell_type": "markdown",
      "source": [
        "#### 3.Multilevel Inheritance\n",
        "\n",
        "In multilevel inheritance, the transfer of the properties of characteristics is done to more than one class hierarchically. To get a better visualization we can consider it as an ancestor to grandchildren relation or a root to leaf in a tree with more than one level."
      ],
      "metadata": {
        "id": "dzH46r_xv1Dt"
      }
    },
    {
      "cell_type": "code",
      "source": [
        "# multilevel inheritance\n",
        "\n",
        "# Base class\n",
        "\n",
        "\n",
        "class Grandfather:\n",
        "\n",
        "\tdef __init__(self, grandfathername):\n",
        "\t\tself.grandfathername = grandfathername\n",
        "\n",
        "# Intermediate class\n",
        "\n",
        "\n",
        "class Father(Grandfather):\n",
        "\tdef __init__(self, fathername, grandfathername):\n",
        "\t\tself.fathername = fathername\n",
        "\n",
        "\t\t# invoking constructor of Grandfather class\n",
        "\t\tGrandfather.__init__(self, grandfathername)\n",
        "\n",
        "# Derived class\n",
        "\n",
        "\n",
        "class Son(Father):\n",
        "\tdef __init__(self, sonname, fathername, grandfathername):\n",
        "\t\tself.sonname = sonname\n",
        "\n",
        "\t\t# invoking constructor of Father class\n",
        "\t\tFather.__init__(self, fathername, grandfathername)\n",
        "\n",
        "\tdef print_name(self):\n",
        "\t\tprint('Grandfather name :', self.grandfathername)\n",
        "\t\tprint(\"Father name :\", self.fathername)\n",
        "\t\tprint(\"Son name :\", self.sonname)\n",
        "\n",
        "\n",
        "# Driver code\n",
        "s1 = Son('Neil', 'Nitin', 'Mukesh')\n",
        "print(s1.grandfathername)\n",
        "s1.print_name()\n"
      ],
      "metadata": {
        "colab": {
          "base_uri": "https://localhost:8080/"
        },
        "id": "CjucUcjdupVO",
        "outputId": "ded7fb56-6c69-4aba-be34-05bbdd6137d4"
      },
      "execution_count": 12,
      "outputs": [
        {
          "output_type": "stream",
          "name": "stdout",
          "text": [
            "Mukesh\n",
            "Grandfather name : Mukesh\n",
            "Father name : Nitin\n",
            "Son name : Neil\n"
          ]
        }
      ]
    },
    {
      "cell_type": "markdown",
      "source": [
        "#### 4.Hierarchical Inheritance\n",
        "\n",
        "This inheritance allows a class to host as a parent class for more than one child class or subclass. This provides a benefit of sharing the functioning of methods with multiple child classes, hence avoiding code duplication."
      ],
      "metadata": {
        "id": "QUX3KG_zwoME"
      }
    },
    {
      "cell_type": "code",
      "source": [
        "# Hierarchical inheritance\n",
        "\n",
        "\n",
        "# Base class\n",
        "class Parent:\n",
        "\tdef func1(self):\n",
        "\t\tprint(\"This function is in parent class.\")\n",
        "\n",
        "# Derived class1\n",
        "\n",
        "\n",
        "class Child1(Parent):\n",
        "\tdef func2(self):\n",
        "\t\tprint(\"This function is in child 1.\")\n",
        "\n",
        "# Derivied class2\n",
        "\n",
        "\n",
        "class Child2(Parent):\n",
        "\tdef func3(self):\n",
        "\t\tprint(\"This function is in child 2.\")\n",
        "\n",
        "\n",
        "\n",
        "object1 = Child1()\n",
        "object2 = Child2()\n",
        "object1.func1()\n",
        "object1.func2()\n",
        "object2.func1()\n",
        "object2.func3()\n"
      ],
      "metadata": {
        "colab": {
          "base_uri": "https://localhost:8080/"
        },
        "id": "x7zSQsopwYsG",
        "outputId": "6bae0a7e-7677-4843-d40b-b7eb1baa7251"
      },
      "execution_count": null,
      "outputs": [
        {
          "output_type": "stream",
          "name": "stdout",
          "text": [
            "This function is in parent class.\n",
            "This function is in child 1.\n",
            "This function is in parent class.\n",
            "This function is in child 2.\n"
          ]
        }
      ]
    },
    {
      "cell_type": "markdown",
      "source": [
        "#### 5.Hybrid Inheritance\n",
        "\n",
        "An inheritance is said hybrid inheritance if more than one type of inheritance is implemented in the same code. This feature enables the user to utilize the feature of inheritance at its best. This satisfies the requirement of implementing a code that needs multiple inheritances in implementation."
      ],
      "metadata": {
        "id": "X6apH_SBw0G3"
      }
    },
    {
      "cell_type": "code",
      "source": [
        "# hybrid inheritance\n",
        "\n",
        "\n",
        "class School:\n",
        "\tdef func1(self):\n",
        "\t\tprint(\"This function is in school.\")\n",
        "\n",
        "\n",
        "class Student1(School):\n",
        "\tdef func2(self):\n",
        "\t\tprint(\"This function is in student 1. \")\n",
        "\n",
        "\n",
        "class Student2(School):\n",
        "\tdef func3(self):\n",
        "\t\tprint(\"This function is in student 2.\")\n",
        "\n",
        "\n",
        "class Student3(Student1, School):\n",
        "\tdef func4(self):\n",
        "\t\tprint(\"This function is in student 3.\")\n",
        "\n",
        "\n",
        "\n",
        "object = Student3()\n",
        "object.func1()\n",
        "object.func2()\n"
      ],
      "metadata": {
        "colab": {
          "base_uri": "https://localhost:8080/"
        },
        "id": "0s1DbuX3wv4x",
        "outputId": "7841a24a-6ce3-4d37-b88a-28565ca19ee4"
      },
      "execution_count": null,
      "outputs": [
        {
          "output_type": "stream",
          "name": "stdout",
          "text": [
            "This function is in school.\n",
            "This function is in student 1. \n"
          ]
        }
      ]
    },
    {
      "cell_type": "markdown",
      "source": [
        "## Polymorphism\n",
        "Polymorphism in Python is the ability of an object to take many forms. In simple words, polymorphism allows us to perform the same action in many different ways.\n",
        "\n",
        "For example, The built-in function len() calculates the length of an object depending upon its type. If an object is a string, it returns the count of characters, and If an object is a list, it returns the count of items in a list.\n",
        "\n",
        "The len() method treats an object as per its class type.\n",
        "\n",
        "![](https://i.imgur.com/B2EPPit.jpg)\n"
      ],
      "metadata": {
        "id": "gCcBQkDpxpA0"
      }
    },
    {
      "cell_type": "markdown",
      "source": [
        "### Method Overriding Polymorphism or Polymorphism with Inheritance\n",
        "Using method overriding polymorphism allows us to defines methods in the child class that have the same name as the methods in the parent class. This process of re-implementing the inherited method in the child class is known as Method Overriding.\n",
        "\n",
        "Advantage of method overriding\n",
        "\n",
        "1. It is effective when we want to extend the functionality by altering the inherited method. Or the method inherited from the parent class doesn’t fulfill the need of a child class, so we need to re-implement the same method in the child class in a different way.\n",
        "\n",
        "2 Method overriding is useful when a parent class has multiple child classes, and one of that child class wants to redefine the method. The other child classes can use the parent class method. Due to this, we don’t need to modification the parent class code\n",
        "\n",
        "In polymorphism, Python first checks the object’s class type and executes the appropriate method when we call the method. For example, If you create the Car object, then Python calls the speed() method from a Car class."
      ],
      "metadata": {
        "id": "3FBKvw1k3SE-"
      }
    },
    {
      "cell_type": "code",
      "source": [
        "#example 1\n",
        "class A:\n",
        "\n",
        "\tdef fun1(self):\n",
        "\t\tprint('feature_1 of class A')\n",
        "\t\t\n",
        "\tdef fun2(self):\n",
        "\t\tprint('feature_2 of class A')\n",
        "\t\n",
        "\n",
        "class B(A):\n",
        "\t\n",
        "\t# Modified function that is\n",
        "\t# already exist in class A\n",
        "\tdef fun1(self):\n",
        "\t\tprint('Modified feature_1 of class A by class B')\n",
        "\t\t\n",
        "\tdef fun3(self):\n",
        "\t\tprint('feature_3 of class B')\n",
        "\t\t\n",
        "\n",
        "# Create instance\n",
        "obj = B()\n",
        "\t\n",
        "# Call the override function\n",
        "obj.fun1()\n"
      ],
      "metadata": {
        "colab": {
          "base_uri": "https://localhost:8080/"
        },
        "id": "NOgm36kl3OVo",
        "outputId": "dbcccdde-47b9-4c95-b4d7-2976ec636e66"
      },
      "execution_count": 13,
      "outputs": [
        {
          "output_type": "stream",
          "name": "stdout",
          "text": [
            "Modified feature_1 of class A by class B\n"
          ]
        }
      ]
    },
    {
      "cell_type": "code",
      "source": [
        "#example 2\n",
        "class Vehicle:\n",
        "\n",
        "    def __init__(self, name, color, price):\n",
        "        self.name = name\n",
        "        self.color = color\n",
        "        self.price = price\n",
        "\n",
        "    def show(self):\n",
        "        print('Details:', self.name, self.color, self.price)\n",
        "\n",
        "    def max_speed(self):\n",
        "        print('Vehicle max speed is 150')\n",
        "\n",
        "    def change_gear(self):\n",
        "        print('Vehicle change 6 gear')\n",
        "\n",
        "\n",
        "# inherit from vehicle class\n",
        "class Car(Vehicle):\n",
        "    def max_speed(self):\n",
        "        print('Car max speed is 240')\n",
        "\n",
        "    def change_gear(self):\n",
        "        print('Car change 7 gear')\n",
        "\n",
        "\n",
        "# Car Object\n",
        "car = Car('Car x1', 'Red', 20000)\n",
        "car.show()\n",
        "# calls methods from Car class\n",
        "car.max_speed()\n",
        "car.change_gear()\n",
        "\n",
        "# Vehicle Object\n",
        "vehicle = Vehicle('Truck x1', 'white', 75000)\n",
        "vehicle.show()\n",
        "# calls method from a Vehicle class\n",
        "vehicle.max_speed()\n",
        "vehicle.change_gear()"
      ],
      "metadata": {
        "colab": {
          "base_uri": "https://localhost:8080/"
        },
        "id": "94CQXSAexAXN",
        "outputId": "55d897d4-c75a-46e2-e7e6-e3138ccad873"
      },
      "execution_count": null,
      "outputs": [
        {
          "output_type": "stream",
          "name": "stdout",
          "text": [
            "Details: Car x1 Red 20000\n",
            "Car max speed is 240\n",
            "Car change 7 gear\n",
            "Details: Truck x1 white 75000\n",
            "Vehicle max speed is 150\n",
            "Vehicle change 6 gear\n"
          ]
        }
      ]
    },
    {
      "cell_type": "markdown",
      "source": [
        "As you can see, due to polymorphism, the Python interpreter recognizes that the max_speed() and change_gear() methods are overridden for the car object. So, it uses the one defined in the child class (Car)\n",
        "\n",
        "On the other hand, the show() method isn’t overridden in the Car class, so it is used from the Vehicle class."
      ],
      "metadata": {
        "id": "Fjp1-1FY3-uZ"
      }
    },
    {
      "cell_type": "markdown",
      "source": [
        "## Encapsulation \n",
        "Encapsulation in Python describes the concept of bundling data and methods within a single unit.\n",
        "\n",
        "Using encapsulation, we can hide an object’s internal representation from the outside. This is called information hiding.\n",
        "\n",
        "Also, encapsulation allows us to restrict accessing variables and methods directly and prevent accidental data modification by creating private data members and methods within a class.\n",
        "\n",
        "Encapsulation is a way to can restrict access to methods and variables from outside of class. Whenever we are working with the class and dealing with sensitive data, providing access to all variables used within the class is not a good choice. \n",
        "\n"
      ],
      "metadata": {
        "id": "nssd6PpM9o49"
      }
    },
    {
      "cell_type": "markdown",
      "source": [
        "### Access Modifiers:\n",
        "\n",
        "Encapsulation can be achieved by declaring the data members and methods of a class either as private or protected. But In Python, we don’t have direct access modifiers like public, private, and protected. We can achieve this by using **single underscore** and **double underscores**.\n",
        "\n",
        "Access modifiers limit access to the variables and methods of a class. Python provides three types of access modifiers private, public, and protected.\n",
        "\n",
        "- Public Member: Accessible anywhere from otside oclass.\n",
        "- Private Member: Accessible within the class\n",
        "- Protected Member: Accessible within the class and its sub-classes"
      ],
      "metadata": {
        "id": "Pv7R7CLtAYbc"
      }
    },
    {
      "cell_type": "markdown",
      "source": [
        "#### Public Member\n",
        "\n",
        "Public data members are accessible within and outside of a class. All member variables of the class are by default public.\n"
      ],
      "metadata": {
        "id": "18uDCjBVAgZv"
      }
    },
    {
      "cell_type": "code",
      "source": [
        "class Employee:\n",
        "    # constructor\n",
        "    def __init__(self, name, salary):\n",
        "        # public data members\n",
        "        self.name = name\n",
        "        self.salary = salary\n",
        "\n",
        "    # public instance methods\n",
        "    def show(self):\n",
        "        # accessing public data member\n",
        "        print(\"Name: \", self.name, 'Salary:', self.salary)\n",
        "\n",
        "# creating object of a class\n",
        "emp = Employee('Ubaid', 10000)\n",
        "\n",
        "# accessing public data members\n",
        "print('accessing public data members')\n",
        "print(\"Name: \", emp.name, 'Salary:', emp.salary)\n",
        "print('--------------------------------------------------------')\n",
        "\n",
        "# calling public method of the class\n",
        "print('calling public method of the class')\n",
        "emp.show()"
      ],
      "metadata": {
        "colab": {
          "base_uri": "https://localhost:8080/"
        },
        "id": "B2pyLjFM51jK",
        "outputId": "eec1c879-cfb9-474d-a1af-cbd4cee45a7e"
      },
      "execution_count": null,
      "outputs": [
        {
          "output_type": "stream",
          "name": "stdout",
          "text": [
            "accessing public data members\n",
            "Name:  Ubaid Salary: 10000\n",
            "--------------------------------------------------------\n",
            "calling public method of the class\n",
            "Name:  Ubaid Salary: 10000\n"
          ]
        }
      ]
    },
    {
      "cell_type": "code",
      "source": [
        "# check the members in directory\n",
        "dir(emp)"
      ],
      "metadata": {
        "colab": {
          "base_uri": "https://localhost:8080/"
        },
        "id": "hxdaY3WoC5MK",
        "outputId": "b713b2cf-87d2-42a7-cd17-2721b4591720"
      },
      "execution_count": null,
      "outputs": [
        {
          "output_type": "execute_result",
          "data": {
            "text/plain": [
              "['__class__',\n",
              " '__delattr__',\n",
              " '__dict__',\n",
              " '__dir__',\n",
              " '__doc__',\n",
              " '__eq__',\n",
              " '__format__',\n",
              " '__ge__',\n",
              " '__getattribute__',\n",
              " '__gt__',\n",
              " '__hash__',\n",
              " '__init__',\n",
              " '__init_subclass__',\n",
              " '__le__',\n",
              " '__lt__',\n",
              " '__module__',\n",
              " '__ne__',\n",
              " '__new__',\n",
              " '__reduce__',\n",
              " '__reduce_ex__',\n",
              " '__repr__',\n",
              " '__setattr__',\n",
              " '__sizeof__',\n",
              " '__str__',\n",
              " '__subclasshook__',\n",
              " '__weakref__',\n",
              " 'name',\n",
              " 'salary',\n",
              " 'show']"
            ]
          },
          "metadata": {},
          "execution_count": 25
        }
      ]
    },
    {
      "cell_type": "markdown",
      "source": [
        "The public member is avalaible after python's built in methods and members"
      ],
      "metadata": {
        "id": "2a0mkCkMDWeE"
      }
    },
    {
      "cell_type": "markdown",
      "source": [
        "#### Private Member\n",
        "\n",
        "We can protect variables in the class by marking them private.\n",
        "To define a private variable add two underscores as a prefix at the start of a variable name.\n",
        "Private members are accessible only within the class, and we can’t access them directly from the class objects."
      ],
      "metadata": {
        "id": "RdiSYcoXAngy"
      }
    },
    {
      "cell_type": "code",
      "source": [
        "class Employee:\n",
        "    # constructor\n",
        "    def __init__(self, name, salary):\n",
        "        # public data member\n",
        "        self.name = name\n",
        "        # private member\n",
        "        self.__salary = salary\n",
        "\n",
        "# creating object of a class\n",
        "emp = Employee('Jessa', 10000)\n",
        "\n",
        "# accessing private data members\n",
        "print('Salary:', emp.__salary)"
      ],
      "metadata": {
        "colab": {
          "base_uri": "https://localhost:8080/",
          "height": 201
        },
        "id": "wiaKMlS1-wh4",
        "outputId": "ca1c4877-ab84-4de3-e75a-80cbc198a4ed"
      },
      "execution_count": null,
      "outputs": [
        {
          "output_type": "error",
          "ename": "AttributeError",
          "evalue": "ignored",
          "traceback": [
            "\u001b[0;31m---------------------------------------------------------------------------\u001b[0m",
            "\u001b[0;31mAttributeError\u001b[0m                            Traceback (most recent call last)",
            "\u001b[0;32m<ipython-input-26-6545f17ab6db>\u001b[0m in \u001b[0;36m<module>\u001b[0;34m\u001b[0m\n\u001b[1;32m     11\u001b[0m \u001b[0;34m\u001b[0m\u001b[0m\n\u001b[1;32m     12\u001b[0m \u001b[0;31m# accessing private data members\u001b[0m\u001b[0;34m\u001b[0m\u001b[0;34m\u001b[0m\u001b[0;34m\u001b[0m\u001b[0m\n\u001b[0;32m---> 13\u001b[0;31m \u001b[0mprint\u001b[0m\u001b[0;34m(\u001b[0m\u001b[0;34m'Salary:'\u001b[0m\u001b[0;34m,\u001b[0m \u001b[0memp\u001b[0m\u001b[0;34m.\u001b[0m\u001b[0m__salary\u001b[0m\u001b[0;34m)\u001b[0m\u001b[0;34m\u001b[0m\u001b[0;34m\u001b[0m\u001b[0m\n\u001b[0m",
            "\u001b[0;31mAttributeError\u001b[0m: 'Employee' object has no attribute '__salary'"
          ]
        }
      ]
    },
    {
      "cell_type": "markdown",
      "source": [
        "In the above example, the salary is a private variable. As you know, we can’t access the private variable from the outside of that class.\n",
        "\n",
        "We can access private members from outside of a class using the following two approaches\n",
        "\n",
        "- Create public method to access private members\n",
        "- Use name mangling\n",
        "\n",
        "Let’s see each one by one\n",
        "\n",
        "##### Public method to access private members\n",
        "\n",
        "Example: Access Private member outside of a class using an instance method"
      ],
      "metadata": {
        "id": "7Kv5yZhU_qdX"
      }
    },
    {
      "cell_type": "code",
      "source": [
        "class Employee:\n",
        "    # constructor\n",
        "    def __init__(self, name, salary):\n",
        "        # public data member\n",
        "        self.name = name\n",
        "        # private member\n",
        "        self.__salary = salary\n",
        "\n",
        "    # public instance methods\n",
        "    def show(self):\n",
        "        # private members are accessible from a class\n",
        "        print(\"Name: \", self.name, 'Salary:', self.__salary)\n",
        "\n",
        "# creating object of a class\n",
        "emp1 = Employee('Ubaid', 10000)\n",
        "\n",
        "# calling public method of the class\n",
        "emp1.show()"
      ],
      "metadata": {
        "colab": {
          "base_uri": "https://localhost:8080/"
        },
        "id": "LTlqLMH-_alx",
        "outputId": "c2826f16-206e-4086-e4b7-4d1754b958ed"
      },
      "execution_count": null,
      "outputs": [
        {
          "output_type": "stream",
          "name": "stdout",
          "text": [
            "Name:  Ubaid Salary: 10000\n"
          ]
        }
      ]
    },
    {
      "cell_type": "code",
      "source": [
        "# check the members in directory\n",
        "dir(emp1)"
      ],
      "metadata": {
        "colab": {
          "base_uri": "https://localhost:8080/"
        },
        "id": "OuFh_UOxD32z",
        "outputId": "2442acaf-beec-4efe-c200-69331dce6282"
      },
      "execution_count": null,
      "outputs": [
        {
          "output_type": "execute_result",
          "data": {
            "text/plain": [
              "['_Employee__salary',\n",
              " '__class__',\n",
              " '__delattr__',\n",
              " '__dict__',\n",
              " '__dir__',\n",
              " '__doc__',\n",
              " '__eq__',\n",
              " '__format__',\n",
              " '__ge__',\n",
              " '__getattribute__',\n",
              " '__gt__',\n",
              " '__hash__',\n",
              " '__init__',\n",
              " '__init_subclass__',\n",
              " '__le__',\n",
              " '__lt__',\n",
              " '__module__',\n",
              " '__ne__',\n",
              " '__new__',\n",
              " '__reduce__',\n",
              " '__reduce_ex__',\n",
              " '__repr__',\n",
              " '__setattr__',\n",
              " '__sizeof__',\n",
              " '__str__',\n",
              " '__subclasshook__',\n",
              " '__weakref__',\n",
              " 'name',\n",
              " 'show']"
            ]
          },
          "metadata": {},
          "execution_count": 34
        }
      ]
    },
    {
      "cell_type": "markdown",
      "source": [
        "Private member is at the top of the directory along with the class name"
      ],
      "metadata": {
        "id": "k3Zd5lpZDxKK"
      }
    },
    {
      "cell_type": "markdown",
      "source": [
        "##### Name Mangling to access private members\n",
        "\n",
        "We can directly access private and protected variables from outside of a class through name mangling. The name mangling is created on an identifier by adding two leading underscores and one trailing underscore, like this _classname__dataMember, where classname is the current class, and data member is the private variable name.\n",
        "\n",
        "Example: Access private member"
      ],
      "metadata": {
        "id": "88hrQLul__2K"
      }
    },
    {
      "cell_type": "code",
      "source": [
        "class Employee:\n",
        "    # constructor\n",
        "    def __init__(self, name, salary):\n",
        "        # public data member\n",
        "        self.name = name\n",
        "        # private member\n",
        "        self.__salary = salary\n",
        "\n",
        "# creating object of a class\n",
        "emp3 = Employee('Ubaid', 10000)\n",
        "\n",
        "print('Name:', emp3.name)\n",
        "# direct access to private member using name mangling\n",
        "print('Salary:', emp3._Employee__salary)"
      ],
      "metadata": {
        "colab": {
          "base_uri": "https://localhost:8080/"
        },
        "id": "ELqJmOwx_40a",
        "outputId": "36325988-7bdb-41a2-95b6-dc198d513a46"
      },
      "execution_count": null,
      "outputs": [
        {
          "output_type": "stream",
          "name": "stdout",
          "text": [
            "Name: Ubaid\n",
            "Salary: 10000\n"
          ]
        }
      ]
    },
    {
      "cell_type": "markdown",
      "source": [
        "## Abstraction\n",
        "An abstract class can be considered as a blueprint for other classes. It allows you to create a set of methods that must be created within any child classes built from the abstract class. A class which contains one or more abstract methods is called an abstract class. An abstract method is a method that has a declaration but does not have an implementation. While we are designing large functional units we use an abstract class. When we want to provide a common interface for different implementations of a component, we use an abstract class. \n",
        "  \n",
        "**Why use Abstract Base Classes :**\n",
        "\n",
        "By defining an abstract base class, you can define a common Application Program Interface(API) for a set of subclasses. This capability is especially useful in situations where a third-party is going to provide implementations, such as with plugins, but can also help you when working in a large team or with a large code-base where keeping all classes in your mind is difficult or not possible. \n",
        "  \n",
        "**How Abstract Base classes work :**\n",
        "\n",
        "By default, Python does not provide abstract classes. Python comes with a module that provides the base for defining **Abstract Base classes(ABC)** and that **module** name is **ABC**. \n",
        "\n",
        "ABC works by decorating methods of the base class as abstract and then registering concrete classes as implementations of the abstract base. A method becomes abstract when decorated with the keyword **@abstractmethod**. \n",
        "\n",
        "For Example –\n",
        " "
      ],
      "metadata": {
        "id": "wv6EDXt9UDic"
      }
    },
    {
      "cell_type": "code",
      "source": [
        "# Python program showing abstract base class work\n",
        " \n",
        "from abc import ABC, abstractmethod\n",
        " \n",
        "class Polygon(ABC):\n",
        " \n",
        "    @abstractmethod\n",
        "    def noofsides(self):\n",
        "        pass\n",
        " \n",
        "class Triangle(Polygon):\n",
        " \n",
        "    # overriding abstract method\n",
        "    def noofsides(self):\n",
        "        print(\"Triangle have 3 sides\")\n",
        " \n",
        "class Pentagon(Polygon):\n",
        " \n",
        "    # overriding abstract method\n",
        "    def noofsides(self):\n",
        "        print(\"Pentagon have 5 sides\")\n",
        " \n",
        "class Hexagon(Polygon):\n",
        " \n",
        "    # overriding abstract method\n",
        "    def noofsides(self):\n",
        "        print(\"Hexagon have 6 sides\")\n",
        " \n",
        "class Quadrilateral(Polygon):\n",
        " \n",
        "    # overriding abstract method\n",
        "    def noofsides(self):\n",
        "        print(\"Quadrilateral have 4 sides\")\n",
        " \n",
        "# Driver code\n",
        "T = Triangle()\n",
        "T.noofsides()\n",
        " \n",
        "Q = Quadrilateral()\n",
        "Q.noofsides()\n",
        " \n",
        "P = Pentagon()\n",
        "P.noofsides()\n",
        " \n",
        "H = Hexagon()\n",
        "H.noofsides()"
      ],
      "metadata": {
        "colab": {
          "base_uri": "https://localhost:8080/"
        },
        "id": "j_wNESTuUyEX",
        "outputId": "7fc3f79a-eb8e-4504-98b5-bc79fdfa76f8"
      },
      "execution_count": null,
      "outputs": [
        {
          "output_type": "stream",
          "name": "stdout",
          "text": [
            "Triangle have 3 sides\n",
            "Quadrilateral have 4 sides\n",
            "Pentagon have 5 sides\n",
            "Hexagon have 6 sides\n"
          ]
        }
      ]
    },
    {
      "cell_type": "code",
      "source": [
        "# Python program showing\n",
        "# abstract base class work\n",
        " \n",
        "from abc import ABC, abstractmethod\n",
        "class Animal(ABC):\n",
        " \n",
        "    def move(self):\n",
        "        pass\n",
        " \n",
        "class Human(Animal):\n",
        " \n",
        "    def move(self):\n",
        "        print(\"Human can walk and run\")\n",
        " \n",
        "class Snake(Animal):\n",
        " \n",
        "    def move(self):\n",
        "        print(\"Snake can crawl\")\n",
        " \n",
        "class Dog(Animal):\n",
        " \n",
        "    def move(self):\n",
        "        print(\"Dog can bark\")\n",
        " \n",
        "class Lion(Animal):\n",
        " \n",
        "    def move(self):\n",
        "        print(\"Lion can roar\")\n",
        "         \n",
        "# Driver code\n",
        "R = Human()\n",
        "R.move()\n",
        " \n",
        "K = Snake()\n",
        "K.move()\n",
        " \n",
        "R = Dog()\n",
        "R.move()\n",
        " \n",
        "K = Lion()\n",
        "K.move()"
      ],
      "metadata": {
        "colab": {
          "base_uri": "https://localhost:8080/"
        },
        "id": "pqt5wD6EV_2T",
        "outputId": "12e9d69a-e9ce-4eab-ca18-9a371810df11"
      },
      "execution_count": null,
      "outputs": [
        {
          "output_type": "stream",
          "name": "stdout",
          "text": [
            "Human can walk and run\n",
            "Snake can crawl\n",
            "Dog can bark\n",
            "Lion can roar\n"
          ]
        }
      ]
    },
    {
      "cell_type": "markdown",
      "source": [
        "### Abstract Class Instantiation : \n",
        "Abstract classes are incomplete because they have methods that have nobody. If python allows creating an object for abstract classes then using that object if anyone calls the abstract method, but there is no actual implementation to invoke. So we use an abstract class as a template and according to the need, we extend it and build on it before we can use it. Due to the fact, an abstract class is not a concrete class, it cannot be instantiated. When we create an object for the abstract class it raises an error. \n",
        " "
      ],
      "metadata": {
        "id": "od7_9fi9ZdaU"
      }
    },
    {
      "cell_type": "code",
      "source": [
        "# Python program showing abstract class cannot be an instantiation\n",
        "from abc import ABC,abstractmethod\n",
        " \n",
        "class Animal(ABC):\n",
        "    @abstractmethod\n",
        "    def move(self):\n",
        "        pass\n",
        "class Human(Animal):\n",
        "    def move(self):\n",
        "        print(\"Human can walk and run\")\n",
        " \n",
        "class Snake(Animal):\n",
        "    def move(self):\n",
        "        print(\"Snake can crawl\")\n",
        " \n",
        "class Dog(Animal):\n",
        "    def move(self):\n",
        "        print(\"Animal can bark\")\n",
        " \n",
        "class Lion(Animal):\n",
        "    def move(self):\n",
        "        print(\"Lion can roar\")\n",
        " \n",
        "c=Animal()"
      ],
      "metadata": {
        "colab": {
          "base_uri": "https://localhost:8080/",
          "height": 201
        },
        "id": "bTOPOHoBH4-v",
        "outputId": "ff648a85-f3ee-4ec6-bb5b-7034a5e6fb4d"
      },
      "execution_count": null,
      "outputs": [
        {
          "output_type": "error",
          "ename": "TypeError",
          "evalue": "ignored",
          "traceback": [
            "\u001b[0;31m---------------------------------------------------------------------------\u001b[0m",
            "\u001b[0;31mTypeError\u001b[0m                                 Traceback (most recent call last)",
            "\u001b[0;32m<ipython-input-56-de6aa5c19ed5>\u001b[0m in \u001b[0;36m<module>\u001b[0;34m\u001b[0m\n\u001b[1;32m     22\u001b[0m         \u001b[0mprint\u001b[0m\u001b[0;34m(\u001b[0m\u001b[0;34m\"Lion can roar\"\u001b[0m\u001b[0;34m)\u001b[0m\u001b[0;34m\u001b[0m\u001b[0;34m\u001b[0m\u001b[0m\n\u001b[1;32m     23\u001b[0m \u001b[0;34m\u001b[0m\u001b[0m\n\u001b[0;32m---> 24\u001b[0;31m \u001b[0mc\u001b[0m\u001b[0;34m=\u001b[0m\u001b[0mAnimal\u001b[0m\u001b[0;34m(\u001b[0m\u001b[0;34m)\u001b[0m\u001b[0;34m\u001b[0m\u001b[0;34m\u001b[0m\u001b[0m\n\u001b[0m",
            "\u001b[0;31mTypeError\u001b[0m: Can't instantiate abstract class Animal with abstract methods move"
          ]
        }
      ]
    },
    {
      "cell_type": "code",
      "source": [],
      "metadata": {
        "id": "5axD0IqUZpvS"
      },
      "execution_count": null,
      "outputs": []
    }
  ]
}